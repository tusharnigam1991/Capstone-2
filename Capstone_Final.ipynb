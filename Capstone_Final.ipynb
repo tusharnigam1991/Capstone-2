{
  "cells": [
    {
      "cell_type": "code",
      "source": [
        "#Installing packages for Encoding variables\n",
        "!pip install category_encoders"
      ],
      "metadata": {
        "colab": {
          "base_uri": "https://localhost:8080/"
        },
        "id": "5N_wT-ifOm9N",
        "outputId": "3fa86b03-414b-49e9-aa7d-96439ba82413"
      },
      "id": "5N_wT-ifOm9N",
      "execution_count": 219,
      "outputs": [
        {
          "output_type": "stream",
          "name": "stdout",
          "text": [
            "Looking in indexes: https://pypi.org/simple, https://us-python.pkg.dev/colab-wheels/public/simple/\n",
            "Requirement already satisfied: category_encoders in /usr/local/lib/python3.7/dist-packages (2.5.0)\n",
            "Requirement already satisfied: patsy>=0.5.1 in /usr/local/lib/python3.7/dist-packages (from category_encoders) (0.5.2)\n",
            "Requirement already satisfied: scipy>=1.0.0 in /usr/local/lib/python3.7/dist-packages (from category_encoders) (1.7.3)\n",
            "Requirement already satisfied: scikit-learn>=0.20.0 in /usr/local/lib/python3.7/dist-packages (from category_encoders) (1.0.2)\n",
            "Requirement already satisfied: pandas>=1.0.5 in /usr/local/lib/python3.7/dist-packages (from category_encoders) (1.3.5)\n",
            "Requirement already satisfied: numpy>=1.14.0 in /usr/local/lib/python3.7/dist-packages (from category_encoders) (1.21.6)\n",
            "Requirement already satisfied: statsmodels>=0.9.0 in /usr/local/lib/python3.7/dist-packages (from category_encoders) (0.12.2)\n",
            "Requirement already satisfied: python-dateutil>=2.7.3 in /usr/local/lib/python3.7/dist-packages (from pandas>=1.0.5->category_encoders) (2.8.2)\n",
            "Requirement already satisfied: pytz>=2017.3 in /usr/local/lib/python3.7/dist-packages (from pandas>=1.0.5->category_encoders) (2022.2.1)\n",
            "Requirement already satisfied: six in /usr/local/lib/python3.7/dist-packages (from patsy>=0.5.1->category_encoders) (1.15.0)\n",
            "Requirement already satisfied: threadpoolctl>=2.0.0 in /usr/local/lib/python3.7/dist-packages (from scikit-learn>=0.20.0->category_encoders) (3.1.0)\n",
            "Requirement already satisfied: joblib>=0.11 in /usr/local/lib/python3.7/dist-packages (from scikit-learn>=0.20.0->category_encoders) (1.1.0)\n"
          ]
        }
      ]
    },
    {
      "cell_type": "code",
      "source": [
        "#Importing the required packages\n",
        "import pandas as pd\n",
        "import seaborn as sns\n",
        "import matplotlib.pyplot as plt\n",
        "import numpy as np\n",
        "import category_encoders as ce\n",
        "from sklearn.model_selection import train_test_split, RandomizedSearchCV\n",
        "from sklearn import tree, metrics\n",
        "import graphviz\n",
        "from sklearn.metrics import roc_curve, auc, recall_score, precision_score, accuracy_score, f1_score\n",
        "from sklearn.ensemble import RandomForestClassifier\n",
        "from sklearn.linear_model import LogisticRegression\n",
        "from sklearn.naive_bayes import BernoulliNB\n",
        "from xgboost import XGBClassifier\n",
        "from mlxtend.frequent_patterns import apriori, association_rules\n",
        "from sklearn.cluster import KMeans\n",
        "%matplotlib inline"
      ],
      "metadata": {
        "id": "8CYnjcswrN61"
      },
      "id": "8CYnjcswrN61",
      "execution_count": 220,
      "outputs": []
    },
    {
      "cell_type": "code",
      "source": [
        "from IPython.core.interactiveshell import InteractiveShell\n",
        "InteractiveShell.ast_node_interactivity = \"all\""
      ],
      "metadata": {
        "id": "-azhUtsxxHgd"
      },
      "id": "-azhUtsxxHgd",
      "execution_count": 221,
      "outputs": []
    },
    {
      "cell_type": "code",
      "source": [
        "#Connecting to google drive for dataset\n",
        "from google.colab import drive\n",
        "drive.mount('/content/drive')"
      ],
      "metadata": {
        "colab": {
          "base_uri": "https://localhost:8080/"
        },
        "id": "fWIjpORqopHg",
        "outputId": "93e4da12-952e-4003-d448-89a756234c75"
      },
      "id": "fWIjpORqopHg",
      "execution_count": 222,
      "outputs": [
        {
          "output_type": "stream",
          "name": "stdout",
          "text": [
            "Drive already mounted at /content/drive; to attempt to forcibly remount, call drive.mount(\"/content/drive\", force_remount=True).\n"
          ]
        }
      ]
    },
    {
      "cell_type": "code",
      "execution_count": 223,
      "id": "38d303aa",
      "metadata": {
        "id": "38d303aa"
      },
      "outputs": [],
      "source": [
        "#Read dataset\n",
        "data = pd.read_csv(\"/content/drive/MyDrive/Dataset.csv\")"
      ]
    },
    {
      "cell_type": "code",
      "execution_count": 224,
      "id": "ed7eb36d",
      "metadata": {
        "colab": {
          "base_uri": "https://localhost:8080/",
          "height": 270
        },
        "id": "ed7eb36d",
        "outputId": "a753bbf4-abc9-408b-87ab-2c67b58cdb29"
      },
      "outputs": [
        {
          "output_type": "execute_result",
          "data": {
            "text/plain": [
              "   Id     Domain  Region  No_of_Products_already_purchased  \\\n",
              "0   1  Education  Africa                                 1   \n",
              "1   2  Education  Africa                                 1   \n",
              "2   3  Education  Africa                                 1   \n",
              "3   4  Education  Africa                                 1   \n",
              "4   5  Education  Africa                                 1   \n",
              "\n",
              "   Using_Similar_Product  CPQ_Customer  CLM_Customer  IWA_Customer  \\\n",
              "0                      1             1             0             0   \n",
              "1                      1             1             0             0   \n",
              "2                      0             1             0             0   \n",
              "3                      0             1             0             0   \n",
              "4                      1             1             0             0   \n",
              "\n",
              "   No_of_times_of_Renewal_  Purchased No_Of_Years_Of_Association_Binned  \\\n",
              "0                        4          1                             00-04   \n",
              "1                        3          1                             00-04   \n",
              "2                        3          1                             00-04   \n",
              "3                        1          1                             00-04   \n",
              "4                        2          1                             00-04   \n",
              "\n",
              "  No_Of_Bugs_Reported_Binned  \n",
              "0                     10-Jun  \n",
              "1                     10-Jun  \n",
              "2                     10-Jun  \n",
              "3                     10-Jun  \n",
              "4                     10-Jun  "
            ],
            "text/html": [
              "\n",
              "  <div id=\"df-d96379dd-814a-4fb6-a5d3-49b1d7de4115\">\n",
              "    <div class=\"colab-df-container\">\n",
              "      <div>\n",
              "<style scoped>\n",
              "    .dataframe tbody tr th:only-of-type {\n",
              "        vertical-align: middle;\n",
              "    }\n",
              "\n",
              "    .dataframe tbody tr th {\n",
              "        vertical-align: top;\n",
              "    }\n",
              "\n",
              "    .dataframe thead th {\n",
              "        text-align: right;\n",
              "    }\n",
              "</style>\n",
              "<table border=\"1\" class=\"dataframe\">\n",
              "  <thead>\n",
              "    <tr style=\"text-align: right;\">\n",
              "      <th></th>\n",
              "      <th>Id</th>\n",
              "      <th>Domain</th>\n",
              "      <th>Region</th>\n",
              "      <th>No_of_Products_already_purchased</th>\n",
              "      <th>Using_Similar_Product</th>\n",
              "      <th>CPQ_Customer</th>\n",
              "      <th>CLM_Customer</th>\n",
              "      <th>IWA_Customer</th>\n",
              "      <th>No_of_times_of_Renewal_</th>\n",
              "      <th>Purchased</th>\n",
              "      <th>No_Of_Years_Of_Association_Binned</th>\n",
              "      <th>No_Of_Bugs_Reported_Binned</th>\n",
              "    </tr>\n",
              "  </thead>\n",
              "  <tbody>\n",
              "    <tr>\n",
              "      <th>0</th>\n",
              "      <td>1</td>\n",
              "      <td>Education</td>\n",
              "      <td>Africa</td>\n",
              "      <td>1</td>\n",
              "      <td>1</td>\n",
              "      <td>1</td>\n",
              "      <td>0</td>\n",
              "      <td>0</td>\n",
              "      <td>4</td>\n",
              "      <td>1</td>\n",
              "      <td>00-04</td>\n",
              "      <td>10-Jun</td>\n",
              "    </tr>\n",
              "    <tr>\n",
              "      <th>1</th>\n",
              "      <td>2</td>\n",
              "      <td>Education</td>\n",
              "      <td>Africa</td>\n",
              "      <td>1</td>\n",
              "      <td>1</td>\n",
              "      <td>1</td>\n",
              "      <td>0</td>\n",
              "      <td>0</td>\n",
              "      <td>3</td>\n",
              "      <td>1</td>\n",
              "      <td>00-04</td>\n",
              "      <td>10-Jun</td>\n",
              "    </tr>\n",
              "    <tr>\n",
              "      <th>2</th>\n",
              "      <td>3</td>\n",
              "      <td>Education</td>\n",
              "      <td>Africa</td>\n",
              "      <td>1</td>\n",
              "      <td>0</td>\n",
              "      <td>1</td>\n",
              "      <td>0</td>\n",
              "      <td>0</td>\n",
              "      <td>3</td>\n",
              "      <td>1</td>\n",
              "      <td>00-04</td>\n",
              "      <td>10-Jun</td>\n",
              "    </tr>\n",
              "    <tr>\n",
              "      <th>3</th>\n",
              "      <td>4</td>\n",
              "      <td>Education</td>\n",
              "      <td>Africa</td>\n",
              "      <td>1</td>\n",
              "      <td>0</td>\n",
              "      <td>1</td>\n",
              "      <td>0</td>\n",
              "      <td>0</td>\n",
              "      <td>1</td>\n",
              "      <td>1</td>\n",
              "      <td>00-04</td>\n",
              "      <td>10-Jun</td>\n",
              "    </tr>\n",
              "    <tr>\n",
              "      <th>4</th>\n",
              "      <td>5</td>\n",
              "      <td>Education</td>\n",
              "      <td>Africa</td>\n",
              "      <td>1</td>\n",
              "      <td>1</td>\n",
              "      <td>1</td>\n",
              "      <td>0</td>\n",
              "      <td>0</td>\n",
              "      <td>2</td>\n",
              "      <td>1</td>\n",
              "      <td>00-04</td>\n",
              "      <td>10-Jun</td>\n",
              "    </tr>\n",
              "  </tbody>\n",
              "</table>\n",
              "</div>\n",
              "      <button class=\"colab-df-convert\" onclick=\"convertToInteractive('df-d96379dd-814a-4fb6-a5d3-49b1d7de4115')\"\n",
              "              title=\"Convert this dataframe to an interactive table.\"\n",
              "              style=\"display:none;\">\n",
              "        \n",
              "  <svg xmlns=\"http://www.w3.org/2000/svg\" height=\"24px\"viewBox=\"0 0 24 24\"\n",
              "       width=\"24px\">\n",
              "    <path d=\"M0 0h24v24H0V0z\" fill=\"none\"/>\n",
              "    <path d=\"M18.56 5.44l.94 2.06.94-2.06 2.06-.94-2.06-.94-.94-2.06-.94 2.06-2.06.94zm-11 1L8.5 8.5l.94-2.06 2.06-.94-2.06-.94L8.5 2.5l-.94 2.06-2.06.94zm10 10l.94 2.06.94-2.06 2.06-.94-2.06-.94-.94-2.06-.94 2.06-2.06.94z\"/><path d=\"M17.41 7.96l-1.37-1.37c-.4-.4-.92-.59-1.43-.59-.52 0-1.04.2-1.43.59L10.3 9.45l-7.72 7.72c-.78.78-.78 2.05 0 2.83L4 21.41c.39.39.9.59 1.41.59.51 0 1.02-.2 1.41-.59l7.78-7.78 2.81-2.81c.8-.78.8-2.07 0-2.86zM5.41 20L4 18.59l7.72-7.72 1.47 1.35L5.41 20z\"/>\n",
              "  </svg>\n",
              "      </button>\n",
              "      \n",
              "  <style>\n",
              "    .colab-df-container {\n",
              "      display:flex;\n",
              "      flex-wrap:wrap;\n",
              "      gap: 12px;\n",
              "    }\n",
              "\n",
              "    .colab-df-convert {\n",
              "      background-color: #E8F0FE;\n",
              "      border: none;\n",
              "      border-radius: 50%;\n",
              "      cursor: pointer;\n",
              "      display: none;\n",
              "      fill: #1967D2;\n",
              "      height: 32px;\n",
              "      padding: 0 0 0 0;\n",
              "      width: 32px;\n",
              "    }\n",
              "\n",
              "    .colab-df-convert:hover {\n",
              "      background-color: #E2EBFA;\n",
              "      box-shadow: 0px 1px 2px rgba(60, 64, 67, 0.3), 0px 1px 3px 1px rgba(60, 64, 67, 0.15);\n",
              "      fill: #174EA6;\n",
              "    }\n",
              "\n",
              "    [theme=dark] .colab-df-convert {\n",
              "      background-color: #3B4455;\n",
              "      fill: #D2E3FC;\n",
              "    }\n",
              "\n",
              "    [theme=dark] .colab-df-convert:hover {\n",
              "      background-color: #434B5C;\n",
              "      box-shadow: 0px 1px 3px 1px rgba(0, 0, 0, 0.15);\n",
              "      filter: drop-shadow(0px 1px 2px rgba(0, 0, 0, 0.3));\n",
              "      fill: #FFFFFF;\n",
              "    }\n",
              "  </style>\n",
              "\n",
              "      <script>\n",
              "        const buttonEl =\n",
              "          document.querySelector('#df-d96379dd-814a-4fb6-a5d3-49b1d7de4115 button.colab-df-convert');\n",
              "        buttonEl.style.display =\n",
              "          google.colab.kernel.accessAllowed ? 'block' : 'none';\n",
              "\n",
              "        async function convertToInteractive(key) {\n",
              "          const element = document.querySelector('#df-d96379dd-814a-4fb6-a5d3-49b1d7de4115');\n",
              "          const dataTable =\n",
              "            await google.colab.kernel.invokeFunction('convertToInteractive',\n",
              "                                                     [key], {});\n",
              "          if (!dataTable) return;\n",
              "\n",
              "          const docLinkHtml = 'Like what you see? Visit the ' +\n",
              "            '<a target=\"_blank\" href=https://colab.research.google.com/notebooks/data_table.ipynb>data table notebook</a>'\n",
              "            + ' to learn more about interactive tables.';\n",
              "          element.innerHTML = '';\n",
              "          dataTable['output_type'] = 'display_data';\n",
              "          await google.colab.output.renderOutput(dataTable, element);\n",
              "          const docLink = document.createElement('div');\n",
              "          docLink.innerHTML = docLinkHtml;\n",
              "          element.appendChild(docLink);\n",
              "        }\n",
              "      </script>\n",
              "    </div>\n",
              "  </div>\n",
              "  "
            ]
          },
          "metadata": {},
          "execution_count": 224
        }
      ],
      "source": [
        "#Explore sample of dataset\n",
        "data.head()"
      ]
    },
    {
      "cell_type": "code",
      "execution_count": 225,
      "id": "22050650",
      "metadata": {
        "colab": {
          "base_uri": "https://localhost:8080/"
        },
        "id": "22050650",
        "outputId": "fd6f98f8-bcca-41c7-e996-26f38a5cdeeb"
      },
      "outputs": [
        {
          "output_type": "execute_result",
          "data": {
            "text/plain": [
              "(6560, 12)"
            ]
          },
          "metadata": {},
          "execution_count": 225
        }
      ],
      "source": [
        "data.shape"
      ]
    },
    {
      "cell_type": "code",
      "source": [
        "# Data Exploration"
      ],
      "metadata": {
        "id": "xnh_N0bS-FdV"
      },
      "id": "xnh_N0bS-FdV",
      "execution_count": 226,
      "outputs": []
    },
    {
      "cell_type": "code",
      "source": [
        "data['Purchased'].value_counts()"
      ],
      "metadata": {
        "colab": {
          "base_uri": "https://localhost:8080/"
        },
        "id": "2rjZ6VWyqPHE",
        "outputId": "d3427c80-8784-4513-8852-c734cf06191c"
      },
      "id": "2rjZ6VWyqPHE",
      "execution_count": 227,
      "outputs": [
        {
          "output_type": "execute_result",
          "data": {
            "text/plain": [
              "0    3674\n",
              "1    2886\n",
              "Name: Purchased, dtype: int64"
            ]
          },
          "metadata": {},
          "execution_count": 227
        }
      ]
    },
    {
      "cell_type": "code",
      "source": [
        "# Check Null Values\n",
        "data.isna().any()"
      ],
      "metadata": {
        "colab": {
          "base_uri": "https://localhost:8080/"
        },
        "id": "Qv_DMcDRp4jf",
        "outputId": "df5bf531-f6fe-47d9-c0e0-d4eca59cbdcb"
      },
      "id": "Qv_DMcDRp4jf",
      "execution_count": 228,
      "outputs": [
        {
          "output_type": "execute_result",
          "data": {
            "text/plain": [
              "Id                                   False\n",
              "Domain                               False\n",
              "Region                               False\n",
              "No_of_Products_already_purchased     False\n",
              "Using_Similar_Product                False\n",
              "CPQ_Customer                         False\n",
              "CLM_Customer                         False\n",
              "IWA_Customer                         False\n",
              "No_of_times_of_Renewal_              False\n",
              "Purchased                            False\n",
              "No_Of_Years_Of_Association_Binned    False\n",
              "No_Of_Bugs_Reported_Binned           False\n",
              "dtype: bool"
            ]
          },
          "metadata": {},
          "execution_count": 228
        }
      ]
    },
    {
      "cell_type": "code",
      "source": [
        "#Unique values for Domain variable\n",
        "data['Domain'].unique()"
      ],
      "metadata": {
        "colab": {
          "base_uri": "https://localhost:8080/"
        },
        "id": "h0iijvEwIL5z",
        "outputId": "f93c496c-3ab1-4b86-8e37-482d010e7af8"
      },
      "id": "h0iijvEwIL5z",
      "execution_count": 229,
      "outputs": [
        {
          "output_type": "execute_result",
          "data": {
            "text/plain": [
              "array(['Education', 'Finance', 'Healthcare', 'Telecom', 'Insurance',\n",
              "       'Retail'], dtype=object)"
            ]
          },
          "metadata": {},
          "execution_count": 229
        }
      ]
    },
    {
      "cell_type": "code",
      "source": [
        "#Unique values for Region variable\n",
        "data['Region'].unique()"
      ],
      "metadata": {
        "colab": {
          "base_uri": "https://localhost:8080/"
        },
        "id": "_hhTVraKOQ0O",
        "outputId": "30ad7a92-98b5-4403-f315-086c22880446"
      },
      "id": "_hhTVraKOQ0O",
      "execution_count": 230,
      "outputs": [
        {
          "output_type": "execute_result",
          "data": {
            "text/plain": [
              "array(['Africa', 'Asia', 'Australia', 'Europe', 'North America',\n",
              "       'South America'], dtype=object)"
            ]
          },
          "metadata": {},
          "execution_count": 230
        }
      ]
    },
    {
      "cell_type": "code",
      "source": [
        "#Plotting chart for the customers who purchased vs who did not purchased the new product\n",
        "sns.countplot(data=data,x='Purchased')"
      ],
      "metadata": {
        "colab": {
          "base_uri": "https://localhost:8080/",
          "height": 296
        },
        "id": "8qtWd3BeEOzS",
        "outputId": "7cca6b9d-84ac-4d3d-c2b7-2f60e388d546"
      },
      "id": "8qtWd3BeEOzS",
      "execution_count": 231,
      "outputs": [
        {
          "output_type": "execute_result",
          "data": {
            "text/plain": [
              "<matplotlib.axes._subplots.AxesSubplot at 0x7f67b5b92b90>"
            ]
          },
          "metadata": {},
          "execution_count": 231
        },
        {
          "output_type": "display_data",
          "data": {
            "text/plain": [
              "<Figure size 432x288 with 1 Axes>"
            ],
            "image/png": "[encoded data removed]"
          },
          "metadata": {
            "needs_background": "light"
          }
        }
      ]
    },
    {
      "cell_type": "code",
      "source": [
        "## Plot Chart Reusable function\n",
        "def plot_chart(column):\n",
        "  keys = np.unique(data[column])\n",
        "  percentage_list = [];\n",
        "\n",
        "  for key in keys :\n",
        "    purchased_count = len(data[(data[column] == key) & (data['Purchased'] == 1)])\n",
        "    total_count = len(data[data[column] == key])\n",
        "    percentage = ((purchased_count/total_count)*100)\n",
        "    percentage_list.append(percentage)\n",
        "\n",
        "  plt.bar(keys, percentage_list)\n",
        "  plt.xlabel(column)\n",
        "  plt.ylabel(\"% of customer purchased the new product\")\n",
        "  plt.show()\n",
        "  "
      ],
      "metadata": {
        "id": "ttpUWCdrVAI6"
      },
      "id": "ttpUWCdrVAI6",
      "execution_count": 232,
      "outputs": []
    },
    {
      "cell_type": "code",
      "source": [
        "#Sales by Domain\n",
        "plot_chart('Domain')"
      ],
      "metadata": {
        "colab": {
          "base_uri": "https://localhost:8080/",
          "height": 279
        },
        "id": "dpcFyg1kJZ_4",
        "outputId": "8874614f-2654-44ed-ce01-1e8e2153c085"
      },
      "id": "dpcFyg1kJZ_4",
      "execution_count": 233,
      "outputs": [
        {
          "output_type": "display_data",
          "data": {
            "text/plain": [
              "<Figure size 432x288 with 1 Axes>"
            ],
            "image/png": "[encoded data removed]"
          },
          "metadata": {
            "needs_background": "light"
          }
        }
      ]
    },
    {
      "cell_type": "code",
      "source": [
        "#Sales by Region\n",
        "plot_chart('Region')"
      ],
      "metadata": {
        "colab": {
          "base_uri": "https://localhost:8080/",
          "height": 279
        },
        "id": "r8U2FkWYDuXJ",
        "outputId": "081bba60-e2bb-40d1-ccf3-eea91c5cd23f"
      },
      "id": "r8U2FkWYDuXJ",
      "execution_count": 234,
      "outputs": [
        {
          "output_type": "display_data",
          "data": {
            "text/plain": [
              "<Figure size 432x288 with 1 Axes>"
            ],
            "image/png": "[encoded data removed]"
          },
          "metadata": {
            "needs_background": "light"
          }
        }
      ]
    },
    {
      "cell_type": "code",
      "source": [
        "#Sales by No. of products already purchased by the customers\n",
        "plot_chart('No_of_Products_already_purchased')"
      ],
      "metadata": {
        "colab": {
          "base_uri": "https://localhost:8080/",
          "height": 280
        },
        "id": "5WF2tPg-kaSw",
        "outputId": "3573f09a-584f-488e-d839-2f5945c17d1b"
      },
      "id": "5WF2tPg-kaSw",
      "execution_count": 235,
      "outputs": [
        {
          "output_type": "display_data",
          "data": {
            "text/plain": [
              "<Figure size 432x288 with 1 Axes>"
            ],
            "image/png": "[encoded data removed]"
          },
          "metadata": {
            "needs_background": "light"
          }
        }
      ]
    },
    {
      "cell_type": "code",
      "source": [
        "#Formatting the values which were incorrectly picked as date from csv\n",
        "data['No_Of_Years_Of_Association_Binned'].replace([\"12-Sep\", \"8-May\"], [\"09-12\", \"05-08\"], inplace=True)\n",
        "#Sales by No. of years of association\n",
        "plot_chart('No_Of_Years_Of_Association_Binned')"
      ],
      "metadata": {
        "colab": {
          "base_uri": "https://localhost:8080/",
          "height": 280
        },
        "id": "t5AdWz5I43kD",
        "outputId": "78a0c9f1-f15e-4f25-d35b-56ef844f3dea"
      },
      "id": "t5AdWz5I43kD",
      "execution_count": 236,
      "outputs": [
        {
          "output_type": "display_data",
          "data": {
            "text/plain": [
              "<Figure size 432x288 with 1 Axes>"
            ],
            "image/png": "[encoded data removed]"
          },
          "metadata": {
            "needs_background": "light"
          }
        }
      ]
    },
    {
      "cell_type": "code",
      "source": [
        "#Formatting the values which were incorrectly picked as date from csv\n",
        "data['No_Of_Bugs_Reported_Binned'].replace([\"10-Jun\", \"15-Nov\"], [\"06-10\", \"11-15\"], inplace=True)\n",
        "#Sales by No. of bugs reported from existing products\n",
        "plot_chart('No_Of_Bugs_Reported_Binned')"
      ],
      "metadata": {
        "colab": {
          "base_uri": "https://localhost:8080/",
          "height": 280
        },
        "id": "wKKd_lEI4305",
        "outputId": "5f347962-3a3b-435d-e716-72edcf67d73b"
      },
      "id": "wKKd_lEI4305",
      "execution_count": 237,
      "outputs": [
        {
          "output_type": "display_data",
          "data": {
            "text/plain": [
              "<Figure size 432x288 with 1 Axes>"
            ],
            "image/png": "[encoded data removed]"
          },
          "metadata": {
            "needs_background": "light"
          }
        }
      ]
    },
    {
      "cell_type": "code",
      "execution_count": 238,
      "id": "58931f91",
      "metadata": {
        "id": "58931f91"
      },
      "outputs": [],
      "source": [
        "# Data Preprocessing"
      ]
    },
    {
      "cell_type": "code",
      "source": [
        "#Plotting heatmap for correlations\n",
        "sns.heatmap(data.corr(), cmap=\"YlGnBu\", annot=True)\n",
        "plt.show()"
      ],
      "metadata": {
        "colab": {
          "base_uri": "https://localhost:8080/",
          "height": 452
        },
        "id": "iNI0g16VVL-y",
        "outputId": "ef212b26-60a5-45e3-d39e-fe81de572edf"
      },
      "id": "iNI0g16VVL-y",
      "execution_count": 239,
      "outputs": [
        {
          "output_type": "execute_result",
          "data": {
            "text/plain": [
              "<matplotlib.axes._subplots.AxesSubplot at 0x7f67b3a61510>"
            ]
          },
          "metadata": {},
          "execution_count": 239
        },
        {
          "output_type": "display_data",
          "data": {
            "text/plain": [
              "<Figure size 432x288 with 2 Axes>"
            ],
            "image/png": "[encoded data removed]"
          },
          "metadata": {
            "needs_background": "light"
          }
        }
      ]
    },
    {
      "cell_type": "code",
      "source": [
        "# Convert No_Of_Years_Of_Association_Binned to Numerical Values\n",
        "data['No_Of_Years_Of_Association_Binned'].replace([\"00-04\", \"05-08\", \"09-12\", \"13-16\"],\n",
        "                        [1, 2, 3, 4], inplace=True)\n",
        "data.head()"
      ],
      "metadata": {
        "colab": {
          "base_uri": "https://localhost:8080/",
          "height": 270
        },
        "id": "kedfPLn25gls",
        "outputId": "a93b66f4-0bea-4bd5-bac6-cf997f638479"
      },
      "id": "kedfPLn25gls",
      "execution_count": 240,
      "outputs": [
        {
          "output_type": "execute_result",
          "data": {
            "text/plain": [
              "   Id     Domain  Region  No_of_Products_already_purchased  \\\n",
              "0   1  Education  Africa                                 1   \n",
              "1   2  Education  Africa                                 1   \n",
              "2   3  Education  Africa                                 1   \n",
              "3   4  Education  Africa                                 1   \n",
              "4   5  Education  Africa                                 1   \n",
              "\n",
              "   Using_Similar_Product  CPQ_Customer  CLM_Customer  IWA_Customer  \\\n",
              "0                      1             1             0             0   \n",
              "1                      1             1             0             0   \n",
              "2                      0             1             0             0   \n",
              "3                      0             1             0             0   \n",
              "4                      1             1             0             0   \n",
              "\n",
              "   No_of_times_of_Renewal_  Purchased  No_Of_Years_Of_Association_Binned  \\\n",
              "0                        4          1                                  1   \n",
              "1                        3          1                                  1   \n",
              "2                        3          1                                  1   \n",
              "3                        1          1                                  1   \n",
              "4                        2          1                                  1   \n",
              "\n",
              "  No_Of_Bugs_Reported_Binned  \n",
              "0                      06-10  \n",
              "1                      06-10  \n",
              "2                      06-10  \n",
              "3                      06-10  \n",
              "4                      06-10  "
            ],
            "text/html": [
              "\n",
              "  <div id=\"df-4609ff18-2472-4ddf-b011-f28be88499b4\">\n",
              "    <div class=\"colab-df-container\">\n",
              "      <div>\n",
              "<style scoped>\n",
              "    .dataframe tbody tr th:only-of-type {\n",
              "        vertical-align: middle;\n",
              "    }\n",
              "\n",
              "    .dataframe tbody tr th {\n",
              "        vertical-align: top;\n",
              "    }\n",
              "\n",
              "    .dataframe thead th {\n",
              "        text-align: right;\n",
              "    }\n",
              "</style>\n",
              "<table border=\"1\" class=\"dataframe\">\n",
              "  <thead>\n",
              "    <tr style=\"text-align: right;\">\n",
              "      <th></th>\n",
              "      <th>Id</th>\n",
              "      <th>Domain</th>\n",
              "      <th>Region</th>\n",
              "      <th>No_of_Products_already_purchased</th>\n",
              "      <th>Using_Similar_Product</th>\n",
              "      <th>CPQ_Customer</th>\n",
              "      <th>CLM_Customer</th>\n",
              "      <th>IWA_Customer</th>\n",
              "      <th>No_of_times_of_Renewal_</th>\n",
              "      <th>Purchased</th>\n",
              "      <th>No_Of_Years_Of_Association_Binned</th>\n",
              "      <th>No_Of_Bugs_Reported_Binned</th>\n",
              "    </tr>\n",
              "  </thead>\n",
              "  <tbody>\n",
              "    <tr>\n",
              "      <th>0</th>\n",
              "      <td>1</td>\n",
              "      <td>Education</td>\n",
              "      <td>Africa</td>\n",
              "      <td>1</td>\n",
              "      <td>1</td>\n",
              "      <td>1</td>\n",
              "      <td>0</td>\n",
              "      <td>0</td>\n",
              "      <td>4</td>\n",
              "      <td>1</td>\n",
              "      <td>1</td>\n",
              "      <td>06-10</td>\n",
              "    </tr>\n",
              "    <tr>\n",
              "      <th>1</th>\n",
              "      <td>2</td>\n",
              "      <td>Education</td>\n",
              "      <td>Africa</td>\n",
              "      <td>1</td>\n",
              "      <td>1</td>\n",
              "      <td>1</td>\n",
              "      <td>0</td>\n",
              "      <td>0</td>\n",
              "      <td>3</td>\n",
              "      <td>1</td>\n",
              "      <td>1</td>\n",
              "      <td>06-10</td>\n",
              "    </tr>\n",
              "    <tr>\n",
              "      <th>2</th>\n",
              "      <td>3</td>\n",
              "      <td>Education</td>\n",
              "      <td>Africa</td>\n",
              "      <td>1</td>\n",
              "      <td>0</td>\n",
              "      <td>1</td>\n",
              "      <td>0</td>\n",
              "      <td>0</td>\n",
              "      <td>3</td>\n",
              "      <td>1</td>\n",
              "      <td>1</td>\n",
              "      <td>06-10</td>\n",
              "    </tr>\n",
              "    <tr>\n",
              "      <th>3</th>\n",
              "      <td>4</td>\n",
              "      <td>Education</td>\n",
              "      <td>Africa</td>\n",
              "      <td>1</td>\n",
              "      <td>0</td>\n",
              "      <td>1</td>\n",
              "      <td>0</td>\n",
              "      <td>0</td>\n",
              "      <td>1</td>\n",
              "      <td>1</td>\n",
              "      <td>1</td>\n",
              "      <td>06-10</td>\n",
              "    </tr>\n",
              "    <tr>\n",
              "      <th>4</th>\n",
              "      <td>5</td>\n",
              "      <td>Education</td>\n",
              "      <td>Africa</td>\n",
              "      <td>1</td>\n",
              "      <td>1</td>\n",
              "      <td>1</td>\n",
              "      <td>0</td>\n",
              "      <td>0</td>\n",
              "      <td>2</td>\n",
              "      <td>1</td>\n",
              "      <td>1</td>\n",
              "      <td>06-10</td>\n",
              "    </tr>\n",
              "  </tbody>\n",
              "</table>\n",
              "</div>\n",
              "      <button class=\"colab-df-convert\" onclick=\"convertToInteractive('df-4609ff18-2472-4ddf-b011-f28be88499b4')\"\n",
              "              title=\"Convert this dataframe to an interactive table.\"\n",
              "              style=\"display:none;\">\n",
              "        \n",
              "  <svg xmlns=\"http://www.w3.org/2000/svg\" height=\"24px\"viewBox=\"0 0 24 24\"\n",
              "       width=\"24px\">\n",
              "    <path d=\"M0 0h24v24H0V0z\" fill=\"none\"/>\n",
              "    <path d=\"M18.56 5.44l.94 2.06.94-2.06 2.06-.94-2.06-.94-.94-2.06-.94 2.06-2.06.94zm-11 1L8.5 8.5l.94-2.06 2.06-.94-2.06-.94L8.5 2.5l-.94 2.06-2.06.94zm10 10l.94 2.06.94-2.06 2.06-.94-2.06-.94-.94-2.06-.94 2.06-2.06.94z\"/><path d=\"M17.41 7.96l-1.37-1.37c-.4-.4-.92-.59-1.43-.59-.52 0-1.04.2-1.43.59L10.3 9.45l-7.72 7.72c-.78.78-.78 2.05 0 2.83L4 21.41c.39.39.9.59 1.41.59.51 0 1.02-.2 1.41-.59l7.78-7.78 2.81-2.81c.8-.78.8-2.07 0-2.86zM5.41 20L4 18.59l7.72-7.72 1.47 1.35L5.41 20z\"/>\n",
              "  </svg>\n",
              "      </button>\n",
              "      \n",
              "  <style>\n",
              "    .colab-df-container {\n",
              "      display:flex;\n",
              "      flex-wrap:wrap;\n",
              "      gap: 12px;\n",
              "    }\n",
              "\n",
              "    .colab-df-convert {\n",
              "      background-color: #E8F0FE;\n",
              "      border: none;\n",
              "      border-radius: 50%;\n",
              "      cursor: pointer;\n",
              "      display: none;\n",
              "      fill: #1967D2;\n",
              "      height: 32px;\n",
              "      padding: 0 0 0 0;\n",
              "      width: 32px;\n",
              "    }\n",
              "\n",
              "    .colab-df-convert:hover {\n",
              "      background-color: #E2EBFA;\n",
              "      box-shadow: 0px 1px 2px rgba(60, 64, 67, 0.3), 0px 1px 3px 1px rgba(60, 64, 67, 0.15);\n",
              "      fill: #174EA6;\n",
              "    }\n",
              "\n",
              "    [theme=dark] .colab-df-convert {\n",
              "      background-color: #3B4455;\n",
              "      fill: #D2E3FC;\n",
              "    }\n",
              "\n",
              "    [theme=dark] .colab-df-convert:hover {\n",
              "      background-color: #434B5C;\n",
              "      box-shadow: 0px 1px 3px 1px rgba(0, 0, 0, 0.15);\n",
              "      filter: drop-shadow(0px 1px 2px rgba(0, 0, 0, 0.3));\n",
              "      fill: #FFFFFF;\n",
              "    }\n",
              "  </style>\n",
              "\n",
              "      <script>\n",
              "        const buttonEl =\n",
              "          document.querySelector('#df-4609ff18-2472-4ddf-b011-f28be88499b4 button.colab-df-convert');\n",
              "        buttonEl.style.display =\n",
              "          google.colab.kernel.accessAllowed ? 'block' : 'none';\n",
              "\n",
              "        async function convertToInteractive(key) {\n",
              "          const element = document.querySelector('#df-4609ff18-2472-4ddf-b011-f28be88499b4');\n",
              "          const dataTable =\n",
              "            await google.colab.kernel.invokeFunction('convertToInteractive',\n",
              "                                                     [key], {});\n",
              "          if (!dataTable) return;\n",
              "\n",
              "          const docLinkHtml = 'Like what you see? Visit the ' +\n",
              "            '<a target=\"_blank\" href=https://colab.research.google.com/notebooks/data_table.ipynb>data table notebook</a>'\n",
              "            + ' to learn more about interactive tables.';\n",
              "          element.innerHTML = '';\n",
              "          dataTable['output_type'] = 'display_data';\n",
              "          await google.colab.output.renderOutput(dataTable, element);\n",
              "          const docLink = document.createElement('div');\n",
              "          docLink.innerHTML = docLinkHtml;\n",
              "          element.appendChild(docLink);\n",
              "        }\n",
              "      </script>\n",
              "    </div>\n",
              "  </div>\n",
              "  "
            ]
          },
          "metadata": {},
          "execution_count": 240
        }
      ]
    },
    {
      "cell_type": "code",
      "source": [
        "# Convert No_Of_Bugs_Reported_Binned to Numerical Values\n",
        "data['No_Of_Bugs_Reported_Binned'].replace([\"06-10\", \"11-15\", \"16-20\", \"21-25\"],\n",
        "                        [1, 2, 3, 4], inplace=True)\n",
        "data.head()"
      ],
      "metadata": {
        "colab": {
          "base_uri": "https://localhost:8080/",
          "height": 270
        },
        "id": "GREhlrdH50Wb",
        "outputId": "ce949e24-36d1-47a7-c465-7bcc3b2731b0"
      },
      "id": "GREhlrdH50Wb",
      "execution_count": 241,
      "outputs": [
        {
          "output_type": "execute_result",
          "data": {
            "text/plain": [
              "   Id     Domain  Region  No_of_Products_already_purchased  \\\n",
              "0   1  Education  Africa                                 1   \n",
              "1   2  Education  Africa                                 1   \n",
              "2   3  Education  Africa                                 1   \n",
              "3   4  Education  Africa                                 1   \n",
              "4   5  Education  Africa                                 1   \n",
              "\n",
              "   Using_Similar_Product  CPQ_Customer  CLM_Customer  IWA_Customer  \\\n",
              "0                      1             1             0             0   \n",
              "1                      1             1             0             0   \n",
              "2                      0             1             0             0   \n",
              "3                      0             1             0             0   \n",
              "4                      1             1             0             0   \n",
              "\n",
              "   No_of_times_of_Renewal_  Purchased  No_Of_Years_Of_Association_Binned  \\\n",
              "0                        4          1                                  1   \n",
              "1                        3          1                                  1   \n",
              "2                        3          1                                  1   \n",
              "3                        1          1                                  1   \n",
              "4                        2          1                                  1   \n",
              "\n",
              "   No_Of_Bugs_Reported_Binned  \n",
              "0                           1  \n",
              "1                           1  \n",
              "2                           1  \n",
              "3                           1  \n",
              "4                           1  "
            ],
            "text/html": [
              "\n",
              "  <div id=\"df-fac04272-b6f4-414c-80dd-63da775492e1\">\n",
              "    <div class=\"colab-df-container\">\n",
              "      <div>\n",
              "<style scoped>\n",
              "    .dataframe tbody tr th:only-of-type {\n",
              "        vertical-align: middle;\n",
              "    }\n",
              "\n",
              "    .dataframe tbody tr th {\n",
              "        vertical-align: top;\n",
              "    }\n",
              "\n",
              "    .dataframe thead th {\n",
              "        text-align: right;\n",
              "    }\n",
              "</style>\n",
              "<table border=\"1\" class=\"dataframe\">\n",
              "  <thead>\n",
              "    <tr style=\"text-align: right;\">\n",
              "      <th></th>\n",
              "      <th>Id</th>\n",
              "      <th>Domain</th>\n",
              "      <th>Region</th>\n",
              "      <th>No_of_Products_already_purchased</th>\n",
              "      <th>Using_Similar_Product</th>\n",
              "      <th>CPQ_Customer</th>\n",
              "      <th>CLM_Customer</th>\n",
              "      <th>IWA_Customer</th>\n",
              "      <th>No_of_times_of_Renewal_</th>\n",
              "      <th>Purchased</th>\n",
              "      <th>No_Of_Years_Of_Association_Binned</th>\n",
              "      <th>No_Of_Bugs_Reported_Binned</th>\n",
              "    </tr>\n",
              "  </thead>\n",
              "  <tbody>\n",
              "    <tr>\n",
              "      <th>0</th>\n",
              "      <td>1</td>\n",
              "      <td>Education</td>\n",
              "      <td>Africa</td>\n",
              "      <td>1</td>\n",
              "      <td>1</td>\n",
              "      <td>1</td>\n",
              "      <td>0</td>\n",
              "      <td>0</td>\n",
              "      <td>4</td>\n",
              "      <td>1</td>\n",
              "      <td>1</td>\n",
              "      <td>1</td>\n",
              "    </tr>\n",
              "    <tr>\n",
              "      <th>1</th>\n",
              "      <td>2</td>\n",
              "      <td>Education</td>\n",
              "      <td>Africa</td>\n",
              "      <td>1</td>\n",
              "      <td>1</td>\n",
              "      <td>1</td>\n",
              "      <td>0</td>\n",
              "      <td>0</td>\n",
              "      <td>3</td>\n",
              "      <td>1</td>\n",
              "      <td>1</td>\n",
              "      <td>1</td>\n",
              "    </tr>\n",
              "    <tr>\n",
              "      <th>2</th>\n",
              "      <td>3</td>\n",
              "      <td>Education</td>\n",
              "      <td>Africa</td>\n",
              "      <td>1</td>\n",
              "      <td>0</td>\n",
              "      <td>1</td>\n",
              "      <td>0</td>\n",
              "      <td>0</td>\n",
              "      <td>3</td>\n",
              "      <td>1</td>\n",
              "      <td>1</td>\n",
              "      <td>1</td>\n",
              "    </tr>\n",
              "    <tr>\n",
              "      <th>3</th>\n",
              "      <td>4</td>\n",
              "      <td>Education</td>\n",
              "      <td>Africa</td>\n",
              "      <td>1</td>\n",
              "      <td>0</td>\n",
              "      <td>1</td>\n",
              "      <td>0</td>\n",
              "      <td>0</td>\n",
              "      <td>1</td>\n",
              "      <td>1</td>\n",
              "      <td>1</td>\n",
              "      <td>1</td>\n",
              "    </tr>\n",
              "    <tr>\n",
              "      <th>4</th>\n",
              "      <td>5</td>\n",
              "      <td>Education</td>\n",
              "      <td>Africa</td>\n",
              "      <td>1</td>\n",
              "      <td>1</td>\n",
              "      <td>1</td>\n",
              "      <td>0</td>\n",
              "      <td>0</td>\n",
              "      <td>2</td>\n",
              "      <td>1</td>\n",
              "      <td>1</td>\n",
              "      <td>1</td>\n",
              "    </tr>\n",
              "  </tbody>\n",
              "</table>\n",
              "</div>\n",
              "      <button class=\"colab-df-convert\" onclick=\"convertToInteractive('df-fac04272-b6f4-414c-80dd-63da775492e1')\"\n",
              "              title=\"Convert this dataframe to an interactive table.\"\n",
              "              style=\"display:none;\">\n",
              "        \n",
              "  <svg xmlns=\"http://www.w3.org/2000/svg\" height=\"24px\"viewBox=\"0 0 24 24\"\n",
              "       width=\"24px\">\n",
              "    <path d=\"M0 0h24v24H0V0z\" fill=\"none\"/>\n",
              "    <path d=\"M18.56 5.44l.94 2.06.94-2.06 2.06-.94-2.06-.94-.94-2.06-.94 2.06-2.06.94zm-11 1L8.5 8.5l.94-2.06 2.06-.94-2.06-.94L8.5 2.5l-.94 2.06-2.06.94zm10 10l.94 2.06.94-2.06 2.06-.94-2.06-.94-.94-2.06-.94 2.06-2.06.94z\"/><path d=\"M17.41 7.96l-1.37-1.37c-.4-.4-.92-.59-1.43-.59-.52 0-1.04.2-1.43.59L10.3 9.45l-7.72 7.72c-.78.78-.78 2.05 0 2.83L4 21.41c.39.39.9.59 1.41.59.51 0 1.02-.2 1.41-.59l7.78-7.78 2.81-2.81c.8-.78.8-2.07 0-2.86zM5.41 20L4 18.59l7.72-7.72 1.47 1.35L5.41 20z\"/>\n",
              "  </svg>\n",
              "      </button>\n",
              "      \n",
              "  <style>\n",
              "    .colab-df-container {\n",
              "      display:flex;\n",
              "      flex-wrap:wrap;\n",
              "      gap: 12px;\n",
              "    }\n",
              "\n",
              "    .colab-df-convert {\n",
              "      background-color: #E8F0FE;\n",
              "      border: none;\n",
              "      border-radius: 50%;\n",
              "      cursor: pointer;\n",
              "      display: none;\n",
              "      fill: #1967D2;\n",
              "      height: 32px;\n",
              "      padding: 0 0 0 0;\n",
              "      width: 32px;\n",
              "    }\n",
              "\n",
              "    .colab-df-convert:hover {\n",
              "      background-color: #E2EBFA;\n",
              "      box-shadow: 0px 1px 2px rgba(60, 64, 67, 0.3), 0px 1px 3px 1px rgba(60, 64, 67, 0.15);\n",
              "      fill: #174EA6;\n",
              "    }\n",
              "\n",
              "    [theme=dark] .colab-df-convert {\n",
              "      background-color: #3B4455;\n",
              "      fill: #D2E3FC;\n",
              "    }\n",
              "\n",
              "    [theme=dark] .colab-df-convert:hover {\n",
              "      background-color: #434B5C;\n",
              "      box-shadow: 0px 1px 3px 1px rgba(0, 0, 0, 0.15);\n",
              "      filter: drop-shadow(0px 1px 2px rgba(0, 0, 0, 0.3));\n",
              "      fill: #FFFFFF;\n",
              "    }\n",
              "  </style>\n",
              "\n",
              "      <script>\n",
              "        const buttonEl =\n",
              "          document.querySelector('#df-fac04272-b6f4-414c-80dd-63da775492e1 button.colab-df-convert');\n",
              "        buttonEl.style.display =\n",
              "          google.colab.kernel.accessAllowed ? 'block' : 'none';\n",
              "\n",
              "        async function convertToInteractive(key) {\n",
              "          const element = document.querySelector('#df-fac04272-b6f4-414c-80dd-63da775492e1');\n",
              "          const dataTable =\n",
              "            await google.colab.kernel.invokeFunction('convertToInteractive',\n",
              "                                                     [key], {});\n",
              "          if (!dataTable) return;\n",
              "\n",
              "          const docLinkHtml = 'Like what you see? Visit the ' +\n",
              "            '<a target=\"_blank\" href=https://colab.research.google.com/notebooks/data_table.ipynb>data table notebook</a>'\n",
              "            + ' to learn more about interactive tables.';\n",
              "          element.innerHTML = '';\n",
              "          dataTable['output_type'] = 'display_data';\n",
              "          await google.colab.output.renderOutput(dataTable, element);\n",
              "          const docLink = document.createElement('div');\n",
              "          docLink.innerHTML = docLinkHtml;\n",
              "          element.appendChild(docLink);\n",
              "        }\n",
              "      </script>\n",
              "    </div>\n",
              "  </div>\n",
              "  "
            ]
          },
          "metadata": {},
          "execution_count": 241
        }
      ]
    },
    {
      "cell_type": "code",
      "source": [
        "# One Hot Encoding the Nominal Variable 'Region'\n",
        "encoder = ce.OneHotEncoder(cols = 'Region', handle_unknown = 'return_nan', return_df = True, use_cat_names = True)\n",
        "data = encoder.fit_transform(data)\n",
        "data.head()"
      ],
      "metadata": {
        "colab": {
          "base_uri": "https://localhost:8080/",
          "height": 287
        },
        "id": "ZxwpOX8TgyGW",
        "outputId": "eee6eb80-3458-48c1-8c6b-ed410bf21c54"
      },
      "id": "ZxwpOX8TgyGW",
      "execution_count": 242,
      "outputs": [
        {
          "output_type": "execute_result",
          "data": {
            "text/plain": [
              "   Id     Domain  Region_Africa  Region_Asia  Region_Australia  Region_Europe  \\\n",
              "0   1  Education            1.0          0.0               0.0            0.0   \n",
              "1   2  Education            1.0          0.0               0.0            0.0   \n",
              "2   3  Education            1.0          0.0               0.0            0.0   \n",
              "3   4  Education            1.0          0.0               0.0            0.0   \n",
              "4   5  Education            1.0          0.0               0.0            0.0   \n",
              "\n",
              "   Region_North America  Region_South America  \\\n",
              "0                   0.0                   0.0   \n",
              "1                   0.0                   0.0   \n",
              "2                   0.0                   0.0   \n",
              "3                   0.0                   0.0   \n",
              "4                   0.0                   0.0   \n",
              "\n",
              "   No_of_Products_already_purchased  Using_Similar_Product  CPQ_Customer  \\\n",
              "0                                 1                      1             1   \n",
              "1                                 1                      1             1   \n",
              "2                                 1                      0             1   \n",
              "3                                 1                      0             1   \n",
              "4                                 1                      1             1   \n",
              "\n",
              "   CLM_Customer  IWA_Customer  No_of_times_of_Renewal_  Purchased  \\\n",
              "0             0             0                        4          1   \n",
              "1             0             0                        3          1   \n",
              "2             0             0                        3          1   \n",
              "3             0             0                        1          1   \n",
              "4             0             0                        2          1   \n",
              "\n",
              "   No_Of_Years_Of_Association_Binned  No_Of_Bugs_Reported_Binned  \n",
              "0                                  1                           1  \n",
              "1                                  1                           1  \n",
              "2                                  1                           1  \n",
              "3                                  1                           1  \n",
              "4                                  1                           1  "
            ],
            "text/html": [
              "\n",
              "  <div id=\"df-f4fdc8a0-4d50-47de-8fcb-bbf68008ddb2\">\n",
              "    <div class=\"colab-df-container\">\n",
              "      <div>\n",
              "<style scoped>\n",
              "    .dataframe tbody tr th:only-of-type {\n",
              "        vertical-align: middle;\n",
              "    }\n",
              "\n",
              "    .dataframe tbody tr th {\n",
              "        vertical-align: top;\n",
              "    }\n",
              "\n",
              "    .dataframe thead th {\n",
              "        text-align: right;\n",
              "    }\n",
              "</style>\n",
              "<table border=\"1\" class=\"dataframe\">\n",
              "  <thead>\n",
              "    <tr style=\"text-align: right;\">\n",
              "      <th></th>\n",
              "      <th>Id</th>\n",
              "      <th>Domain</th>\n",
              "      <th>Region_Africa</th>\n",
              "      <th>Region_Asia</th>\n",
              "      <th>Region_Australia</th>\n",
              "      <th>Region_Europe</th>\n",
              "      <th>Region_North America</th>\n",
              "      <th>Region_South America</th>\n",
              "      <th>No_of_Products_already_purchased</th>\n",
              "      <th>Using_Similar_Product</th>\n",
              "      <th>CPQ_Customer</th>\n",
              "      <th>CLM_Customer</th>\n",
              "      <th>IWA_Customer</th>\n",
              "      <th>No_of_times_of_Renewal_</th>\n",
              "      <th>Purchased</th>\n",
              "      <th>No_Of_Years_Of_Association_Binned</th>\n",
              "      <th>No_Of_Bugs_Reported_Binned</th>\n",
              "    </tr>\n",
              "  </thead>\n",
              "  <tbody>\n",
              "    <tr>\n",
              "      <th>0</th>\n",
              "      <td>1</td>\n",
              "      <td>Education</td>\n",
              "      <td>1.0</td>\n",
              "      <td>0.0</td>\n",
              "      <td>0.0</td>\n",
              "      <td>0.0</td>\n",
              "      <td>0.0</td>\n",
              "      <td>0.0</td>\n",
              "      <td>1</td>\n",
              "      <td>1</td>\n",
              "      <td>1</td>\n",
              "      <td>0</td>\n",
              "      <td>0</td>\n",
              "      <td>4</td>\n",
              "      <td>1</td>\n",
              "      <td>1</td>\n",
              "      <td>1</td>\n",
              "    </tr>\n",
              "    <tr>\n",
              "      <th>1</th>\n",
              "      <td>2</td>\n",
              "      <td>Education</td>\n",
              "      <td>1.0</td>\n",
              "      <td>0.0</td>\n",
              "      <td>0.0</td>\n",
              "      <td>0.0</td>\n",
              "      <td>0.0</td>\n",
              "      <td>0.0</td>\n",
              "      <td>1</td>\n",
              "      <td>1</td>\n",
              "      <td>1</td>\n",
              "      <td>0</td>\n",
              "      <td>0</td>\n",
              "      <td>3</td>\n",
              "      <td>1</td>\n",
              "      <td>1</td>\n",
              "      <td>1</td>\n",
              "    </tr>\n",
              "    <tr>\n",
              "      <th>2</th>\n",
              "      <td>3</td>\n",
              "      <td>Education</td>\n",
              "      <td>1.0</td>\n",
              "      <td>0.0</td>\n",
              "      <td>0.0</td>\n",
              "      <td>0.0</td>\n",
              "      <td>0.0</td>\n",
              "      <td>0.0</td>\n",
              "      <td>1</td>\n",
              "      <td>0</td>\n",
              "      <td>1</td>\n",
              "      <td>0</td>\n",
              "      <td>0</td>\n",
              "      <td>3</td>\n",
              "      <td>1</td>\n",
              "      <td>1</td>\n",
              "      <td>1</td>\n",
              "    </tr>\n",
              "    <tr>\n",
              "      <th>3</th>\n",
              "      <td>4</td>\n",
              "      <td>Education</td>\n",
              "      <td>1.0</td>\n",
              "      <td>0.0</td>\n",
              "      <td>0.0</td>\n",
              "      <td>0.0</td>\n",
              "      <td>0.0</td>\n",
              "      <td>0.0</td>\n",
              "      <td>1</td>\n",
              "      <td>0</td>\n",
              "      <td>1</td>\n",
              "      <td>0</td>\n",
              "      <td>0</td>\n",
              "      <td>1</td>\n",
              "      <td>1</td>\n",
              "      <td>1</td>\n",
              "      <td>1</td>\n",
              "    </tr>\n",
              "    <tr>\n",
              "      <th>4</th>\n",
              "      <td>5</td>\n",
              "      <td>Education</td>\n",
              "      <td>1.0</td>\n",
              "      <td>0.0</td>\n",
              "      <td>0.0</td>\n",
              "      <td>0.0</td>\n",
              "      <td>0.0</td>\n",
              "      <td>0.0</td>\n",
              "      <td>1</td>\n",
              "      <td>1</td>\n",
              "      <td>1</td>\n",
              "      <td>0</td>\n",
              "      <td>0</td>\n",
              "      <td>2</td>\n",
              "      <td>1</td>\n",
              "      <td>1</td>\n",
              "      <td>1</td>\n",
              "    </tr>\n",
              "  </tbody>\n",
              "</table>\n",
              "</div>\n",
              "      <button class=\"colab-df-convert\" onclick=\"convertToInteractive('df-f4fdc8a0-4d50-47de-8fcb-bbf68008ddb2')\"\n",
              "              title=\"Convert this dataframe to an interactive table.\"\n",
              "              style=\"display:none;\">\n",
              "        \n",
              "  <svg xmlns=\"http://www.w3.org/2000/svg\" height=\"24px\"viewBox=\"0 0 24 24\"\n",
              "       width=\"24px\">\n",
              "    <path d=\"M0 0h24v24H0V0z\" fill=\"none\"/>\n",
              "    <path d=\"M18.56 5.44l.94 2.06.94-2.06 2.06-.94-2.06-.94-.94-2.06-.94 2.06-2.06.94zm-11 1L8.5 8.5l.94-2.06 2.06-.94-2.06-.94L8.5 2.5l-.94 2.06-2.06.94zm10 10l.94 2.06.94-2.06 2.06-.94-2.06-.94-.94-2.06-.94 2.06-2.06.94z\"/><path d=\"M17.41 7.96l-1.37-1.37c-.4-.4-.92-.59-1.43-.59-.52 0-1.04.2-1.43.59L10.3 9.45l-7.72 7.72c-.78.78-.78 2.05 0 2.83L4 21.41c.39.39.9.59 1.41.59.51 0 1.02-.2 1.41-.59l7.78-7.78 2.81-2.81c.8-.78.8-2.07 0-2.86zM5.41 20L4 18.59l7.72-7.72 1.47 1.35L5.41 20z\"/>\n",
              "  </svg>\n",
              "      </button>\n",
              "      \n",
              "  <style>\n",
              "    .colab-df-container {\n",
              "      display:flex;\n",
              "      flex-wrap:wrap;\n",
              "      gap: 12px;\n",
              "    }\n",
              "\n",
              "    .colab-df-convert {\n",
              "      background-color: #E8F0FE;\n",
              "      border: none;\n",
              "      border-radius: 50%;\n",
              "      cursor: pointer;\n",
              "      display: none;\n",
              "      fill: #1967D2;\n",
              "      height: 32px;\n",
              "      padding: 0 0 0 0;\n",
              "      width: 32px;\n",
              "    }\n",
              "\n",
              "    .colab-df-convert:hover {\n",
              "      background-color: #E2EBFA;\n",
              "      box-shadow: 0px 1px 2px rgba(60, 64, 67, 0.3), 0px 1px 3px 1px rgba(60, 64, 67, 0.15);\n",
              "      fill: #174EA6;\n",
              "    }\n",
              "\n",
              "    [theme=dark] .colab-df-convert {\n",
              "      background-color: #3B4455;\n",
              "      fill: #D2E3FC;\n",
              "    }\n",
              "\n",
              "    [theme=dark] .colab-df-convert:hover {\n",
              "      background-color: #434B5C;\n",
              "      box-shadow: 0px 1px 3px 1px rgba(0, 0, 0, 0.15);\n",
              "      filter: drop-shadow(0px 1px 2px rgba(0, 0, 0, 0.3));\n",
              "      fill: #FFFFFF;\n",
              "    }\n",
              "  </style>\n",
              "\n",
              "      <script>\n",
              "        const buttonEl =\n",
              "          document.querySelector('#df-f4fdc8a0-4d50-47de-8fcb-bbf68008ddb2 button.colab-df-convert');\n",
              "        buttonEl.style.display =\n",
              "          google.colab.kernel.accessAllowed ? 'block' : 'none';\n",
              "\n",
              "        async function convertToInteractive(key) {\n",
              "          const element = document.querySelector('#df-f4fdc8a0-4d50-47de-8fcb-bbf68008ddb2');\n",
              "          const dataTable =\n",
              "            await google.colab.kernel.invokeFunction('convertToInteractive',\n",
              "                                                     [key], {});\n",
              "          if (!dataTable) return;\n",
              "\n",
              "          const docLinkHtml = 'Like what you see? Visit the ' +\n",
              "            '<a target=\"_blank\" href=https://colab.research.google.com/notebooks/data_table.ipynb>data table notebook</a>'\n",
              "            + ' to learn more about interactive tables.';\n",
              "          element.innerHTML = '';\n",
              "          dataTable['output_type'] = 'display_data';\n",
              "          await google.colab.output.renderOutput(dataTable, element);\n",
              "          const docLink = document.createElement('div');\n",
              "          docLink.innerHTML = docLinkHtml;\n",
              "          element.appendChild(docLink);\n",
              "        }\n",
              "      </script>\n",
              "    </div>\n",
              "  </div>\n",
              "  "
            ]
          },
          "metadata": {},
          "execution_count": 242
        }
      ]
    },
    {
      "cell_type": "code",
      "source": [
        "# One Hot Encoding the Nominal Variable 'Domain'\n",
        "encoder=ce.OneHotEncoder(cols='Domain',handle_unknown = 'return_nan', return_df = True, use_cat_names = True)\n",
        "data = encoder.fit_transform(data)\n",
        "data.head()"
      ],
      "metadata": {
        "colab": {
          "base_uri": "https://localhost:8080/",
          "height": 317
        },
        "id": "Di8a_d_ulaRr",
        "outputId": "4519d950-6800-4be5-8699-a6b8521afe7e"
      },
      "id": "Di8a_d_ulaRr",
      "execution_count": 243,
      "outputs": [
        {
          "output_type": "execute_result",
          "data": {
            "text/plain": [
              "   Id  Domain_Education  Domain_Finance  Domain_Healthcare  Domain_Telecom  \\\n",
              "0   1               1.0             0.0                0.0             0.0   \n",
              "1   2               1.0             0.0                0.0             0.0   \n",
              "2   3               1.0             0.0                0.0             0.0   \n",
              "3   4               1.0             0.0                0.0             0.0   \n",
              "4   5               1.0             0.0                0.0             0.0   \n",
              "\n",
              "   Domain_Insurance  Domain_Retail  Region_Africa  Region_Asia  \\\n",
              "0               0.0            0.0            1.0          0.0   \n",
              "1               0.0            0.0            1.0          0.0   \n",
              "2               0.0            0.0            1.0          0.0   \n",
              "3               0.0            0.0            1.0          0.0   \n",
              "4               0.0            0.0            1.0          0.0   \n",
              "\n",
              "   Region_Australia  ...  Region_South America  \\\n",
              "0               0.0  ...                   0.0   \n",
              "1               0.0  ...                   0.0   \n",
              "2               0.0  ...                   0.0   \n",
              "3               0.0  ...                   0.0   \n",
              "4               0.0  ...                   0.0   \n",
              "\n",
              "   No_of_Products_already_purchased  Using_Similar_Product  CPQ_Customer  \\\n",
              "0                                 1                      1             1   \n",
              "1                                 1                      1             1   \n",
              "2                                 1                      0             1   \n",
              "3                                 1                      0             1   \n",
              "4                                 1                      1             1   \n",
              "\n",
              "   CLM_Customer  IWA_Customer  No_of_times_of_Renewal_  Purchased  \\\n",
              "0             0             0                        4          1   \n",
              "1             0             0                        3          1   \n",
              "2             0             0                        3          1   \n",
              "3             0             0                        1          1   \n",
              "4             0             0                        2          1   \n",
              "\n",
              "   No_Of_Years_Of_Association_Binned  No_Of_Bugs_Reported_Binned  \n",
              "0                                  1                           1  \n",
              "1                                  1                           1  \n",
              "2                                  1                           1  \n",
              "3                                  1                           1  \n",
              "4                                  1                           1  \n",
              "\n",
              "[5 rows x 22 columns]"
            ],
            "text/html": [
              "\n",
              "  <div id=\"df-ed31e2eb-c1a8-4994-82c4-40aaac5d5337\">\n",
              "    <div class=\"colab-df-container\">\n",
              "      <div>\n",
              "<style scoped>\n",
              "    .dataframe tbody tr th:only-of-type {\n",
              "        vertical-align: middle;\n",
              "    }\n",
              "\n",
              "    .dataframe tbody tr th {\n",
              "        vertical-align: top;\n",
              "    }\n",
              "\n",
              "    .dataframe thead th {\n",
              "        text-align: right;\n",
              "    }\n",
              "</style>\n",
              "<table border=\"1\" class=\"dataframe\">\n",
              "  <thead>\n",
              "    <tr style=\"text-align: right;\">\n",
              "      <th></th>\n",
              "      <th>Id</th>\n",
              "      <th>Domain_Education</th>\n",
              "      <th>Domain_Finance</th>\n",
              "      <th>Domain_Healthcare</th>\n",
              "      <th>Domain_Telecom</th>\n",
              "      <th>Domain_Insurance</th>\n",
              "      <th>Domain_Retail</th>\n",
              "      <th>Region_Africa</th>\n",
              "      <th>Region_Asia</th>\n",
              "      <th>Region_Australia</th>\n",
              "      <th>...</th>\n",
              "      <th>Region_South America</th>\n",
              "      <th>No_of_Products_already_purchased</th>\n",
              "      <th>Using_Similar_Product</th>\n",
              "      <th>CPQ_Customer</th>\n",
              "      <th>CLM_Customer</th>\n",
              "      <th>IWA_Customer</th>\n",
              "      <th>No_of_times_of_Renewal_</th>\n",
              "      <th>Purchased</th>\n",
              "      <th>No_Of_Years_Of_Association_Binned</th>\n",
              "      <th>No_Of_Bugs_Reported_Binned</th>\n",
              "    </tr>\n",
              "  </thead>\n",
              "  <tbody>\n",
              "    <tr>\n",
              "      <th>0</th>\n",
              "      <td>1</td>\n",
              "      <td>1.0</td>\n",
              "      <td>0.0</td>\n",
              "      <td>0.0</td>\n",
              "      <td>0.0</td>\n",
              "      <td>0.0</td>\n",
              "      <td>0.0</td>\n",
              "      <td>1.0</td>\n",
              "      <td>0.0</td>\n",
              "      <td>0.0</td>\n",
              "      <td>...</td>\n",
              "      <td>0.0</td>\n",
              "      <td>1</td>\n",
              "      <td>1</td>\n",
              "      <td>1</td>\n",
              "      <td>0</td>\n",
              "      <td>0</td>\n",
              "      <td>4</td>\n",
              "      <td>1</td>\n",
              "      <td>1</td>\n",
              "      <td>1</td>\n",
              "    </tr>\n",
              "    <tr>\n",
              "      <th>1</th>\n",
              "      <td>2</td>\n",
              "      <td>1.0</td>\n",
              "      <td>0.0</td>\n",
              "      <td>0.0</td>\n",
              "      <td>0.0</td>\n",
              "      <td>0.0</td>\n",
              "      <td>0.0</td>\n",
              "      <td>1.0</td>\n",
              "      <td>0.0</td>\n",
              "      <td>0.0</td>\n",
              "      <td>...</td>\n",
              "      <td>0.0</td>\n",
              "      <td>1</td>\n",
              "      <td>1</td>\n",
              "      <td>1</td>\n",
              "      <td>0</td>\n",
              "      <td>0</td>\n",
              "      <td>3</td>\n",
              "      <td>1</td>\n",
              "      <td>1</td>\n",
              "      <td>1</td>\n",
              "    </tr>\n",
              "    <tr>\n",
              "      <th>2</th>\n",
              "      <td>3</td>\n",
              "      <td>1.0</td>\n",
              "      <td>0.0</td>\n",
              "      <td>0.0</td>\n",
              "      <td>0.0</td>\n",
              "      <td>0.0</td>\n",
              "      <td>0.0</td>\n",
              "      <td>1.0</td>\n",
              "      <td>0.0</td>\n",
              "      <td>0.0</td>\n",
              "      <td>...</td>\n",
              "      <td>0.0</td>\n",
              "      <td>1</td>\n",
              "      <td>0</td>\n",
              "      <td>1</td>\n",
              "      <td>0</td>\n",
              "      <td>0</td>\n",
              "      <td>3</td>\n",
              "      <td>1</td>\n",
              "      <td>1</td>\n",
              "      <td>1</td>\n",
              "    </tr>\n",
              "    <tr>\n",
              "      <th>3</th>\n",
              "      <td>4</td>\n",
              "      <td>1.0</td>\n",
              "      <td>0.0</td>\n",
              "      <td>0.0</td>\n",
              "      <td>0.0</td>\n",
              "      <td>0.0</td>\n",
              "      <td>0.0</td>\n",
              "      <td>1.0</td>\n",
              "      <td>0.0</td>\n",
              "      <td>0.0</td>\n",
              "      <td>...</td>\n",
              "      <td>0.0</td>\n",
              "      <td>1</td>\n",
              "      <td>0</td>\n",
              "      <td>1</td>\n",
              "      <td>0</td>\n",
              "      <td>0</td>\n",
              "      <td>1</td>\n",
              "      <td>1</td>\n",
              "      <td>1</td>\n",
              "      <td>1</td>\n",
              "    </tr>\n",
              "    <tr>\n",
              "      <th>4</th>\n",
              "      <td>5</td>\n",
              "      <td>1.0</td>\n",
              "      <td>0.0</td>\n",
              "      <td>0.0</td>\n",
              "      <td>0.0</td>\n",
              "      <td>0.0</td>\n",
              "      <td>0.0</td>\n",
              "      <td>1.0</td>\n",
              "      <td>0.0</td>\n",
              "      <td>0.0</td>\n",
              "      <td>...</td>\n",
              "      <td>0.0</td>\n",
              "      <td>1</td>\n",
              "      <td>1</td>\n",
              "      <td>1</td>\n",
              "      <td>0</td>\n",
              "      <td>0</td>\n",
              "      <td>2</td>\n",
              "      <td>1</td>\n",
              "      <td>1</td>\n",
              "      <td>1</td>\n",
              "    </tr>\n",
              "  </tbody>\n",
              "</table>\n",
              "<p>5 rows × 22 columns</p>\n",
              "</div>\n",
              "      <button class=\"colab-df-convert\" onclick=\"convertToInteractive('df-ed31e2eb-c1a8-4994-82c4-40aaac5d5337')\"\n",
              "              title=\"Convert this dataframe to an interactive table.\"\n",
              "              style=\"display:none;\">\n",
              "        \n",
              "  <svg xmlns=\"http://www.w3.org/2000/svg\" height=\"24px\"viewBox=\"0 0 24 24\"\n",
              "       width=\"24px\">\n",
              "    <path d=\"M0 0h24v24H0V0z\" fill=\"none\"/>\n",
              "    <path d=\"M18.56 5.44l.94 2.06.94-2.06 2.06-.94-2.06-.94-.94-2.06-.94 2.06-2.06.94zm-11 1L8.5 8.5l.94-2.06 2.06-.94-2.06-.94L8.5 2.5l-.94 2.06-2.06.94zm10 10l.94 2.06.94-2.06 2.06-.94-2.06-.94-.94-2.06-.94 2.06-2.06.94z\"/><path d=\"M17.41 7.96l-1.37-1.37c-.4-.4-.92-.59-1.43-.59-.52 0-1.04.2-1.43.59L10.3 9.45l-7.72 7.72c-.78.78-.78 2.05 0 2.83L4 21.41c.39.39.9.59 1.41.59.51 0 1.02-.2 1.41-.59l7.78-7.78 2.81-2.81c.8-.78.8-2.07 0-2.86zM5.41 20L4 18.59l7.72-7.72 1.47 1.35L5.41 20z\"/>\n",
              "  </svg>\n",
              "      </button>\n",
              "      \n",
              "  <style>\n",
              "    .colab-df-container {\n",
              "      display:flex;\n",
              "      flex-wrap:wrap;\n",
              "      gap: 12px;\n",
              "    }\n",
              "\n",
              "    .colab-df-convert {\n",
              "      background-color: #E8F0FE;\n",
              "      border: none;\n",
              "      border-radius: 50%;\n",
              "      cursor: pointer;\n",
              "      display: none;\n",
              "      fill: #1967D2;\n",
              "      height: 32px;\n",
              "      padding: 0 0 0 0;\n",
              "      width: 32px;\n",
              "    }\n",
              "\n",
              "    .colab-df-convert:hover {\n",
              "      background-color: #E2EBFA;\n",
              "      box-shadow: 0px 1px 2px rgba(60, 64, 67, 0.3), 0px 1px 3px 1px rgba(60, 64, 67, 0.15);\n",
              "      fill: #174EA6;\n",
              "    }\n",
              "\n",
              "    [theme=dark] .colab-df-convert {\n",
              "      background-color: #3B4455;\n",
              "      fill: #D2E3FC;\n",
              "    }\n",
              "\n",
              "    [theme=dark] .colab-df-convert:hover {\n",
              "      background-color: #434B5C;\n",
              "      box-shadow: 0px 1px 3px 1px rgba(0, 0, 0, 0.15);\n",
              "      filter: drop-shadow(0px 1px 2px rgba(0, 0, 0, 0.3));\n",
              "      fill: #FFFFFF;\n",
              "    }\n",
              "  </style>\n",
              "\n",
              "      <script>\n",
              "        const buttonEl =\n",
              "          document.querySelector('#df-ed31e2eb-c1a8-4994-82c4-40aaac5d5337 button.colab-df-convert');\n",
              "        buttonEl.style.display =\n",
              "          google.colab.kernel.accessAllowed ? 'block' : 'none';\n",
              "\n",
              "        async function convertToInteractive(key) {\n",
              "          const element = document.querySelector('#df-ed31e2eb-c1a8-4994-82c4-40aaac5d5337');\n",
              "          const dataTable =\n",
              "            await google.colab.kernel.invokeFunction('convertToInteractive',\n",
              "                                                     [key], {});\n",
              "          if (!dataTable) return;\n",
              "\n",
              "          const docLinkHtml = 'Like what you see? Visit the ' +\n",
              "            '<a target=\"_blank\" href=https://colab.research.google.com/notebooks/data_table.ipynb>data table notebook</a>'\n",
              "            + ' to learn more about interactive tables.';\n",
              "          element.innerHTML = '';\n",
              "          dataTable['output_type'] = 'display_data';\n",
              "          await google.colab.output.renderOutput(dataTable, element);\n",
              "          const docLink = document.createElement('div');\n",
              "          docLink.innerHTML = docLinkHtml;\n",
              "          element.appendChild(docLink);\n",
              "        }\n",
              "      </script>\n",
              "    </div>\n",
              "  </div>\n",
              "  "
            ]
          },
          "metadata": {},
          "execution_count": 243
        }
      ]
    },
    {
      "cell_type": "code",
      "source": [
        "#Plotting heatmap for correlations with new variables formed after pre processing techniques \n",
        "sns.heatmap(data.corr(), cmap=\"YlGnBu\", annot=True)\n",
        "data.corr()\n",
        "plt.show()"
      ],
      "metadata": {
        "colab": {
          "base_uri": "https://localhost:8080/",
          "height": 1000
        },
        "id": "-_YnxOHNYy1D",
        "outputId": "ca3736f5-16da-4f1a-b4ab-943aa00512d9"
      },
      "id": "-_YnxOHNYy1D",
      "execution_count": 244,
      "outputs": [
        {
          "output_type": "execute_result",
          "data": {
            "text/plain": [
              "<matplotlib.axes._subplots.AxesSubplot at 0x7f67b27ebf10>"
            ]
          },
          "metadata": {},
          "execution_count": 244
        },
        {
          "output_type": "execute_result",
          "data": {
            "text/plain": [
              "                                         Id  Domain_Education  Domain_Finance  \\\n",
              "Id                                 1.000000         -0.377492       -0.545705   \n",
              "Domain_Education                  -0.377492          1.000000       -0.096374   \n",
              "Domain_Finance                    -0.545705         -0.096374        1.000000   \n",
              "Domain_Healthcare                 -0.340168         -0.150188       -0.275010   \n",
              "Domain_Telecom                     0.519615         -0.076472       -0.140028   \n",
              "Domain_Insurance                   0.250000         -0.132453       -0.242536   \n",
              "Domain_Retail                      0.472944         -0.096374       -0.176471   \n",
              "Region_Africa                     -0.376835          0.990372       -0.090497   \n",
              "Region_Asia                       -0.616209         -0.127607        0.724649   \n",
              "Region_Australia                  -0.052864         -0.052632       -0.096374   \n",
              "Region_Europe                      0.097639         -0.096374       -0.176471   \n",
              "Region_North America               0.349853         -0.187317       -0.342997   \n",
              "Region_South America               0.514068         -0.076472       -0.140028   \n",
              "No_of_Products_already_purchased  -0.145942          0.265464       -0.033361   \n",
              "Using_Similar_Product             -0.007383         -0.017697        0.013705   \n",
              "CPQ_Customer                      -0.502654          0.059596        0.362850   \n",
              "CLM_Customer                       0.232638          0.064679       -0.168286   \n",
              "IWA_Customer                      -0.243595          0.200775        0.203822   \n",
              "No_of_times_of_Renewal_           -0.008749          0.003925        0.004525   \n",
              "Purchased                         -0.207666         -0.156831       -0.118602   \n",
              "No_Of_Years_Of_Association_Binned -0.182331          0.217724        0.036528   \n",
              "No_Of_Bugs_Reported_Binned        -0.182393          0.414607        0.157639   \n",
              "\n",
              "                                   Domain_Healthcare  Domain_Telecom  \\\n",
              "Id                                         -0.340168        0.519615   \n",
              "Domain_Education                           -0.150188       -0.076472   \n",
              "Domain_Finance                             -0.275010       -0.140028   \n",
              "Domain_Healthcare                           1.000000       -0.218218   \n",
              "Domain_Telecom                             -0.218218        1.000000   \n",
              "Domain_Insurance                           -0.377964       -0.192450   \n",
              "Domain_Retail                              -0.275010       -0.140028   \n",
              "Region_Africa                              -0.150188       -0.076472   \n",
              "Region_Asia                                 0.125988       -0.192450   \n",
              "Region_Australia                            0.350438       -0.076472   \n",
              "Region_Europe                              -0.093347       -0.140028   \n",
              "Region_North America                        0.001222       -0.236900   \n",
              "Region_South America                       -0.218218        0.942412   \n",
              "No_of_Products_already_purchased           -0.022315       -0.168801   \n",
              "Using_Similar_Product                       0.002063       -0.009452   \n",
              "CPQ_Customer                                0.133077       -0.263677   \n",
              "CLM_Customer                               -0.052263        0.275369   \n",
              "IWA_Customer                               -0.042032       -0.193043   \n",
              "No_of_times_of_Renewal_                     0.001422       -0.002444   \n",
              "Purchased                                   0.408926       -0.161331   \n",
              "No_Of_Years_Of_Association_Binned          -0.028132       -0.288078   \n",
              "No_Of_Bugs_Reported_Binned                 -0.248805       -0.105406   \n",
              "\n",
              "                                   Domain_Insurance  Domain_Retail  \\\n",
              "Id                                         0.250000       0.472944   \n",
              "Domain_Education                          -0.132453      -0.096374   \n",
              "Domain_Finance                            -0.242536      -0.176471   \n",
              "Domain_Healthcare                         -0.377964      -0.275010   \n",
              "Domain_Telecom                            -0.192450      -0.140028   \n",
              "Domain_Insurance                           1.000000      -0.242536   \n",
              "Domain_Retail                             -0.242536       1.000000   \n",
              "Region_Africa                             -0.132453      -0.096374   \n",
              "Region_Asia                               -0.333333      -0.242536   \n",
              "Region_Australia                          -0.132453      -0.096374   \n",
              "Region_Europe                              0.535353      -0.176471   \n",
              "Region_North America                       0.140128       0.484867   \n",
              "Region_South America                      -0.192450      -0.091644   \n",
              "No_of_Products_already_purchased          -0.126872       0.195645   \n",
              "Using_Similar_Product                      0.008273      -0.007642   \n",
              "CPQ_Customer                              -0.053552      -0.283540   \n",
              "CLM_Customer                              -0.176616       0.178705   \n",
              "IWA_Customer                              -0.027615      -0.076750   \n",
              "No_of_times_of_Renewal_                   -0.000157      -0.006502   \n",
              "Purchased                                 -0.220922       0.092972   \n",
              "No_Of_Years_Of_Association_Binned          0.030031       0.072300   \n",
              "No_Of_Bugs_Reported_Binned                -0.137988       0.164504   \n",
              "\n",
              "                                   Region_Africa  Region_Asia  \\\n",
              "Id                                     -0.376835    -0.616209   \n",
              "Domain_Education                        0.990372    -0.127607   \n",
              "Domain_Finance                         -0.090497     0.724649   \n",
              "Domain_Healthcare                      -0.150188     0.125988   \n",
              "Domain_Telecom                         -0.076472    -0.192450   \n",
              "Domain_Insurance                       -0.132453    -0.333333   \n",
              "Domain_Retail                          -0.096374    -0.242536   \n",
              "Region_Africa                           1.000000    -0.132453   \n",
              "Region_Asia                            -0.132453     1.000000   \n",
              "Region_Australia                       -0.052632    -0.132453   \n",
              "Region_Europe                          -0.096374    -0.242536   \n",
              "Region_North America                   -0.187317    -0.471405   \n",
              "Region_South America                   -0.076472    -0.192450   \n",
              "No_of_Products_already_purchased        0.269207    -0.162673   \n",
              "Using_Similar_Product                  -0.016298     0.020948   \n",
              "CPQ_Customer                            0.059596     0.430371   \n",
              "CLM_Customer                            0.068911    -0.185846   \n",
              "IWA_Customer                            0.205224     0.067171   \n",
              "No_of_times_of_Renewal_                 0.002056    -0.004546   \n",
              "Purchased                              -0.161058     0.035106   \n",
              "No_Of_Years_Of_Association_Binned       0.223162    -0.180412   \n",
              "No_Of_Bugs_Reported_Binned              0.420934    -0.017337   \n",
              "\n",
              "                                   Region_Australia  ...  \\\n",
              "Id                                        -0.052864  ...   \n",
              "Domain_Education                          -0.052632  ...   \n",
              "Domain_Finance                            -0.096374  ...   \n",
              "Domain_Healthcare                          0.350438  ...   \n",
              "Domain_Telecom                            -0.076472  ...   \n",
              "Domain_Insurance                          -0.132453  ...   \n",
              "Domain_Retail                             -0.096374  ...   \n",
              "Region_Africa                             -0.052632  ...   \n",
              "Region_Asia                               -0.132453  ...   \n",
              "Region_Australia                           1.000000  ...   \n",
              "Region_Europe                             -0.096374  ...   \n",
              "Region_North America                      -0.187317  ...   \n",
              "Region_South America                      -0.076472  ...   \n",
              "No_of_Products_already_purchased          -0.076869  ...   \n",
              "Using_Similar_Product                      0.003288  ...   \n",
              "CPQ_Customer                               0.086460  ...   \n",
              "CLM_Customer                              -0.066512  ...   \n",
              "IWA_Customer                               0.096977  ...   \n",
              "No_of_times_of_Renewal_                    0.013269  ...   \n",
              "Purchased                                 -0.110331  ...   \n",
              "No_Of_Years_Of_Association_Binned          0.028005  ...   \n",
              "No_Of_Bugs_Reported_Binned                -0.023338  ...   \n",
              "\n",
              "                                   Region_South America  \\\n",
              "Id                                             0.514068   \n",
              "Domain_Education                              -0.076472   \n",
              "Domain_Finance                                -0.140028   \n",
              "Domain_Healthcare                             -0.218218   \n",
              "Domain_Telecom                                 0.942412   \n",
              "Domain_Insurance                              -0.192450   \n",
              "Domain_Retail                                 -0.091644   \n",
              "Region_Africa                                 -0.076472   \n",
              "Region_Asia                                   -0.192450   \n",
              "Region_Australia                              -0.076472   \n",
              "Region_Europe                                 -0.140028   \n",
              "Region_North America                          -0.272166   \n",
              "Region_South America                           1.000000   \n",
              "No_of_Products_already_purchased              -0.117429   \n",
              "Using_Similar_Product                         -0.014533   \n",
              "CPQ_Customer                                  -0.228753   \n",
              "CLM_Customer                                   0.240525   \n",
              "IWA_Customer                                  -0.193043   \n",
              "No_of_times_of_Renewal_                       -0.001086   \n",
              "Purchased                                     -0.126526   \n",
              "No_Of_Years_Of_Association_Binned             -0.243306   \n",
              "No_Of_Bugs_Reported_Binned                    -0.053316   \n",
              "\n",
              "                                   No_of_Products_already_purchased  \\\n",
              "Id                                                        -0.145942   \n",
              "Domain_Education                                           0.265464   \n",
              "Domain_Finance                                            -0.033361   \n",
              "Domain_Healthcare                                         -0.022315   \n",
              "Domain_Telecom                                            -0.168801   \n",
              "Domain_Insurance                                          -0.126872   \n",
              "Domain_Retail                                              0.195645   \n",
              "Region_Africa                                              0.269207   \n",
              "Region_Asia                                               -0.162673   \n",
              "Region_Australia                                          -0.076869   \n",
              "Region_Europe                                             -0.174776   \n",
              "Region_North America                                       0.257516   \n",
              "Region_South America                                      -0.117429   \n",
              "No_of_Products_already_purchased                           1.000000   \n",
              "Using_Similar_Product                                     -0.013427   \n",
              "CPQ_Customer                                              -0.040400   \n",
              "CLM_Customer                                               0.086748   \n",
              "IWA_Customer                                               0.319194   \n",
              "No_of_times_of_Renewal_                                    0.011231   \n",
              "Purchased                                                  0.418030   \n",
              "No_Of_Years_Of_Association_Binned                          0.888758   \n",
              "No_Of_Bugs_Reported_Binned                                 0.832822   \n",
              "\n",
              "                                   Using_Similar_Product  CPQ_Customer  \\\n",
              "Id                                             -0.007383     -0.502654   \n",
              "Domain_Education                               -0.017697      0.059596   \n",
              "Domain_Finance                                  0.013705      0.362850   \n",
              "Domain_Healthcare                               0.002063      0.133077   \n",
              "Domain_Telecom                                 -0.009452     -0.263677   \n",
              "Domain_Insurance                                0.008273     -0.053552   \n",
              "Domain_Retail                                  -0.007642     -0.283540   \n",
              "Region_Africa                                  -0.016298      0.059596   \n",
              "Region_Asia                                     0.020948      0.430371   \n",
              "Region_Australia                                0.003288      0.086460   \n",
              "Region_Europe                                   0.002604     -0.041899   \n",
              "Region_North America                           -0.005726     -0.274755   \n",
              "Region_South America                           -0.014533     -0.228753   \n",
              "No_of_Products_already_purchased               -0.013427     -0.040400   \n",
              "Using_Similar_Product                           1.000000      0.000370   \n",
              "CPQ_Customer                                    0.000370      1.000000   \n",
              "CLM_Customer                                   -0.011147     -0.448571   \n",
              "IWA_Customer                                    0.005154     -0.008746   \n",
              "No_of_times_of_Renewal_                        -0.012619      0.017822   \n",
              "Purchased                                      -0.004618      0.098800   \n",
              "No_Of_Years_Of_Association_Binned              -0.006396      0.041398   \n",
              "No_Of_Bugs_Reported_Binned                     -0.005424      0.094058   \n",
              "\n",
              "                                   CLM_Customer  IWA_Customer  \\\n",
              "Id                                     0.232638     -0.243595   \n",
              "Domain_Education                       0.064679      0.200775   \n",
              "Domain_Finance                        -0.168286      0.203822   \n",
              "Domain_Healthcare                     -0.052263     -0.042032   \n",
              "Domain_Telecom                         0.275369     -0.193043   \n",
              "Domain_Insurance                      -0.176616     -0.027615   \n",
              "Domain_Retail                          0.178705     -0.076750   \n",
              "Region_Africa                          0.068911      0.205224   \n",
              "Region_Asia                           -0.185846      0.067171   \n",
              "Region_Australia                      -0.066512      0.096977   \n",
              "Region_Europe                         -0.008998      0.100644   \n",
              "Region_North America                   0.022467     -0.148956   \n",
              "Region_South America                   0.240525     -0.193043   \n",
              "No_of_Products_already_purchased       0.086748      0.319194   \n",
              "Using_Similar_Product                 -0.011147      0.005154   \n",
              "CPQ_Customer                          -0.448571     -0.008746   \n",
              "CLM_Customer                           1.000000     -0.147530   \n",
              "IWA_Customer                          -0.147530      1.000000   \n",
              "No_of_times_of_Renewal_                0.004076      0.001441   \n",
              "Purchased                             -0.070048     -0.198149   \n",
              "No_Of_Years_Of_Association_Binned     -0.083421      0.473141   \n",
              "No_Of_Bugs_Reported_Binned             0.021104      0.477201   \n",
              "\n",
              "                                   No_of_times_of_Renewal_  Purchased  \\\n",
              "Id                                               -0.008749  -0.207666   \n",
              "Domain_Education                                  0.003925  -0.156831   \n",
              "Domain_Finance                                    0.004525  -0.118602   \n",
              "Domain_Healthcare                                 0.001422   0.408926   \n",
              "Domain_Telecom                                   -0.002444  -0.161331   \n",
              "Domain_Insurance                                 -0.000157  -0.220922   \n",
              "Domain_Retail                                    -0.006502   0.092972   \n",
              "Region_Africa                                     0.002056  -0.161058   \n",
              "Region_Asia                                      -0.004546   0.035106   \n",
              "Region_Australia                                  0.013269  -0.110331   \n",
              "Region_Europe                                    -0.003840  -0.245030   \n",
              "Region_North America                              0.000665   0.345781   \n",
              "Region_South America                             -0.001086  -0.126526   \n",
              "No_of_Products_already_purchased                  0.011231   0.418030   \n",
              "Using_Similar_Product                            -0.012619  -0.004618   \n",
              "CPQ_Customer                                      0.017822   0.098800   \n",
              "CLM_Customer                                      0.004076  -0.070048   \n",
              "IWA_Customer                                      0.001441  -0.198149   \n",
              "No_of_times_of_Renewal_                           1.000000  -0.002560   \n",
              "Purchased                                        -0.002560   1.000000   \n",
              "No_Of_Years_Of_Association_Binned                 0.012678   0.184565   \n",
              "No_Of_Bugs_Reported_Binned                        0.016565   0.048952   \n",
              "\n",
              "                                   No_Of_Years_Of_Association_Binned  \\\n",
              "Id                                                         -0.182331   \n",
              "Domain_Education                                            0.217724   \n",
              "Domain_Finance                                              0.036528   \n",
              "Domain_Healthcare                                          -0.028132   \n",
              "Domain_Telecom                                             -0.288078   \n",
              "Domain_Insurance                                            0.030031   \n",
              "Domain_Retail                                               0.072300   \n",
              "Region_Africa                                               0.223162   \n",
              "Region_Asia                                                -0.180412   \n",
              "Region_Australia                                            0.028005   \n",
              "Region_Europe                                              -0.103610   \n",
              "Region_North America                                        0.272237   \n",
              "Region_South America                                       -0.243306   \n",
              "No_of_Products_already_purchased                            0.888758   \n",
              "Using_Similar_Product                                      -0.006396   \n",
              "CPQ_Customer                                                0.041398   \n",
              "CLM_Customer                                               -0.083421   \n",
              "IWA_Customer                                                0.473141   \n",
              "No_of_times_of_Renewal_                                     0.012678   \n",
              "Purchased                                                   0.184565   \n",
              "No_Of_Years_Of_Association_Binned                           1.000000   \n",
              "No_Of_Bugs_Reported_Binned                                  0.813307   \n",
              "\n",
              "                                   No_Of_Bugs_Reported_Binned  \n",
              "Id                                                  -0.182393  \n",
              "Domain_Education                                     0.414607  \n",
              "Domain_Finance                                       0.157639  \n",
              "Domain_Healthcare                                   -0.248805  \n",
              "Domain_Telecom                                      -0.105406  \n",
              "Domain_Insurance                                    -0.137988  \n",
              "Domain_Retail                                        0.164504  \n",
              "Region_Africa                                        0.420934  \n",
              "Region_Asia                                         -0.017337  \n",
              "Region_Australia                                    -0.023338  \n",
              "Region_Europe                                       -0.137558  \n",
              "Region_North America                                -0.028646  \n",
              "Region_South America                                -0.053316  \n",
              "No_of_Products_already_purchased                     0.832822  \n",
              "Using_Similar_Product                               -0.005424  \n",
              "CPQ_Customer                                         0.094058  \n",
              "CLM_Customer                                         0.021104  \n",
              "IWA_Customer                                         0.477201  \n",
              "No_of_times_of_Renewal_                              0.016565  \n",
              "Purchased                                            0.048952  \n",
              "No_Of_Years_Of_Association_Binned                    0.813307  \n",
              "No_Of_Bugs_Reported_Binned                           1.000000  \n",
              "\n",
              "[22 rows x 22 columns]"
            ],
            "text/html": [
              "\n",
              "  <div id=\"df-f35c5f9d-b451-4740-a1b4-7bb0ff0d5503\">\n",
              "    <div class=\"colab-df-container\">\n",
              "      <div>\n",
              "<style scoped>\n",
              "    .dataframe tbody tr th:only-of-type {\n",
              "        vertical-align: middle;\n",
              "    }\n",
              "\n",
              "    .dataframe tbody tr th {\n",
              "        vertical-align: top;\n",
              "    }\n",
              "\n",
              "    .dataframe thead th {\n",
              "        text-align: right;\n",
              "    }\n",
              "</style>\n",
              "<table border=\"1\" class=\"dataframe\">\n",
              "  <thead>\n",
              "    <tr style=\"text-align: right;\">\n",
              "      <th></th>\n",
              "      <th>Id</th>\n",
              "      <th>Domain_Education</th>\n",
              "      <th>Domain_Finance</th>\n",
              "      <th>Domain_Healthcare</th>\n",
              "      <th>Domain_Telecom</th>\n",
              "      <th>Domain_Insurance</th>\n",
              "      <th>Domain_Retail</th>\n",
              "      <th>Region_Africa</th>\n",
              "      <th>Region_Asia</th>\n",
              "      <th>Region_Australia</th>\n",
              "      <th>...</th>\n",
              "      <th>Region_South America</th>\n",
              "      <th>No_of_Products_already_purchased</th>\n",
              "      <th>Using_Similar_Product</th>\n",
              "      <th>CPQ_Customer</th>\n",
              "      <th>CLM_Customer</th>\n",
              "      <th>IWA_Customer</th>\n",
              "      <th>No_of_times_of_Renewal_</th>\n",
              "      <th>Purchased</th>\n",
              "      <th>No_Of_Years_Of_Association_Binned</th>\n",
              "      <th>No_Of_Bugs_Reported_Binned</th>\n",
              "    </tr>\n",
              "  </thead>\n",
              "  <tbody>\n",
              "    <tr>\n",
              "      <th>Id</th>\n",
              "      <td>1.000000</td>\n",
              "      <td>-0.377492</td>\n",
              "      <td>-0.545705</td>\n",
              "      <td>-0.340168</td>\n",
              "      <td>0.519615</td>\n",
              "      <td>0.250000</td>\n",
              "      <td>0.472944</td>\n",
              "      <td>-0.376835</td>\n",
              "      <td>-0.616209</td>\n",
              "      <td>-0.052864</td>\n",
              "      <td>...</td>\n",
              "      <td>0.514068</td>\n",
              "      <td>-0.145942</td>\n",
              "      <td>-0.007383</td>\n",
              "      <td>-0.502654</td>\n",
              "      <td>0.232638</td>\n",
              "      <td>-0.243595</td>\n",
              "      <td>-0.008749</td>\n",
              "      <td>-0.207666</td>\n",
              "      <td>-0.182331</td>\n",
              "      <td>-0.182393</td>\n",
              "    </tr>\n",
              "    <tr>\n",
              "      <th>Domain_Education</th>\n",
              "      <td>-0.377492</td>\n",
              "      <td>1.000000</td>\n",
              "      <td>-0.096374</td>\n",
              "      <td>-0.150188</td>\n",
              "      <td>-0.076472</td>\n",
              "      <td>-0.132453</td>\n",
              "      <td>-0.096374</td>\n",
              "      <td>0.990372</td>\n",
              "      <td>-0.127607</td>\n",
              "      <td>-0.052632</td>\n",
              "      <td>...</td>\n",
              "      <td>-0.076472</td>\n",
              "      <td>0.265464</td>\n",
              "      <td>-0.017697</td>\n",
              "      <td>0.059596</td>\n",
              "      <td>0.064679</td>\n",
              "      <td>0.200775</td>\n",
              "      <td>0.003925</td>\n",
              "      <td>-0.156831</td>\n",
              "      <td>0.217724</td>\n",
              "      <td>0.414607</td>\n",
              "    </tr>\n",
              "    <tr>\n",
              "      <th>Domain_Finance</th>\n",
              "      <td>-0.545705</td>\n",
              "      <td>-0.096374</td>\n",
              "      <td>1.000000</td>\n",
              "      <td>-0.275010</td>\n",
              "      <td>-0.140028</td>\n",
              "      <td>-0.242536</td>\n",
              "      <td>-0.176471</td>\n",
              "      <td>-0.090497</td>\n",
              "      <td>0.724649</td>\n",
              "      <td>-0.096374</td>\n",
              "      <td>...</td>\n",
              "      <td>-0.140028</td>\n",
              "      <td>-0.033361</td>\n",
              "      <td>0.013705</td>\n",
              "      <td>0.362850</td>\n",
              "      <td>-0.168286</td>\n",
              "      <td>0.203822</td>\n",
              "      <td>0.004525</td>\n",
              "      <td>-0.118602</td>\n",
              "      <td>0.036528</td>\n",
              "      <td>0.157639</td>\n",
              "    </tr>\n",
              "    <tr>\n",
              "      <th>Domain_Healthcare</th>\n",
              "      <td>-0.340168</td>\n",
              "      <td>-0.150188</td>\n",
              "      <td>-0.275010</td>\n",
              "      <td>1.000000</td>\n",
              "      <td>-0.218218</td>\n",
              "      <td>-0.377964</td>\n",
              "      <td>-0.275010</td>\n",
              "      <td>-0.150188</td>\n",
              "      <td>0.125988</td>\n",
              "      <td>0.350438</td>\n",
              "      <td>...</td>\n",
              "      <td>-0.218218</td>\n",
              "      <td>-0.022315</td>\n",
              "      <td>0.002063</td>\n",
              "      <td>0.133077</td>\n",
              "      <td>-0.052263</td>\n",
              "      <td>-0.042032</td>\n",
              "      <td>0.001422</td>\n",
              "      <td>0.408926</td>\n",
              "      <td>-0.028132</td>\n",
              "      <td>-0.248805</td>\n",
              "    </tr>\n",
              "    <tr>\n",
              "      <th>Domain_Telecom</th>\n",
              "      <td>0.519615</td>\n",
              "      <td>-0.076472</td>\n",
              "      <td>-0.140028</td>\n",
              "      <td>-0.218218</td>\n",
              "      <td>1.000000</td>\n",
              "      <td>-0.192450</td>\n",
              "      <td>-0.140028</td>\n",
              "      <td>-0.076472</td>\n",
              "      <td>-0.192450</td>\n",
              "      <td>-0.076472</td>\n",
              "      <td>...</td>\n",
              "      <td>0.942412</td>\n",
              "      <td>-0.168801</td>\n",
              "      <td>-0.009452</td>\n",
              "      <td>-0.263677</td>\n",
              "      <td>0.275369</td>\n",
              "      <td>-0.193043</td>\n",
              "      <td>-0.002444</td>\n",
              "      <td>-0.161331</td>\n",
              "      <td>-0.288078</td>\n",
              "      <td>-0.105406</td>\n",
              "    </tr>\n",
              "    <tr>\n",
              "      <th>Domain_Insurance</th>\n",
              "      <td>0.250000</td>\n",
              "      <td>-0.132453</td>\n",
              "      <td>-0.242536</td>\n",
              "      <td>-0.377964</td>\n",
              "      <td>-0.192450</td>\n",
              "      <td>1.000000</td>\n",
              "      <td>-0.242536</td>\n",
              "      <td>-0.132453</td>\n",
              "      <td>-0.333333</td>\n",
              "      <td>-0.132453</td>\n",
              "      <td>...</td>\n",
              "      <td>-0.192450</td>\n",
              "      <td>-0.126872</td>\n",
              "      <td>0.008273</td>\n",
              "      <td>-0.053552</td>\n",
              "      <td>-0.176616</td>\n",
              "      <td>-0.027615</td>\n",
              "      <td>-0.000157</td>\n",
              "      <td>-0.220922</td>\n",
              "      <td>0.030031</td>\n",
              "      <td>-0.137988</td>\n",
              "    </tr>\n",
              "    <tr>\n",
              "      <th>Domain_Retail</th>\n",
              "      <td>0.472944</td>\n",
              "      <td>-0.096374</td>\n",
              "      <td>-0.176471</td>\n",
              "      <td>-0.275010</td>\n",
              "      <td>-0.140028</td>\n",
              "      <td>-0.242536</td>\n",
              "      <td>1.000000</td>\n",
              "      <td>-0.096374</td>\n",
              "      <td>-0.242536</td>\n",
              "      <td>-0.096374</td>\n",
              "      <td>...</td>\n",
              "      <td>-0.091644</td>\n",
              "      <td>0.195645</td>\n",
              "      <td>-0.007642</td>\n",
              "      <td>-0.283540</td>\n",
              "      <td>0.178705</td>\n",
              "      <td>-0.076750</td>\n",
              "      <td>-0.006502</td>\n",
              "      <td>0.092972</td>\n",
              "      <td>0.072300</td>\n",
              "      <td>0.164504</td>\n",
              "    </tr>\n",
              "    <tr>\n",
              "      <th>Region_Africa</th>\n",
              "      <td>-0.376835</td>\n",
              "      <td>0.990372</td>\n",
              "      <td>-0.090497</td>\n",
              "      <td>-0.150188</td>\n",
              "      <td>-0.076472</td>\n",
              "      <td>-0.132453</td>\n",
              "      <td>-0.096374</td>\n",
              "      <td>1.000000</td>\n",
              "      <td>-0.132453</td>\n",
              "      <td>-0.052632</td>\n",
              "      <td>...</td>\n",
              "      <td>-0.076472</td>\n",
              "      <td>0.269207</td>\n",
              "      <td>-0.016298</td>\n",
              "      <td>0.059596</td>\n",
              "      <td>0.068911</td>\n",
              "      <td>0.205224</td>\n",
              "      <td>0.002056</td>\n",
              "      <td>-0.161058</td>\n",
              "      <td>0.223162</td>\n",
              "      <td>0.420934</td>\n",
              "    </tr>\n",
              "    <tr>\n",
              "      <th>Region_Asia</th>\n",
              "      <td>-0.616209</td>\n",
              "      <td>-0.127607</td>\n",
              "      <td>0.724649</td>\n",
              "      <td>0.125988</td>\n",
              "      <td>-0.192450</td>\n",
              "      <td>-0.333333</td>\n",
              "      <td>-0.242536</td>\n",
              "      <td>-0.132453</td>\n",
              "      <td>1.000000</td>\n",
              "      <td>-0.132453</td>\n",
              "      <td>...</td>\n",
              "      <td>-0.192450</td>\n",
              "      <td>-0.162673</td>\n",
              "      <td>0.020948</td>\n",
              "      <td>0.430371</td>\n",
              "      <td>-0.185846</td>\n",
              "      <td>0.067171</td>\n",
              "      <td>-0.004546</td>\n",
              "      <td>0.035106</td>\n",
              "      <td>-0.180412</td>\n",
              "      <td>-0.017337</td>\n",
              "    </tr>\n",
              "    <tr>\n",
              "      <th>Region_Australia</th>\n",
              "      <td>-0.052864</td>\n",
              "      <td>-0.052632</td>\n",
              "      <td>-0.096374</td>\n",
              "      <td>0.350438</td>\n",
              "      <td>-0.076472</td>\n",
              "      <td>-0.132453</td>\n",
              "      <td>-0.096374</td>\n",
              "      <td>-0.052632</td>\n",
              "      <td>-0.132453</td>\n",
              "      <td>1.000000</td>\n",
              "      <td>...</td>\n",
              "      <td>-0.076472</td>\n",
              "      <td>-0.076869</td>\n",
              "      <td>0.003288</td>\n",
              "      <td>0.086460</td>\n",
              "      <td>-0.066512</td>\n",
              "      <td>0.096977</td>\n",
              "      <td>0.013269</td>\n",
              "      <td>-0.110331</td>\n",
              "      <td>0.028005</td>\n",
              "      <td>-0.023338</td>\n",
              "    </tr>\n",
              "    <tr>\n",
              "      <th>Region_Europe</th>\n",
              "      <td>0.097639</td>\n",
              "      <td>-0.096374</td>\n",
              "      <td>-0.176471</td>\n",
              "      <td>-0.093347</td>\n",
              "      <td>-0.140028</td>\n",
              "      <td>0.535353</td>\n",
              "      <td>-0.176471</td>\n",
              "      <td>-0.096374</td>\n",
              "      <td>-0.242536</td>\n",
              "      <td>-0.096374</td>\n",
              "      <td>...</td>\n",
              "      <td>-0.140028</td>\n",
              "      <td>-0.174776</td>\n",
              "      <td>0.002604</td>\n",
              "      <td>-0.041899</td>\n",
              "      <td>-0.008998</td>\n",
              "      <td>0.100644</td>\n",
              "      <td>-0.003840</td>\n",
              "      <td>-0.245030</td>\n",
              "      <td>-0.103610</td>\n",
              "      <td>-0.137558</td>\n",
              "    </tr>\n",
              "    <tr>\n",
              "      <th>Region_North America</th>\n",
              "      <td>0.349853</td>\n",
              "      <td>-0.187317</td>\n",
              "      <td>-0.342997</td>\n",
              "      <td>0.001222</td>\n",
              "      <td>-0.236900</td>\n",
              "      <td>0.140128</td>\n",
              "      <td>0.484867</td>\n",
              "      <td>-0.187317</td>\n",
              "      <td>-0.471405</td>\n",
              "      <td>-0.187317</td>\n",
              "      <td>...</td>\n",
              "      <td>-0.272166</td>\n",
              "      <td>0.257516</td>\n",
              "      <td>-0.005726</td>\n",
              "      <td>-0.274755</td>\n",
              "      <td>0.022467</td>\n",
              "      <td>-0.148956</td>\n",
              "      <td>0.000665</td>\n",
              "      <td>0.345781</td>\n",
              "      <td>0.272237</td>\n",
              "      <td>-0.028646</td>\n",
              "    </tr>\n",
              "    <tr>\n",
              "      <th>Region_South America</th>\n",
              "      <td>0.514068</td>\n",
              "      <td>-0.076472</td>\n",
              "      <td>-0.140028</td>\n",
              "      <td>-0.218218</td>\n",
              "      <td>0.942412</td>\n",
              "      <td>-0.192450</td>\n",
              "      <td>-0.091644</td>\n",
              "      <td>-0.076472</td>\n",
              "      <td>-0.192450</td>\n",
              "      <td>-0.076472</td>\n",
              "      <td>...</td>\n",
              "      <td>1.000000</td>\n",
              "      <td>-0.117429</td>\n",
              "      <td>-0.014533</td>\n",
              "      <td>-0.228753</td>\n",
              "      <td>0.240525</td>\n",
              "      <td>-0.193043</td>\n",
              "      <td>-0.001086</td>\n",
              "      <td>-0.126526</td>\n",
              "      <td>-0.243306</td>\n",
              "      <td>-0.053316</td>\n",
              "    </tr>\n",
              "    <tr>\n",
              "      <th>No_of_Products_already_purchased</th>\n",
              "      <td>-0.145942</td>\n",
              "      <td>0.265464</td>\n",
              "      <td>-0.033361</td>\n",
              "      <td>-0.022315</td>\n",
              "      <td>-0.168801</td>\n",
              "      <td>-0.126872</td>\n",
              "      <td>0.195645</td>\n",
              "      <td>0.269207</td>\n",
              "      <td>-0.162673</td>\n",
              "      <td>-0.076869</td>\n",
              "      <td>...</td>\n",
              "      <td>-0.117429</td>\n",
              "      <td>1.000000</td>\n",
              "      <td>-0.013427</td>\n",
              "      <td>-0.040400</td>\n",
              "      <td>0.086748</td>\n",
              "      <td>0.319194</td>\n",
              "      <td>0.011231</td>\n",
              "      <td>0.418030</td>\n",
              "      <td>0.888758</td>\n",
              "      <td>0.832822</td>\n",
              "    </tr>\n",
              "    <tr>\n",
              "      <th>Using_Similar_Product</th>\n",
              "      <td>-0.007383</td>\n",
              "      <td>-0.017697</td>\n",
              "      <td>0.013705</td>\n",
              "      <td>0.002063</td>\n",
              "      <td>-0.009452</td>\n",
              "      <td>0.008273</td>\n",
              "      <td>-0.007642</td>\n",
              "      <td>-0.016298</td>\n",
              "      <td>0.020948</td>\n",
              "      <td>0.003288</td>\n",
              "      <td>...</td>\n",
              "      <td>-0.014533</td>\n",
              "      <td>-0.013427</td>\n",
              "      <td>1.000000</td>\n",
              "      <td>0.000370</td>\n",
              "      <td>-0.011147</td>\n",
              "      <td>0.005154</td>\n",
              "      <td>-0.012619</td>\n",
              "      <td>-0.004618</td>\n",
              "      <td>-0.006396</td>\n",
              "      <td>-0.005424</td>\n",
              "    </tr>\n",
              "    <tr>\n",
              "      <th>CPQ_Customer</th>\n",
              "      <td>-0.502654</td>\n",
              "      <td>0.059596</td>\n",
              "      <td>0.362850</td>\n",
              "      <td>0.133077</td>\n",
              "      <td>-0.263677</td>\n",
              "      <td>-0.053552</td>\n",
              "      <td>-0.283540</td>\n",
              "      <td>0.059596</td>\n",
              "      <td>0.430371</td>\n",
              "      <td>0.086460</td>\n",
              "      <td>...</td>\n",
              "      <td>-0.228753</td>\n",
              "      <td>-0.040400</td>\n",
              "      <td>0.000370</td>\n",
              "      <td>1.000000</td>\n",
              "      <td>-0.448571</td>\n",
              "      <td>-0.008746</td>\n",
              "      <td>0.017822</td>\n",
              "      <td>0.098800</td>\n",
              "      <td>0.041398</td>\n",
              "      <td>0.094058</td>\n",
              "    </tr>\n",
              "    <tr>\n",
              "      <th>CLM_Customer</th>\n",
              "      <td>0.232638</td>\n",
              "      <td>0.064679</td>\n",
              "      <td>-0.168286</td>\n",
              "      <td>-0.052263</td>\n",
              "      <td>0.275369</td>\n",
              "      <td>-0.176616</td>\n",
              "      <td>0.178705</td>\n",
              "      <td>0.068911</td>\n",
              "      <td>-0.185846</td>\n",
              "      <td>-0.066512</td>\n",
              "      <td>...</td>\n",
              "      <td>0.240525</td>\n",
              "      <td>0.086748</td>\n",
              "      <td>-0.011147</td>\n",
              "      <td>-0.448571</td>\n",
              "      <td>1.000000</td>\n",
              "      <td>-0.147530</td>\n",
              "      <td>0.004076</td>\n",
              "      <td>-0.070048</td>\n",
              "      <td>-0.083421</td>\n",
              "      <td>0.021104</td>\n",
              "    </tr>\n",
              "    <tr>\n",
              "      <th>IWA_Customer</th>\n",
              "      <td>-0.243595</td>\n",
              "      <td>0.200775</td>\n",
              "      <td>0.203822</td>\n",
              "      <td>-0.042032</td>\n",
              "      <td>-0.193043</td>\n",
              "      <td>-0.027615</td>\n",
              "      <td>-0.076750</td>\n",
              "      <td>0.205224</td>\n",
              "      <td>0.067171</td>\n",
              "      <td>0.096977</td>\n",
              "      <td>...</td>\n",
              "      <td>-0.193043</td>\n",
              "      <td>0.319194</td>\n",
              "      <td>0.005154</td>\n",
              "      <td>-0.008746</td>\n",
              "      <td>-0.147530</td>\n",
              "      <td>1.000000</td>\n",
              "      <td>0.001441</td>\n",
              "      <td>-0.198149</td>\n",
              "      <td>0.473141</td>\n",
              "      <td>0.477201</td>\n",
              "    </tr>\n",
              "    <tr>\n",
              "      <th>No_of_times_of_Renewal_</th>\n",
              "      <td>-0.008749</td>\n",
              "      <td>0.003925</td>\n",
              "      <td>0.004525</td>\n",
              "      <td>0.001422</td>\n",
              "      <td>-0.002444</td>\n",
              "      <td>-0.000157</td>\n",
              "      <td>-0.006502</td>\n",
              "      <td>0.002056</td>\n",
              "      <td>-0.004546</td>\n",
              "      <td>0.013269</td>\n",
              "      <td>...</td>\n",
              "      <td>-0.001086</td>\n",
              "      <td>0.011231</td>\n",
              "      <td>-0.012619</td>\n",
              "      <td>0.017822</td>\n",
              "      <td>0.004076</td>\n",
              "      <td>0.001441</td>\n",
              "      <td>1.000000</td>\n",
              "      <td>-0.002560</td>\n",
              "      <td>0.012678</td>\n",
              "      <td>0.016565</td>\n",
              "    </tr>\n",
              "    <tr>\n",
              "      <th>Purchased</th>\n",
              "      <td>-0.207666</td>\n",
              "      <td>-0.156831</td>\n",
              "      <td>-0.118602</td>\n",
              "      <td>0.408926</td>\n",
              "      <td>-0.161331</td>\n",
              "      <td>-0.220922</td>\n",
              "      <td>0.092972</td>\n",
              "      <td>-0.161058</td>\n",
              "      <td>0.035106</td>\n",
              "      <td>-0.110331</td>\n",
              "      <td>...</td>\n",
              "      <td>-0.126526</td>\n",
              "      <td>0.418030</td>\n",
              "      <td>-0.004618</td>\n",
              "      <td>0.098800</td>\n",
              "      <td>-0.070048</td>\n",
              "      <td>-0.198149</td>\n",
              "      <td>-0.002560</td>\n",
              "      <td>1.000000</td>\n",
              "      <td>0.184565</td>\n",
              "      <td>0.048952</td>\n",
              "    </tr>\n",
              "    <tr>\n",
              "      <th>No_Of_Years_Of_Association_Binned</th>\n",
              "      <td>-0.182331</td>\n",
              "      <td>0.217724</td>\n",
              "      <td>0.036528</td>\n",
              "      <td>-0.028132</td>\n",
              "      <td>-0.288078</td>\n",
              "      <td>0.030031</td>\n",
              "      <td>0.072300</td>\n",
              "      <td>0.223162</td>\n",
              "      <td>-0.180412</td>\n",
              "      <td>0.028005</td>\n",
              "      <td>...</td>\n",
              "      <td>-0.243306</td>\n",
              "      <td>0.888758</td>\n",
              "      <td>-0.006396</td>\n",
              "      <td>0.041398</td>\n",
              "      <td>-0.083421</td>\n",
              "      <td>0.473141</td>\n",
              "      <td>0.012678</td>\n",
              "      <td>0.184565</td>\n",
              "      <td>1.000000</td>\n",
              "      <td>0.813307</td>\n",
              "    </tr>\n",
              "    <tr>\n",
              "      <th>No_Of_Bugs_Reported_Binned</th>\n",
              "      <td>-0.182393</td>\n",
              "      <td>0.414607</td>\n",
              "      <td>0.157639</td>\n",
              "      <td>-0.248805</td>\n",
              "      <td>-0.105406</td>\n",
              "      <td>-0.137988</td>\n",
              "      <td>0.164504</td>\n",
              "      <td>0.420934</td>\n",
              "      <td>-0.017337</td>\n",
              "      <td>-0.023338</td>\n",
              "      <td>...</td>\n",
              "      <td>-0.053316</td>\n",
              "      <td>0.832822</td>\n",
              "      <td>-0.005424</td>\n",
              "      <td>0.094058</td>\n",
              "      <td>0.021104</td>\n",
              "      <td>0.477201</td>\n",
              "      <td>0.016565</td>\n",
              "      <td>0.048952</td>\n",
              "      <td>0.813307</td>\n",
              "      <td>1.000000</td>\n",
              "    </tr>\n",
              "  </tbody>\n",
              "</table>\n",
              "<p>22 rows × 22 columns</p>\n",
              "</div>\n",
              "      <button class=\"colab-df-convert\" onclick=\"convertToInteractive('df-f35c5f9d-b451-4740-a1b4-7bb0ff0d5503')\"\n",
              "              title=\"Convert this dataframe to an interactive table.\"\n",
              "              style=\"display:none;\">\n",
              "        \n",
              "  <svg xmlns=\"http://www.w3.org/2000/svg\" height=\"24px\"viewBox=\"0 0 24 24\"\n",
              "       width=\"24px\">\n",
              "    <path d=\"M0 0h24v24H0V0z\" fill=\"none\"/>\n",
              "    <path d=\"M18.56 5.44l.94 2.06.94-2.06 2.06-.94-2.06-.94-.94-2.06-.94 2.06-2.06.94zm-11 1L8.5 8.5l.94-2.06 2.06-.94-2.06-.94L8.5 2.5l-.94 2.06-2.06.94zm10 10l.94 2.06.94-2.06 2.06-.94-2.06-.94-.94-2.06-.94 2.06-2.06.94z\"/><path d=\"M17.41 7.96l-1.37-1.37c-.4-.4-.92-.59-1.43-.59-.52 0-1.04.2-1.43.59L10.3 9.45l-7.72 7.72c-.78.78-.78 2.05 0 2.83L4 21.41c.39.39.9.59 1.41.59.51 0 1.02-.2 1.41-.59l7.78-7.78 2.81-2.81c.8-.78.8-2.07 0-2.86zM5.41 20L4 18.59l7.72-7.72 1.47 1.35L5.41 20z\"/>\n",
              "  </svg>\n",
              "      </button>\n",
              "      \n",
              "  <style>\n",
              "    .colab-df-container {\n",
              "      display:flex;\n",
              "      flex-wrap:wrap;\n",
              "      gap: 12px;\n",
              "    }\n",
              "\n",
              "    .colab-df-convert {\n",
              "      background-color: #E8F0FE;\n",
              "      border: none;\n",
              "      border-radius: 50%;\n",
              "      cursor: pointer;\n",
              "      display: none;\n",
              "      fill: #1967D2;\n",
              "      height: 32px;\n",
              "      padding: 0 0 0 0;\n",
              "      width: 32px;\n",
              "    }\n",
              "\n",
              "    .colab-df-convert:hover {\n",
              "      background-color: #E2EBFA;\n",
              "      box-shadow: 0px 1px 2px rgba(60, 64, 67, 0.3), 0px 1px 3px 1px rgba(60, 64, 67, 0.15);\n",
              "      fill: #174EA6;\n",
              "    }\n",
              "\n",
              "    [theme=dark] .colab-df-convert {\n",
              "      background-color: #3B4455;\n",
              "      fill: #D2E3FC;\n",
              "    }\n",
              "\n",
              "    [theme=dark] .colab-df-convert:hover {\n",
              "      background-color: #434B5C;\n",
              "      box-shadow: 0px 1px 3px 1px rgba(0, 0, 0, 0.15);\n",
              "      filter: drop-shadow(0px 1px 2px rgba(0, 0, 0, 0.3));\n",
              "      fill: #FFFFFF;\n",
              "    }\n",
              "  </style>\n",
              "\n",
              "      <script>\n",
              "        const buttonEl =\n",
              "          document.querySelector('#df-f35c5f9d-b451-4740-a1b4-7bb0ff0d5503 button.colab-df-convert');\n",
              "        buttonEl.style.display =\n",
              "          google.colab.kernel.accessAllowed ? 'block' : 'none';\n",
              "\n",
              "        async function convertToInteractive(key) {\n",
              "          const element = document.querySelector('#df-f35c5f9d-b451-4740-a1b4-7bb0ff0d5503');\n",
              "          const dataTable =\n",
              "            await google.colab.kernel.invokeFunction('convertToInteractive',\n",
              "                                                     [key], {});\n",
              "          if (!dataTable) return;\n",
              "\n",
              "          const docLinkHtml = 'Like what you see? Visit the ' +\n",
              "            '<a target=\"_blank\" href=https://colab.research.google.com/notebooks/data_table.ipynb>data table notebook</a>'\n",
              "            + ' to learn more about interactive tables.';\n",
              "          element.innerHTML = '';\n",
              "          dataTable['output_type'] = 'display_data';\n",
              "          await google.colab.output.renderOutput(dataTable, element);\n",
              "          const docLink = document.createElement('div');\n",
              "          docLink.innerHTML = docLinkHtml;\n",
              "          element.appendChild(docLink);\n",
              "        }\n",
              "      </script>\n",
              "    </div>\n",
              "  </div>\n",
              "  "
            ]
          },
          "metadata": {},
          "execution_count": 244
        },
        {
          "output_type": "display_data",
          "data": {
            "text/plain": [
              "<Figure size 432x288 with 2 Axes>"
            ],
            "image/png": "[encoded data removed]"
          },
          "metadata": {
            "needs_background": "light"
          }
        }
      ]
    },
    {
      "cell_type": "code",
      "source": [
        "# Modelling"
      ],
      "metadata": {
        "id": "piNjcmko98dR"
      },
      "id": "piNjcmko98dR",
      "execution_count": 245,
      "outputs": []
    },
    {
      "cell_type": "code",
      "source": [
        "#Extract dependent variable from dataset\n",
        "y = data['Purchased']\n",
        "y.head()"
      ],
      "metadata": {
        "colab": {
          "base_uri": "https://localhost:8080/"
        },
        "id": "2KZQ0vPn-Jx9",
        "outputId": "89c5359d-ed45-4771-982b-f53660293d24"
      },
      "id": "2KZQ0vPn-Jx9",
      "execution_count": 246,
      "outputs": [
        {
          "output_type": "execute_result",
          "data": {
            "text/plain": [
              "0    1\n",
              "1    1\n",
              "2    1\n",
              "3    1\n",
              "4    1\n",
              "Name: Purchased, dtype: int64"
            ]
          },
          "metadata": {},
          "execution_count": 246
        }
      ]
    },
    {
      "cell_type": "code",
      "source": [
        "#Extract set of Independent variables from dataset\n",
        "x = data.loc[:, ~data.columns.isin(['Purchased', 'Id'])]"
      ],
      "metadata": {
        "id": "4JOeoPGsC1JN"
      },
      "id": "4JOeoPGsC1JN",
      "execution_count": 247,
      "outputs": []
    },
    {
      "cell_type": "code",
      "source": [
        "#Dividing Train and Test dataset into 75:25 ratio\n",
        "train_x, test_x, train_y, test_y = train_test_split(x, y, test_size = 0.25, random_state = 1)\n",
        "train_x.shape\n",
        "test_x.shape\n",
        "train_y.shape\n",
        "test_y.shape"
      ],
      "metadata": {
        "colab": {
          "base_uri": "https://localhost:8080/"
        },
        "id": "0fimU4Bcxzih",
        "outputId": "24d757f7-42ec-4c63-daae-7331588a36bf"
      },
      "id": "0fimU4Bcxzih",
      "execution_count": 248,
      "outputs": [
        {
          "output_type": "execute_result",
          "data": {
            "text/plain": [
              "(4920, 15)"
            ]
          },
          "metadata": {},
          "execution_count": 248
        },
        {
          "output_type": "execute_result",
          "data": {
            "text/plain": [
              "(1640, 15)"
            ]
          },
          "metadata": {},
          "execution_count": 248
        },
        {
          "output_type": "execute_result",
          "data": {
            "text/plain": [
              "(4920,)"
            ]
          },
          "metadata": {},
          "execution_count": 248
        },
        {
          "output_type": "execute_result",
          "data": {
            "text/plain": [
              "(1640,)"
            ]
          },
          "metadata": {},
          "execution_count": 248
        }
      ]
    },
    {
      "cell_type": "code",
      "source": [
        "#Decision Tree Training\n",
        "clf = tree.DecisionTreeClassifier(criterion = \"gini\", max_depth = 3)\n",
        "clf.fit(train_x, train_y)"
      ],
      "metadata": {
        "colab": {
          "base_uri": "https://localhost:8080/"
        },
        "id": "_6cU9MCW9-qy",
        "outputId": "f886bddb-beec-4edf-97f7-645b931f8117"
      },
      "id": "_6cU9MCW9-qy",
      "execution_count": 249,
      "outputs": [
        {
          "output_type": "execute_result",
          "data": {
            "text/plain": [
              "DecisionTreeClassifier(max_depth=3)"
            ]
          },
          "metadata": {},
          "execution_count": 249
        }
      ]
    },
    {
      "cell_type": "code",
      "source": [
        "#Plot decision tree\n",
        "dot_data = tree.export_graphviz(clf, out_file = None, feature_names = train_x.columns, class_names = ['0','1'], filled = True, rounded = True, special_characters=True)\n",
        "graph = graphviz.Source(dot_data)\n",
        "graph"
      ],
      "metadata": {
        "colab": {
          "base_uri": "https://localhost:8080/",
          "height": 618
        },
        "id": "eQ5VRTM_DOWI",
        "outputId": "d30b5d9b-1c67-429f-b5cf-18faf29d5021"
      },
      "id": "eQ5VRTM_DOWI",
      "execution_count": 250,
      "outputs": [
        {
          "output_type": "execute_result",
          "data": {
            "text/plain": [
              "<graphviz.files.Source at 0x7f67b3aa2590>"
            ],
            "image/svg+xml": "<?xml version=\"1.0\" encoding=\"UTF-8\" standalone=\"no\"?>\n<!DOCTYPE svg PUBLIC \"-//W3C//DTD SVG 1.1//EN\"\n \"http://www.w3.org/Graphics/SVG/1.1/DTD/svg11.dtd\">\n<!-- Generated by graphviz version 2.40.1 (20161225.0304)\n -->\n<!-- Title: Tree Pages: 1 -->\n<svg width=\"1126pt\" height=\"433pt\"\n viewBox=\"0.00 0.00 1126.00 433.00\" xmlns=\"http://www.w3.org/2000/svg\" xmlns:xlink=\"http://www.w3.org/1999/xlink\">\n<g id=\"graph0\" class=\"graph\" transform=\"scale(1 1) rotate(0) translate(4 429)\">\n<title>Tree</title>\n<polygon fill=\"#ffffff\" stroke=\"transparent\" points=\"-4,4 -4,-429 1122,-429 1122,4 -4,4\"/>\n<!-- 0 -->\n<g id=\"node1\" class=\"node\">\n<title>0</title>\n<path fill=\"#f9e1cf\" stroke=\"#000000\" d=\"M628.5,-425C628.5,-425 471.5,-425 471.5,-425 465.5,-425 459.5,-419 459.5,-413 459.5,-413 459.5,-354 459.5,-354 459.5,-348 465.5,-342 471.5,-342 471.5,-342 628.5,-342 628.5,-342 634.5,-342 640.5,-348 640.5,-354 640.5,-354 640.5,-413 640.5,-413 640.5,-419 634.5,-425 628.5,-425\"/>\n<text text-anchor=\"start\" x=\"467.5\" y=\"-409.8\" font-family=\"Helvetica,sans-Serif\" font-size=\"14.00\" fill=\"#000000\">Domain_Healthcare ≤ 0.5</text>\n<text text-anchor=\"start\" x=\"512\" y=\"-394.8\" font-family=\"Helvetica,sans-Serif\" font-size=\"14.00\" fill=\"#000000\">gini = 0.491</text>\n<text text-anchor=\"start\" x=\"498\" y=\"-379.8\" font-family=\"Helvetica,sans-Serif\" font-size=\"14.00\" fill=\"#000000\">samples = 4920</text>\n<text text-anchor=\"start\" x=\"483.5\" y=\"-364.8\" font-family=\"Helvetica,sans-Serif\" font-size=\"14.00\" fill=\"#000000\">value = [2796, 2124]</text>\n<text text-anchor=\"start\" x=\"521\" y=\"-349.8\" font-family=\"Helvetica,sans-Serif\" font-size=\"14.00\" fill=\"#000000\">class = 0</text>\n</g>\n<!-- 1 -->\n<g id=\"node2\" class=\"node\">\n<title>1</title>\n<path fill=\"#f0b78e\" stroke=\"#000000\" d=\"M502,-306C502,-306 328,-306 328,-306 322,-306 316,-300 316,-294 316,-294 316,-235 316,-235 316,-229 322,-223 328,-223 328,-223 502,-223 502,-223 508,-223 514,-229 514,-235 514,-235 514,-294 514,-294 514,-300 508,-306 502,-306\"/>\n<text text-anchor=\"start\" x=\"324\" y=\"-290.8\" font-family=\"Helvetica,sans-Serif\" font-size=\"14.00\" fill=\"#000000\">Region_North America ≤ 0.5</text>\n<text text-anchor=\"start\" x=\"381.5\" y=\"-275.8\" font-family=\"Helvetica,sans-Serif\" font-size=\"14.00\" fill=\"#000000\">gini = 0.42</text>\n<text text-anchor=\"start\" x=\"363\" y=\"-260.8\" font-family=\"Helvetica,sans-Serif\" font-size=\"14.00\" fill=\"#000000\">samples = 3465</text>\n<text text-anchor=\"start\" x=\"348.5\" y=\"-245.8\" font-family=\"Helvetica,sans-Serif\" font-size=\"14.00\" fill=\"#000000\">value = [2426, 1039]</text>\n<text text-anchor=\"start\" x=\"386\" y=\"-230.8\" font-family=\"Helvetica,sans-Serif\" font-size=\"14.00\" fill=\"#000000\">class = 0</text>\n</g>\n<!-- 0&#45;&gt;1 -->\n<g id=\"edge1\" class=\"edge\">\n<title>0&#45;&gt;1</title>\n<path fill=\"none\" stroke=\"#000000\" d=\"M502.7836,-341.8796C492.2598,-332.6031 481.0109,-322.6874 470.1979,-313.1559\"/>\n<polygon fill=\"#000000\" stroke=\"#000000\" points=\"472.234,-310.2851 462.418,-306.2981 467.6052,-315.5362 472.234,-310.2851\"/>\n<text text-anchor=\"middle\" x=\"463.9897\" y=\"-327.5486\" font-family=\"Helvetica,sans-Serif\" font-size=\"14.00\" fill=\"#000000\">True</text>\n</g>\n<!-- 8 -->\n<g id=\"node9\" class=\"node\">\n<title>8</title>\n<path fill=\"#7dbeee\" stroke=\"#000000\" d=\"M761.5,-306C761.5,-306 622.5,-306 622.5,-306 616.5,-306 610.5,-300 610.5,-294 610.5,-294 610.5,-235 610.5,-235 610.5,-229 616.5,-223 622.5,-223 622.5,-223 761.5,-223 761.5,-223 767.5,-223 773.5,-229 773.5,-235 773.5,-235 773.5,-294 773.5,-294 773.5,-300 767.5,-306 761.5,-306\"/>\n<text text-anchor=\"start\" x=\"618.5\" y=\"-290.8\" font-family=\"Helvetica,sans-Serif\" font-size=\"14.00\" fill=\"#000000\">Region_Australia ≤ 0.5</text>\n<text text-anchor=\"start\" x=\"654\" y=\"-275.8\" font-family=\"Helvetica,sans-Serif\" font-size=\"14.00\" fill=\"#000000\">gini = 0.379</text>\n<text text-anchor=\"start\" x=\"640\" y=\"-260.8\" font-family=\"Helvetica,sans-Serif\" font-size=\"14.00\" fill=\"#000000\">samples = 1455</text>\n<text text-anchor=\"start\" x=\"630\" y=\"-245.8\" font-family=\"Helvetica,sans-Serif\" font-size=\"14.00\" fill=\"#000000\">value = [370, 1085]</text>\n<text text-anchor=\"start\" x=\"663\" y=\"-230.8\" font-family=\"Helvetica,sans-Serif\" font-size=\"14.00\" fill=\"#000000\">class = 1</text>\n</g>\n<!-- 0&#45;&gt;8 -->\n<g id=\"edge8\" class=\"edge\">\n<title>0&#45;&gt;8</title>\n<path fill=\"none\" stroke=\"#000000\" d=\"M599.6647,-341.8796C610.8416,-332.513 622.7962,-322.4948 634.2712,-312.8784\"/>\n<polygon fill=\"#000000\" stroke=\"#000000\" points=\"636.7069,-315.4037 642.1233,-306.2981 632.2107,-310.0386 636.7069,-315.4037\"/>\n<text text-anchor=\"middle\" x=\"639.9287\" y=\"-327.5016\" font-family=\"Helvetica,sans-Serif\" font-size=\"14.00\" fill=\"#000000\">False</text>\n</g>\n<!-- 2 -->\n<g id=\"node3\" class=\"node\">\n<title>2</title>\n<path fill=\"#eb9c64\" stroke=\"#000000\" d=\"M274.5,-187C274.5,-187 149.5,-187 149.5,-187 143.5,-187 137.5,-181 137.5,-175 137.5,-175 137.5,-116 137.5,-116 137.5,-110 143.5,-104 149.5,-104 149.5,-104 274.5,-104 274.5,-104 280.5,-104 286.5,-110 286.5,-116 286.5,-116 286.5,-175 286.5,-175 286.5,-181 280.5,-187 274.5,-187\"/>\n<text text-anchor=\"start\" x=\"145.5\" y=\"-171.8\" font-family=\"Helvetica,sans-Serif\" font-size=\"14.00\" fill=\"#000000\">IWA_Customer ≤ 0.5</text>\n<text text-anchor=\"start\" x=\"174\" y=\"-156.8\" font-family=\"Helvetica,sans-Serif\" font-size=\"14.00\" fill=\"#000000\">gini = 0.293</text>\n<text text-anchor=\"start\" x=\"160\" y=\"-141.8\" font-family=\"Helvetica,sans-Serif\" font-size=\"14.00\" fill=\"#000000\">samples = 2099</text>\n<text text-anchor=\"start\" x=\"150\" y=\"-126.8\" font-family=\"Helvetica,sans-Serif\" font-size=\"14.00\" fill=\"#000000\">value = [1724, 375]</text>\n<text text-anchor=\"start\" x=\"183\" y=\"-111.8\" font-family=\"Helvetica,sans-Serif\" font-size=\"14.00\" fill=\"#000000\">class = 0</text>\n</g>\n<!-- 1&#45;&gt;2 -->\n<g id=\"edge2\" class=\"edge\">\n<title>1&#45;&gt;2</title>\n<path fill=\"none\" stroke=\"#000000\" d=\"M344.0005,-222.8796C327.1566,-213.0056 309.0774,-202.4075 291.8683,-192.3193\"/>\n<polygon fill=\"#000000\" stroke=\"#000000\" points=\"293.3565,-189.1347 282.9595,-187.0969 289.8164,-195.1736 293.3565,-189.1347\"/>\n</g>\n<!-- 5 -->\n<g id=\"node6\" class=\"node\">\n<title>5</title>\n<path fill=\"#fef8f4\" stroke=\"#000000\" d=\"M477.5,-187C477.5,-187 352.5,-187 352.5,-187 346.5,-187 340.5,-181 340.5,-175 340.5,-175 340.5,-116 340.5,-116 340.5,-110 346.5,-104 352.5,-104 352.5,-104 477.5,-104 477.5,-104 483.5,-104 489.5,-110 489.5,-116 489.5,-116 489.5,-175 489.5,-175 489.5,-181 483.5,-187 477.5,-187\"/>\n<text text-anchor=\"start\" x=\"348.5\" y=\"-171.8\" font-family=\"Helvetica,sans-Serif\" font-size=\"14.00\" fill=\"#000000\">IWA_Customer ≤ 0.5</text>\n<text text-anchor=\"start\" x=\"385.5\" y=\"-156.8\" font-family=\"Helvetica,sans-Serif\" font-size=\"14.00\" fill=\"#000000\">gini = 0.5</text>\n<text text-anchor=\"start\" x=\"363\" y=\"-141.8\" font-family=\"Helvetica,sans-Serif\" font-size=\"14.00\" fill=\"#000000\">samples = 1366</text>\n<text text-anchor=\"start\" x=\"357\" y=\"-126.8\" font-family=\"Helvetica,sans-Serif\" font-size=\"14.00\" fill=\"#000000\">value = [702, 664]</text>\n<text text-anchor=\"start\" x=\"386\" y=\"-111.8\" font-family=\"Helvetica,sans-Serif\" font-size=\"14.00\" fill=\"#000000\">class = 0</text>\n</g>\n<!-- 1&#45;&gt;5 -->\n<g id=\"edge5\" class=\"edge\">\n<title>1&#45;&gt;5</title>\n<path fill=\"none\" stroke=\"#000000\" d=\"M415,-222.8796C415,-214.6838 415,-205.9891 415,-197.5013\"/>\n<polygon fill=\"#000000\" stroke=\"#000000\" points=\"418.5001,-197.298 415,-187.2981 411.5001,-197.2981 418.5001,-197.298\"/>\n</g>\n<!-- 3 -->\n<g id=\"node4\" class=\"node\">\n<title>3</title>\n<path fill=\"#f0b68c\" stroke=\"#000000\" d=\"M120,-68C120,-68 12,-68 12,-68 6,-68 0,-62 0,-56 0,-56 0,-12 0,-12 0,-6 6,0 12,0 12,0 120,0 120,0 126,0 132,-6 132,-12 132,-12 132,-56 132,-56 132,-62 126,-68 120,-68\"/>\n<text text-anchor=\"start\" x=\"28\" y=\"-52.8\" font-family=\"Helvetica,sans-Serif\" font-size=\"14.00\" fill=\"#000000\">gini = 0.417</text>\n<text text-anchor=\"start\" x=\"14\" y=\"-37.8\" font-family=\"Helvetica,sans-Serif\" font-size=\"14.00\" fill=\"#000000\">samples = 1153</text>\n<text text-anchor=\"start\" x=\"8\" y=\"-22.8\" font-family=\"Helvetica,sans-Serif\" font-size=\"14.00\" fill=\"#000000\">value = [812, 341]</text>\n<text text-anchor=\"start\" x=\"37\" y=\"-7.8\" font-family=\"Helvetica,sans-Serif\" font-size=\"14.00\" fill=\"#000000\">class = 0</text>\n</g>\n<!-- 2&#45;&gt;3 -->\n<g id=\"edge3\" class=\"edge\">\n<title>2&#45;&gt;3</title>\n<path fill=\"none\" stroke=\"#000000\" d=\"M157.635,-103.9815C144.9989,-94.3313 131.5644,-84.0714 118.9885,-74.4673\"/>\n<polygon fill=\"#000000\" stroke=\"#000000\" points=\"120.9372,-71.5515 110.8654,-68.2637 116.6886,-77.1148 120.9372,-71.5515\"/>\n</g>\n<!-- 4 -->\n<g id=\"node5\" class=\"node\">\n<title>4</title>\n<path fill=\"#e68640\" stroke=\"#000000\" d=\"M262,-68C262,-68 162,-68 162,-68 156,-68 150,-62 150,-56 150,-56 150,-12 150,-12 150,-6 156,0 162,0 162,0 262,0 262,0 268,0 274,-6 274,-12 274,-12 274,-56 274,-56 274,-62 268,-68 262,-68\"/>\n<text text-anchor=\"start\" x=\"174\" y=\"-52.8\" font-family=\"Helvetica,sans-Serif\" font-size=\"14.00\" fill=\"#000000\">gini = 0.069</text>\n<text text-anchor=\"start\" x=\"164\" y=\"-37.8\" font-family=\"Helvetica,sans-Serif\" font-size=\"14.00\" fill=\"#000000\">samples = 946</text>\n<text text-anchor=\"start\" x=\"158\" y=\"-22.8\" font-family=\"Helvetica,sans-Serif\" font-size=\"14.00\" fill=\"#000000\">value = [912, 34]</text>\n<text text-anchor=\"start\" x=\"183\" y=\"-7.8\" font-family=\"Helvetica,sans-Serif\" font-size=\"14.00\" fill=\"#000000\">class = 0</text>\n</g>\n<!-- 2&#45;&gt;4 -->\n<g id=\"edge4\" class=\"edge\">\n<title>2&#45;&gt;4</title>\n<path fill=\"none\" stroke=\"#000000\" d=\"M212,-103.9815C212,-95.618 212,-86.7965 212,-78.3409\"/>\n<polygon fill=\"#000000\" stroke=\"#000000\" points=\"215.5001,-78.2636 212,-68.2637 208.5001,-78.2637 215.5001,-78.2636\"/>\n</g>\n<!-- 6 -->\n<g id=\"node7\" class=\"node\">\n<title>6</title>\n<path fill=\"#f5d0b6\" stroke=\"#000000\" d=\"M412,-68C412,-68 304,-68 304,-68 298,-68 292,-62 292,-56 292,-56 292,-12 292,-12 292,-6 298,0 304,0 304,0 412,0 412,0 418,0 424,-6 424,-12 424,-12 424,-56 424,-56 424,-62 418,-68 412,-68\"/>\n<text text-anchor=\"start\" x=\"320\" y=\"-52.8\" font-family=\"Helvetica,sans-Serif\" font-size=\"14.00\" fill=\"#000000\">gini = 0.474</text>\n<text text-anchor=\"start\" x=\"306\" y=\"-37.8\" font-family=\"Helvetica,sans-Serif\" font-size=\"14.00\" fill=\"#000000\">samples = 1106</text>\n<text text-anchor=\"start\" x=\"300\" y=\"-22.8\" font-family=\"Helvetica,sans-Serif\" font-size=\"14.00\" fill=\"#000000\">value = [679, 427]</text>\n<text text-anchor=\"start\" x=\"329\" y=\"-7.8\" font-family=\"Helvetica,sans-Serif\" font-size=\"14.00\" fill=\"#000000\">class = 0</text>\n</g>\n<!-- 5&#45;&gt;6 -->\n<g id=\"edge6\" class=\"edge\">\n<title>5&#45;&gt;6</title>\n<path fill=\"none\" stroke=\"#000000\" d=\"M393.7753,-103.9815C389.3119,-95.2504 384.5933,-86.0202 380.0987,-77.2281\"/>\n<polygon fill=\"#000000\" stroke=\"#000000\" points=\"383.1842,-75.5745 375.516,-68.2637 376.9514,-78.7608 383.1842,-75.5745\"/>\n</g>\n<!-- 7 -->\n<g id=\"node8\" class=\"node\">\n<title>7</title>\n<path fill=\"#4ca7e8\" stroke=\"#000000\" d=\"M554,-68C554,-68 454,-68 454,-68 448,-68 442,-62 442,-56 442,-56 442,-12 442,-12 442,-6 448,0 454,0 454,0 554,0 554,0 560,0 566,-6 566,-12 566,-12 566,-56 566,-56 566,-62 560,-68 554,-68\"/>\n<text text-anchor=\"start\" x=\"466\" y=\"-52.8\" font-family=\"Helvetica,sans-Serif\" font-size=\"14.00\" fill=\"#000000\">gini = 0.161</text>\n<text text-anchor=\"start\" x=\"456\" y=\"-37.8\" font-family=\"Helvetica,sans-Serif\" font-size=\"14.00\" fill=\"#000000\">samples = 260</text>\n<text text-anchor=\"start\" x=\"450\" y=\"-22.8\" font-family=\"Helvetica,sans-Serif\" font-size=\"14.00\" fill=\"#000000\">value = [23, 237]</text>\n<text text-anchor=\"start\" x=\"475\" y=\"-7.8\" font-family=\"Helvetica,sans-Serif\" font-size=\"14.00\" fill=\"#000000\">class = 1</text>\n</g>\n<!-- 5&#45;&gt;7 -->\n<g id=\"edge7\" class=\"edge\">\n<title>5&#45;&gt;7</title>\n<path fill=\"none\" stroke=\"#000000\" d=\"M448.1403,-103.9815C455.403,-94.8828 463.0983,-85.242 470.3796,-76.1199\"/>\n<polygon fill=\"#000000\" stroke=\"#000000\" points=\"473.1475,-78.2627 476.6505,-68.2637 467.6766,-73.8958 473.1475,-78.2627\"/>\n</g>\n<!-- 9 -->\n<g id=\"node10\" class=\"node\">\n<title>9</title>\n<path fill=\"#5aade9\" stroke=\"#000000\" d=\"M779,-187C779,-187 605,-187 605,-187 599,-187 593,-181 593,-175 593,-175 593,-116 593,-116 593,-110 599,-104 605,-104 605,-104 779,-104 779,-104 785,-104 791,-110 791,-116 791,-116 791,-175 791,-175 791,-181 785,-187 779,-187\"/>\n<text text-anchor=\"start\" x=\"601\" y=\"-171.8\" font-family=\"Helvetica,sans-Serif\" font-size=\"14.00\" fill=\"#000000\">Region_North America ≤ 0.5</text>\n<text text-anchor=\"start\" x=\"654\" y=\"-156.8\" font-family=\"Helvetica,sans-Serif\" font-size=\"14.00\" fill=\"#000000\">gini = 0.243</text>\n<text text-anchor=\"start\" x=\"640\" y=\"-141.8\" font-family=\"Helvetica,sans-Serif\" font-size=\"14.00\" fill=\"#000000\">samples = 1211</text>\n<text text-anchor=\"start\" x=\"630\" y=\"-126.8\" font-family=\"Helvetica,sans-Serif\" font-size=\"14.00\" fill=\"#000000\">value = [171, 1040]</text>\n<text text-anchor=\"start\" x=\"663\" y=\"-111.8\" font-family=\"Helvetica,sans-Serif\" font-size=\"14.00\" fill=\"#000000\">class = 1</text>\n</g>\n<!-- 8&#45;&gt;9 -->\n<g id=\"edge9\" class=\"edge\">\n<title>8&#45;&gt;9</title>\n<path fill=\"none\" stroke=\"#000000\" d=\"M692,-222.8796C692,-214.6838 692,-205.9891 692,-197.5013\"/>\n<polygon fill=\"#000000\" stroke=\"#000000\" points=\"695.5001,-197.298 692,-187.2981 688.5001,-197.2981 695.5001,-197.298\"/>\n</g>\n<!-- 12 -->\n<g id=\"node13\" class=\"node\">\n<title>12</title>\n<path fill=\"#eb9d66\" stroke=\"#000000\" d=\"M988.5,-187C988.5,-187 863.5,-187 863.5,-187 857.5,-187 851.5,-181 851.5,-175 851.5,-175 851.5,-116 851.5,-116 851.5,-110 857.5,-104 863.5,-104 863.5,-104 988.5,-104 988.5,-104 994.5,-104 1000.5,-110 1000.5,-116 1000.5,-116 1000.5,-175 1000.5,-175 1000.5,-181 994.5,-187 988.5,-187\"/>\n<text text-anchor=\"start\" x=\"859.5\" y=\"-171.8\" font-family=\"Helvetica,sans-Serif\" font-size=\"14.00\" fill=\"#000000\">IWA_Customer ≤ 0.5</text>\n<text text-anchor=\"start\" x=\"888\" y=\"-156.8\" font-family=\"Helvetica,sans-Serif\" font-size=\"14.00\" fill=\"#000000\">gini = 0.301</text>\n<text text-anchor=\"start\" x=\"878\" y=\"-141.8\" font-family=\"Helvetica,sans-Serif\" font-size=\"14.00\" fill=\"#000000\">samples = 244</text>\n<text text-anchor=\"start\" x=\"872\" y=\"-126.8\" font-family=\"Helvetica,sans-Serif\" font-size=\"14.00\" fill=\"#000000\">value = [199, 45]</text>\n<text text-anchor=\"start\" x=\"897\" y=\"-111.8\" font-family=\"Helvetica,sans-Serif\" font-size=\"14.00\" fill=\"#000000\">class = 0</text>\n</g>\n<!-- 8&#45;&gt;12 -->\n<g id=\"edge12\" class=\"edge\">\n<title>8&#45;&gt;12</title>\n<path fill=\"none\" stroke=\"#000000\" d=\"M773.5134,-223.0466C795.7713,-211.7274 819.9218,-199.4458 842.2994,-188.0657\"/>\n<polygon fill=\"#000000\" stroke=\"#000000\" points=\"844.1113,-191.0709 851.4383,-183.4181 840.9381,-184.8314 844.1113,-191.0709\"/>\n</g>\n<!-- 10 -->\n<g id=\"node11\" class=\"node\">\n<title>10</title>\n<path fill=\"#82c1ef\" stroke=\"#000000\" d=\"M704,-68C704,-68 596,-68 596,-68 590,-68 584,-62 584,-56 584,-56 584,-12 584,-12 584,-6 590,0 596,0 596,0 704,0 704,0 710,0 716,-6 716,-12 716,-12 716,-56 716,-56 716,-62 710,-68 704,-68\"/>\n<text text-anchor=\"start\" x=\"612\" y=\"-52.8\" font-family=\"Helvetica,sans-Serif\" font-size=\"14.00\" fill=\"#000000\">gini = 0.392</text>\n<text text-anchor=\"start\" x=\"602\" y=\"-37.8\" font-family=\"Helvetica,sans-Serif\" font-size=\"14.00\" fill=\"#000000\">samples = 638</text>\n<text text-anchor=\"start\" x=\"592\" y=\"-22.8\" font-family=\"Helvetica,sans-Serif\" font-size=\"14.00\" fill=\"#000000\">value = [171, 467]</text>\n<text text-anchor=\"start\" x=\"621\" y=\"-7.8\" font-family=\"Helvetica,sans-Serif\" font-size=\"14.00\" fill=\"#000000\">class = 1</text>\n</g>\n<!-- 9&#45;&gt;10 -->\n<g id=\"edge10\" class=\"edge\">\n<title>9&#45;&gt;10</title>\n<path fill=\"none\" stroke=\"#000000\" d=\"M676.3608,-103.9815C673.1411,-95.4342 669.7413,-86.4086 666.4926,-77.7839\"/>\n<polygon fill=\"#000000\" stroke=\"#000000\" points=\"669.7069,-76.388 662.9065,-68.2637 663.1562,-78.8556 669.7069,-76.388\"/>\n</g>\n<!-- 11 -->\n<g id=\"node12\" class=\"node\">\n<title>11</title>\n<path fill=\"#399de5\" stroke=\"#000000\" d=\"M838,-68C838,-68 746,-68 746,-68 740,-68 734,-62 734,-56 734,-56 734,-12 734,-12 734,-6 740,0 746,0 746,0 838,0 838,0 844,0 850,-6 850,-12 850,-12 850,-56 850,-56 850,-62 844,-68 838,-68\"/>\n<text text-anchor=\"start\" x=\"762.5\" y=\"-52.8\" font-family=\"Helvetica,sans-Serif\" font-size=\"14.00\" fill=\"#000000\">gini = 0.0</text>\n<text text-anchor=\"start\" x=\"744\" y=\"-37.8\" font-family=\"Helvetica,sans-Serif\" font-size=\"14.00\" fill=\"#000000\">samples = 573</text>\n<text text-anchor=\"start\" x=\"742\" y=\"-22.8\" font-family=\"Helvetica,sans-Serif\" font-size=\"14.00\" fill=\"#000000\">value = [0, 573]</text>\n<text text-anchor=\"start\" x=\"763\" y=\"-7.8\" font-family=\"Helvetica,sans-Serif\" font-size=\"14.00\" fill=\"#000000\">class = 1</text>\n</g>\n<!-- 9&#45;&gt;11 -->\n<g id=\"edge11\" class=\"edge\">\n<title>9&#45;&gt;11</title>\n<path fill=\"none\" stroke=\"#000000\" d=\"M729.2363,-103.9815C737.4791,-94.7908 746.2178,-85.0472 754.4721,-75.8436\"/>\n<polygon fill=\"#000000\" stroke=\"#000000\" points=\"757.1991,-78.0451 761.2702,-68.2637 751.9879,-73.3714 757.1991,-78.0451\"/>\n</g>\n<!-- 13 -->\n<g id=\"node14\" class=\"node\">\n<title>13</title>\n<path fill=\"#f6d4bc\" stroke=\"#000000\" d=\"M972,-68C972,-68 880,-68 880,-68 874,-68 868,-62 868,-56 868,-56 868,-12 868,-12 868,-6 874,0 880,0 880,0 972,0 972,0 978,0 984,-6 984,-12 984,-12 984,-56 984,-56 984,-62 978,-68 972,-68\"/>\n<text text-anchor=\"start\" x=\"888\" y=\"-52.8\" font-family=\"Helvetica,sans-Serif\" font-size=\"14.00\" fill=\"#000000\">gini = 0.479</text>\n<text text-anchor=\"start\" x=\"878\" y=\"-37.8\" font-family=\"Helvetica,sans-Serif\" font-size=\"14.00\" fill=\"#000000\">samples = 113</text>\n<text text-anchor=\"start\" x=\"876\" y=\"-22.8\" font-family=\"Helvetica,sans-Serif\" font-size=\"14.00\" fill=\"#000000\">value = [68, 45]</text>\n<text text-anchor=\"start\" x=\"897\" y=\"-7.8\" font-family=\"Helvetica,sans-Serif\" font-size=\"14.00\" fill=\"#000000\">class = 0</text>\n</g>\n<!-- 12&#45;&gt;13 -->\n<g id=\"edge13\" class=\"edge\">\n<title>12&#45;&gt;13</title>\n<path fill=\"none\" stroke=\"#000000\" d=\"M926,-103.9815C926,-95.618 926,-86.7965 926,-78.3409\"/>\n<polygon fill=\"#000000\" stroke=\"#000000\" points=\"929.5001,-78.2636 926,-68.2637 922.5001,-78.2637 929.5001,-78.2636\"/>\n</g>\n<!-- 14 -->\n<g id=\"node15\" class=\"node\">\n<title>14</title>\n<path fill=\"#e58139\" stroke=\"#000000\" d=\"M1106,-68C1106,-68 1014,-68 1014,-68 1008,-68 1002,-62 1002,-56 1002,-56 1002,-12 1002,-12 1002,-6 1008,0 1014,0 1014,0 1106,0 1106,0 1112,0 1118,-6 1118,-12 1118,-12 1118,-56 1118,-56 1118,-62 1112,-68 1106,-68\"/>\n<text text-anchor=\"start\" x=\"1030.5\" y=\"-52.8\" font-family=\"Helvetica,sans-Serif\" font-size=\"14.00\" fill=\"#000000\">gini = 0.0</text>\n<text text-anchor=\"start\" x=\"1012\" y=\"-37.8\" font-family=\"Helvetica,sans-Serif\" font-size=\"14.00\" fill=\"#000000\">samples = 131</text>\n<text text-anchor=\"start\" x=\"1010\" y=\"-22.8\" font-family=\"Helvetica,sans-Serif\" font-size=\"14.00\" fill=\"#000000\">value = [131, 0]</text>\n<text text-anchor=\"start\" x=\"1031\" y=\"-7.8\" font-family=\"Helvetica,sans-Serif\" font-size=\"14.00\" fill=\"#000000\">class = 0</text>\n</g>\n<!-- 12&#45;&gt;14 -->\n<g id=\"edge14\" class=\"edge\">\n<title>12&#45;&gt;14</title>\n<path fill=\"none\" stroke=\"#000000\" d=\"M975.8967,-103.9815C987.3838,-94.4232 999.5897,-84.2668 1011.0367,-74.7419\"/>\n<polygon fill=\"#000000\" stroke=\"#000000\" points=\"1013.3739,-77.3503 1018.8221,-68.2637 1008.8965,-71.9695 1013.3739,-77.3503\"/>\n</g>\n</g>\n</svg>\n"
          },
          "metadata": {},
          "execution_count": 250
        }
      ]
    },
    {
      "cell_type": "code",
      "source": [
        "#Predicting from the trained model\n",
        "classes = clf.predict(test_x)"
      ],
      "metadata": {
        "id": "ri9qSpRXylye"
      },
      "id": "ri9qSpRXylye",
      "execution_count": 251,
      "outputs": []
    },
    {
      "cell_type": "code",
      "source": [
        "#Evaluating Model\n",
        "print('Accuracy Score')\n",
        "print(metrics.accuracy_score(test_y, classes))\n",
        "print('Precision/Recall Metrics')\n",
        "print(metrics.classification_report(test_y, classes))\n",
        "print('AUC')\n",
        "print(metrics.roc_auc_score(test_y, classes))"
      ],
      "metadata": {
        "colab": {
          "base_uri": "https://localhost:8080/"
        },
        "id": "tUH56jffDld2",
        "outputId": "8c44f9d9-9edc-404e-cf08-e9ab3c5eb302"
      },
      "id": "tUH56jffDld2",
      "execution_count": 252,
      "outputs": [
        {
          "output_type": "stream",
          "name": "stdout",
          "text": [
            "Accuracy Score\n",
            "0.7774390243902439\n",
            "Precision/Recall Metrics\n",
            "              precision    recall  f1-score   support\n",
            "\n",
            "           0       0.73      0.92      0.82       878\n",
            "           1       0.87      0.61      0.72       762\n",
            "\n",
            "    accuracy                           0.78      1640\n",
            "   macro avg       0.80      0.77      0.77      1640\n",
            "weighted avg       0.80      0.78      0.77      1640\n",
            "\n",
            "AUC\n",
            "0.7663070447629127\n"
          ]
        }
      ]
    },
    {
      "cell_type": "code",
      "source": [
        "#ROC Chart\n",
        "fpr, tpr, th = roc_curve(test_y, classes)\n",
        "roc_auc = metrics.auc(fpr, tpr)\n",
        "plt.title('ROCR Chart')\n",
        "plt.plot(fpr, tpr, 'b', label = 'AUC = %0.2f'% roc_auc)\n",
        "plt.legend(loc='lower right')\n",
        "plt.plot([0,1], [1,0], 'o--')\n",
        "plt.xlim([0,1])\n",
        "plt.ylim([0,1])\n",
        "plt.ylabel('True Positive Rate')\n",
        "plt.xlabel('False Positive Rate')\n",
        "plt.show()"
      ],
      "metadata": {
        "colab": {
          "base_uri": "https://localhost:8080/",
          "height": 347
        },
        "id": "iEXXJ8ZrF6YH",
        "outputId": "bbca183e-1905-4d05-88c7-97dcb00de5e2"
      },
      "id": "iEXXJ8ZrF6YH",
      "execution_count": 253,
      "outputs": [
        {
          "output_type": "execute_result",
          "data": {
            "text/plain": [
              "Text(0.5, 1.0, 'ROCR Chart')"
            ]
          },
          "metadata": {},
          "execution_count": 253
        },
        {
          "output_type": "execute_result",
          "data": {
            "text/plain": [
              "[<matplotlib.lines.Line2D at 0x7f67b3c25810>]"
            ]
          },
          "metadata": {},
          "execution_count": 253
        },
        {
          "output_type": "execute_result",
          "data": {
            "text/plain": [
              "<matplotlib.legend.Legend at 0x7f67b3ae0810>"
            ]
          },
          "metadata": {},
          "execution_count": 253
        },
        {
          "output_type": "execute_result",
          "data": {
            "text/plain": [
              "[<matplotlib.lines.Line2D at 0x7f67b3b68c50>]"
            ]
          },
          "metadata": {},
          "execution_count": 253
        },
        {
          "output_type": "execute_result",
          "data": {
            "text/plain": [
              "(0.0, 1.0)"
            ]
          },
          "metadata": {},
          "execution_count": 253
        },
        {
          "output_type": "execute_result",
          "data": {
            "text/plain": [
              "(0.0, 1.0)"
            ]
          },
          "metadata": {},
          "execution_count": 253
        },
        {
          "output_type": "execute_result",
          "data": {
            "text/plain": [
              "Text(0, 0.5, 'True Positive Rate')"
            ]
          },
          "metadata": {},
          "execution_count": 253
        },
        {
          "output_type": "execute_result",
          "data": {
            "text/plain": [
              "Text(0.5, 0, 'False Positive Rate')"
            ]
          },
          "metadata": {},
          "execution_count": 253
        },
        {
          "output_type": "display_data",
          "data": {
            "text/plain": [
              "<Figure size 432x288 with 1 Axes>"
            ],
            "image/png": "[encoded data removed]"
          },
          "metadata": {
            "needs_background": "light"
          }
        }
      ]
    },
    {
      "cell_type": "code",
      "source": [
        "#Printing Confusion Matrix\n",
        "print('Confusion Matrix')\n",
        "cf = metrics.confusion_matrix(test_y, classes)\n",
        "lbl1 = [\"Predicted 0\", \"Predicted 1\"]\n",
        "lbl2 = [\"True 0\", \"True 1\"]\n",
        "sns.heatmap(cf, annot=True, cmap = \"Greens\", fmt = \"d\", xticklabels = lbl1, yticklabels = lbl2)\n",
        "plt.show()"
      ],
      "metadata": {
        "colab": {
          "base_uri": "https://localhost:8080/",
          "height": 301
        },
        "id": "17_R6LN6HCJ0",
        "outputId": "1e6454fc-ffaa-40bb-c657-0cce45087fc8"
      },
      "id": "17_R6LN6HCJ0",
      "execution_count": 254,
      "outputs": [
        {
          "output_type": "stream",
          "name": "stdout",
          "text": [
            "Confusion Matrix\n"
          ]
        },
        {
          "output_type": "execute_result",
          "data": {
            "text/plain": [
              "<matplotlib.axes._subplots.AxesSubplot at 0x7f67b3c022d0>"
            ]
          },
          "metadata": {},
          "execution_count": 254
        },
        {
          "output_type": "display_data",
          "data": {
            "text/plain": [
              "<Figure size 432x288 with 2 Axes>"
            ],
            "image/png": "[encoded data removed]"
          },
          "metadata": {
            "needs_background": "light"
          }
        }
      ]
    },
    {
      "cell_type": "code",
      "source": [
        "#Logistic Regression Training\n",
        "log = LogisticRegression()\n",
        "log.fit(train_x, train_y)"
      ],
      "metadata": {
        "colab": {
          "base_uri": "https://localhost:8080/"
        },
        "id": "86J6v5ay0xfL",
        "outputId": "540894de-3a62-40f3-a255-3f34b3fac51a"
      },
      "id": "86J6v5ay0xfL",
      "execution_count": 255,
      "outputs": [
        {
          "output_type": "execute_result",
          "data": {
            "text/plain": [
              "LogisticRegression()"
            ]
          },
          "metadata": {},
          "execution_count": 255
        }
      ]
    },
    {
      "cell_type": "code",
      "source": [
        "#Predicting from the trained model\n",
        "classes = log.predict(test_x)\n",
        "print(classes.size)"
      ],
      "metadata": {
        "colab": {
          "base_uri": "https://localhost:8080/"
        },
        "id": "j2qevcbWBUmU",
        "outputId": "646fca01-4b4d-4a40-f8d9-f761ff5c52be"
      },
      "id": "j2qevcbWBUmU",
      "execution_count": 256,
      "outputs": [
        {
          "output_type": "stream",
          "name": "stdout",
          "text": [
            "1640\n"
          ]
        }
      ]
    },
    {
      "cell_type": "code",
      "source": [
        "#Printing Regression Coefficients\n",
        "log.coef_"
      ],
      "metadata": {
        "colab": {
          "base_uri": "https://localhost:8080/"
        },
        "id": "RYH8hSAu1K9Z",
        "outputId": "b5224e1f-d559-4447-c6a3-4fc0c4d49127"
      },
      "id": "RYH8hSAu1K9Z",
      "execution_count": 257,
      "outputs": [
        {
          "output_type": "execute_result",
          "data": {
            "text/plain": [
              "array([[ 1.22403181,  1.98202368,  3.54734084, -3.96967924, -1.529409  ,\n",
              "        -1.25268478, -1.39721708, -1.08187006, -3.22254366, -1.07463751,\n",
              "         2.8403571 ,  3.93753452,  0.00606137, -0.89827372, -0.02392446]])"
            ]
          },
          "metadata": {},
          "execution_count": 257
        }
      ]
    },
    {
      "cell_type": "code",
      "source": [
        "#Printing Regression Coefficients for each variable\n",
        "coeff = pd.concat([pd.DataFrame(train_x.columns), pd.DataFrame(np.transpose(log.coef_))], axis = 1)\n",
        "coeff.columns = (\"Variable\", \"Coeff\")\n",
        "coeff.sort_values('Coeff', ascending = False)"
      ],
      "metadata": {
        "colab": {
          "base_uri": "https://localhost:8080/",
          "height": 520
        },
        "id": "L9mOxoLt1ZTY",
        "outputId": "4763e887-19f9-41ed-9024-9298b926717a"
      },
      "id": "L9mOxoLt1ZTY",
      "execution_count": 258,
      "outputs": [
        {
          "output_type": "execute_result",
          "data": {
            "text/plain": [
              "                   Variable     Coeff\n",
              "11     Region_South America  3.937535\n",
              "2         Domain_Healthcare  3.547341\n",
              "10     Region_North America  2.840357\n",
              "1            Domain_Finance  1.982024\n",
              "0          Domain_Education  1.224032\n",
              "12    Using_Similar_Product  0.006061\n",
              "14  No_of_times_of_Renewal_ -0.023924\n",
              "13             IWA_Customer -0.898274\n",
              "9             Region_Europe -1.074638\n",
              "7               Region_Asia -1.081870\n",
              "5             Domain_Retail -1.252685\n",
              "6             Region_Africa -1.397217\n",
              "4          Domain_Insurance -1.529409\n",
              "8          Region_Australia -3.222544\n",
              "3            Domain_Telecom -3.969679"
            ],
            "text/html": [
              "\n",
              "  <div id=\"df-84444774-8014-41b0-b27b-d5bb76c84c89\">\n",
              "    <div class=\"colab-df-container\">\n",
              "      <div>\n",
              "<style scoped>\n",
              "    .dataframe tbody tr th:only-of-type {\n",
              "        vertical-align: middle;\n",
              "    }\n",
              "\n",
              "    .dataframe tbody tr th {\n",
              "        vertical-align: top;\n",
              "    }\n",
              "\n",
              "    .dataframe thead th {\n",
              "        text-align: right;\n",
              "    }\n",
              "</style>\n",
              "<table border=\"1\" class=\"dataframe\">\n",
              "  <thead>\n",
              "    <tr style=\"text-align: right;\">\n",
              "      <th></th>\n",
              "      <th>Variable</th>\n",
              "      <th>Coeff</th>\n",
              "    </tr>\n",
              "  </thead>\n",
              "  <tbody>\n",
              "    <tr>\n",
              "      <th>11</th>\n",
              "      <td>Region_South America</td>\n",
              "      <td>3.937535</td>\n",
              "    </tr>\n",
              "    <tr>\n",
              "      <th>2</th>\n",
              "      <td>Domain_Healthcare</td>\n",
              "      <td>3.547341</td>\n",
              "    </tr>\n",
              "    <tr>\n",
              "      <th>10</th>\n",
              "      <td>Region_North America</td>\n",
              "      <td>2.840357</td>\n",
              "    </tr>\n",
              "    <tr>\n",
              "      <th>1</th>\n",
              "      <td>Domain_Finance</td>\n",
              "      <td>1.982024</td>\n",
              "    </tr>\n",
              "    <tr>\n",
              "      <th>0</th>\n",
              "      <td>Domain_Education</td>\n",
              "      <td>1.224032</td>\n",
              "    </tr>\n",
              "    <tr>\n",
              "      <th>12</th>\n",
              "      <td>Using_Similar_Product</td>\n",
              "      <td>0.006061</td>\n",
              "    </tr>\n",
              "    <tr>\n",
              "      <th>14</th>\n",
              "      <td>No_of_times_of_Renewal_</td>\n",
              "      <td>-0.023924</td>\n",
              "    </tr>\n",
              "    <tr>\n",
              "      <th>13</th>\n",
              "      <td>IWA_Customer</td>\n",
              "      <td>-0.898274</td>\n",
              "    </tr>\n",
              "    <tr>\n",
              "      <th>9</th>\n",
              "      <td>Region_Europe</td>\n",
              "      <td>-1.074638</td>\n",
              "    </tr>\n",
              "    <tr>\n",
              "      <th>7</th>\n",
              "      <td>Region_Asia</td>\n",
              "      <td>-1.081870</td>\n",
              "    </tr>\n",
              "    <tr>\n",
              "      <th>5</th>\n",
              "      <td>Domain_Retail</td>\n",
              "      <td>-1.252685</td>\n",
              "    </tr>\n",
              "    <tr>\n",
              "      <th>6</th>\n",
              "      <td>Region_Africa</td>\n",
              "      <td>-1.397217</td>\n",
              "    </tr>\n",
              "    <tr>\n",
              "      <th>4</th>\n",
              "      <td>Domain_Insurance</td>\n",
              "      <td>-1.529409</td>\n",
              "    </tr>\n",
              "    <tr>\n",
              "      <th>8</th>\n",
              "      <td>Region_Australia</td>\n",
              "      <td>-3.222544</td>\n",
              "    </tr>\n",
              "    <tr>\n",
              "      <th>3</th>\n",
              "      <td>Domain_Telecom</td>\n",
              "      <td>-3.969679</td>\n",
              "    </tr>\n",
              "  </tbody>\n",
              "</table>\n",
              "</div>\n",
              "      <button class=\"colab-df-convert\" onclick=\"convertToInteractive('df-84444774-8014-41b0-b27b-d5bb76c84c89')\"\n",
              "              title=\"Convert this dataframe to an interactive table.\"\n",
              "              style=\"display:none;\">\n",
              "        \n",
              "  <svg xmlns=\"http://www.w3.org/2000/svg\" height=\"24px\"viewBox=\"0 0 24 24\"\n",
              "       width=\"24px\">\n",
              "    <path d=\"M0 0h24v24H0V0z\" fill=\"none\"/>\n",
              "    <path d=\"M18.56 5.44l.94 2.06.94-2.06 2.06-.94-2.06-.94-.94-2.06-.94 2.06-2.06.94zm-11 1L8.5 8.5l.94-2.06 2.06-.94-2.06-.94L8.5 2.5l-.94 2.06-2.06.94zm10 10l.94 2.06.94-2.06 2.06-.94-2.06-.94-.94-2.06-.94 2.06-2.06.94z\"/><path d=\"M17.41 7.96l-1.37-1.37c-.4-.4-.92-.59-1.43-.59-.52 0-1.04.2-1.43.59L10.3 9.45l-7.72 7.72c-.78.78-.78 2.05 0 2.83L4 21.41c.39.39.9.59 1.41.59.51 0 1.02-.2 1.41-.59l7.78-7.78 2.81-2.81c.8-.78.8-2.07 0-2.86zM5.41 20L4 18.59l7.72-7.72 1.47 1.35L5.41 20z\"/>\n",
              "  </svg>\n",
              "      </button>\n",
              "      \n",
              "  <style>\n",
              "    .colab-df-container {\n",
              "      display:flex;\n",
              "      flex-wrap:wrap;\n",
              "      gap: 12px;\n",
              "    }\n",
              "\n",
              "    .colab-df-convert {\n",
              "      background-color: #E8F0FE;\n",
              "      border: none;\n",
              "      border-radius: 50%;\n",
              "      cursor: pointer;\n",
              "      display: none;\n",
              "      fill: #1967D2;\n",
              "      height: 32px;\n",
              "      padding: 0 0 0 0;\n",
              "      width: 32px;\n",
              "    }\n",
              "\n",
              "    .colab-df-convert:hover {\n",
              "      background-color: #E2EBFA;\n",
              "      box-shadow: 0px 1px 2px rgba(60, 64, 67, 0.3), 0px 1px 3px 1px rgba(60, 64, 67, 0.15);\n",
              "      fill: #174EA6;\n",
              "    }\n",
              "\n",
              "    [theme=dark] .colab-df-convert {\n",
              "      background-color: #3B4455;\n",
              "      fill: #D2E3FC;\n",
              "    }\n",
              "\n",
              "    [theme=dark] .colab-df-convert:hover {\n",
              "      background-color: #434B5C;\n",
              "      box-shadow: 0px 1px 3px 1px rgba(0, 0, 0, 0.15);\n",
              "      filter: drop-shadow(0px 1px 2px rgba(0, 0, 0, 0.3));\n",
              "      fill: #FFFFFF;\n",
              "    }\n",
              "  </style>\n",
              "\n",
              "      <script>\n",
              "        const buttonEl =\n",
              "          document.querySelector('#df-84444774-8014-41b0-b27b-d5bb76c84c89 button.colab-df-convert');\n",
              "        buttonEl.style.display =\n",
              "          google.colab.kernel.accessAllowed ? 'block' : 'none';\n",
              "\n",
              "        async function convertToInteractive(key) {\n",
              "          const element = document.querySelector('#df-84444774-8014-41b0-b27b-d5bb76c84c89');\n",
              "          const dataTable =\n",
              "            await google.colab.kernel.invokeFunction('convertToInteractive',\n",
              "                                                     [key], {});\n",
              "          if (!dataTable) return;\n",
              "\n",
              "          const docLinkHtml = 'Like what you see? Visit the ' +\n",
              "            '<a target=\"_blank\" href=https://colab.research.google.com/notebooks/data_table.ipynb>data table notebook</a>'\n",
              "            + ' to learn more about interactive tables.';\n",
              "          element.innerHTML = '';\n",
              "          dataTable['output_type'] = 'display_data';\n",
              "          await google.colab.output.renderOutput(dataTable, element);\n",
              "          const docLink = document.createElement('div');\n",
              "          docLink.innerHTML = docLinkHtml;\n",
              "          element.appendChild(docLink);\n",
              "        }\n",
              "      </script>\n",
              "    </div>\n",
              "  </div>\n",
              "  "
            ]
          },
          "metadata": {},
          "execution_count": 258
        }
      ]
    },
    {
      "cell_type": "code",
      "source": [
        "#Evaluating Model\n",
        "print('Accuracy Score')\n",
        "print(metrics.accuracy_score(test_y, classes))\n",
        "print('Precision/Recall Metrics')\n",
        "print(metrics.classification_report(test_y, classes))\n",
        "print('AUC')\n",
        "print(metrics.roc_auc_score(test_y, classes))"
      ],
      "metadata": {
        "colab": {
          "base_uri": "https://localhost:8080/"
        },
        "id": "6IW0FHk-20Mh",
        "outputId": "8172ef70-beca-4278-9f38-9c775a3420c5"
      },
      "id": "6IW0FHk-20Mh",
      "execution_count": 259,
      "outputs": [
        {
          "output_type": "stream",
          "name": "stdout",
          "text": [
            "Accuracy Score\n",
            "0.7024390243902439\n",
            "Precision/Recall Metrics\n",
            "              precision    recall  f1-score   support\n",
            "\n",
            "           0       0.71      0.76      0.73       878\n",
            "           1       0.70      0.63      0.66       762\n",
            "\n",
            "    accuracy                           0.70      1640\n",
            "   macro avg       0.70      0.70      0.70      1640\n",
            "weighted avg       0.70      0.70      0.70      1640\n",
            "\n",
            "AUC\n",
            "0.6979086327193155\n"
          ]
        }
      ]
    },
    {
      "cell_type": "code",
      "source": [
        "#ROC Chart\n",
        "fpr, tpr, th = roc_curve(test_y, classes)\n",
        "roc_auc = metrics.auc(fpr, tpr)\n",
        "plt.title('ROCR Chart')\n",
        "plt.plot(fpr, tpr, 'b', label = 'AUC = %0.2f'% roc_auc)\n",
        "plt.legend(loc='lower right')\n",
        "plt.plot([0,1], [1,0], 'o--')\n",
        "plt.xlim([0,1])\n",
        "plt.ylim([0,1])\n",
        "plt.ylabel('True Positive Rate')\n",
        "plt.xlabel('False Positive Rate')\n",
        "plt.show()"
      ],
      "metadata": {
        "colab": {
          "base_uri": "https://localhost:8080/",
          "height": 347
        },
        "id": "_uIyee3R_u3a",
        "outputId": "3df0f540-9428-4249-a99e-dd1b4366bf64"
      },
      "id": "_uIyee3R_u3a",
      "execution_count": 260,
      "outputs": [
        {
          "output_type": "execute_result",
          "data": {
            "text/plain": [
              "Text(0.5, 1.0, 'ROCR Chart')"
            ]
          },
          "metadata": {},
          "execution_count": 260
        },
        {
          "output_type": "execute_result",
          "data": {
            "text/plain": [
              "[<matplotlib.lines.Line2D at 0x7f67b2b46750>]"
            ]
          },
          "metadata": {},
          "execution_count": 260
        },
        {
          "output_type": "execute_result",
          "data": {
            "text/plain": [
              "<matplotlib.legend.Legend at 0x7f67b3ba6d90>"
            ]
          },
          "metadata": {},
          "execution_count": 260
        },
        {
          "output_type": "execute_result",
          "data": {
            "text/plain": [
              "[<matplotlib.lines.Line2D at 0x7f67b3bbb9d0>]"
            ]
          },
          "metadata": {},
          "execution_count": 260
        },
        {
          "output_type": "execute_result",
          "data": {
            "text/plain": [
              "(0.0, 1.0)"
            ]
          },
          "metadata": {},
          "execution_count": 260
        },
        {
          "output_type": "execute_result",
          "data": {
            "text/plain": [
              "(0.0, 1.0)"
            ]
          },
          "metadata": {},
          "execution_count": 260
        },
        {
          "output_type": "execute_result",
          "data": {
            "text/plain": [
              "Text(0, 0.5, 'True Positive Rate')"
            ]
          },
          "metadata": {},
          "execution_count": 260
        },
        {
          "output_type": "execute_result",
          "data": {
            "text/plain": [
              "Text(0.5, 0, 'False Positive Rate')"
            ]
          },
          "metadata": {},
          "execution_count": 260
        },
        {
          "output_type": "display_data",
          "data": {
            "text/plain": [
              "<Figure size 432x288 with 1 Axes>"
            ],
            "image/png": "[encoded data removed]"
          },
          "metadata": {
            "needs_background": "light"
          }
        }
      ]
    },
    {
      "cell_type": "code",
      "source": [
        "#Printing Confusion Matrix\n",
        "print('Confusion Matrix')\n",
        "cf = metrics.confusion_matrix(test_y, classes)\n",
        "lbl1 = [\"Predicted 0\", \"Predicted 1\"]\n",
        "lbl2 = [\"True 0\", \"True 1\"]\n",
        "sns.heatmap(cf, annot=True, cmap = \"Greens\", fmt = \"d\", xticklabels = lbl1, yticklabels = lbl2)\n",
        "plt.show()"
      ],
      "metadata": {
        "colab": {
          "base_uri": "https://localhost:8080/",
          "height": 300
        },
        "id": "okBpJOLBJ7IB",
        "outputId": "0395d269-f082-4e8a-abd8-76c22d3d11cc"
      },
      "id": "okBpJOLBJ7IB",
      "execution_count": 261,
      "outputs": [
        {
          "output_type": "stream",
          "name": "stdout",
          "text": [
            "Confusion Matrix\n"
          ]
        },
        {
          "output_type": "execute_result",
          "data": {
            "text/plain": [
              "<matplotlib.axes._subplots.AxesSubplot at 0x7f67b2417a90>"
            ]
          },
          "metadata": {},
          "execution_count": 261
        },
        {
          "output_type": "display_data",
          "data": {
            "text/plain": [
              "<Figure size 432x288 with 2 Axes>"
            ],
            "image/png": "[encoded data removed]"
          },
          "metadata": {
            "needs_background": "light"
          }
        }
      ]
    },
    {
      "cell_type": "code",
      "source": [
        "# Naive Bayes Algorithms\n",
        "nb = BernoulliNB()\n",
        "nb.fit(train_x, train_y)\n",
        "classes = nb.predict(test_x)"
      ],
      "metadata": {
        "colab": {
          "base_uri": "https://localhost:8080/"
        },
        "id": "lL1uHCryLeVT",
        "outputId": "386bb039-1e3b-4218-84cb-58edd610eedb"
      },
      "id": "lL1uHCryLeVT",
      "execution_count": 262,
      "outputs": [
        {
          "output_type": "execute_result",
          "data": {
            "text/plain": [
              "BernoulliNB()"
            ]
          },
          "metadata": {},
          "execution_count": 262
        }
      ]
    },
    {
      "cell_type": "code",
      "source": [
        "#Evaluating the model\n",
        "print('Accuracy Score')\n",
        "print(metrics.accuracy_score(test_y, classes))\n",
        "print('Precision/Recall Metrics')\n",
        "print(metrics.classification_report(test_y, classes))\n",
        "print('AUC')\n",
        "print(metrics.roc_auc_score(test_y, classes))"
      ],
      "metadata": {
        "colab": {
          "base_uri": "https://localhost:8080/"
        },
        "id": "HBFqB6Esej2d",
        "outputId": "2e4b4ec4-4d18-42ae-c8bf-00f53847ed46"
      },
      "id": "HBFqB6Esej2d",
      "execution_count": 263,
      "outputs": [
        {
          "output_type": "stream",
          "name": "stdout",
          "text": [
            "Accuracy Score\n",
            "0.7317073170731707\n",
            "Precision/Recall Metrics\n",
            "              precision    recall  f1-score   support\n",
            "\n",
            "           0       0.78      0.69      0.73       878\n",
            "           1       0.69      0.78      0.73       762\n",
            "\n",
            "    accuracy                           0.73      1640\n",
            "   macro avg       0.73      0.73      0.73      1640\n",
            "weighted avg       0.74      0.73      0.73      1640\n",
            "\n",
            "AUC\n",
            "0.7346062095313256\n"
          ]
        }
      ]
    },
    {
      "cell_type": "code",
      "source": [
        "#Printing Confusion Matrix\n",
        "print('Confusion Matrix')\n",
        "cf = metrics.confusion_matrix(test_y, classes)\n",
        "lbl1 = [\"Predicted 0\", \"Predicted 1\"]\n",
        "lbl2 = [\"True 0\", \"True 1\"]\n",
        "sns.heatmap(cf, annot=True, cmap = \"Greens\", fmt = \"d\", xticklabels = lbl1, yticklabels = lbl2)\n",
        "plt.show()"
      ],
      "metadata": {
        "colab": {
          "base_uri": "https://localhost:8080/",
          "height": 300
        },
        "id": "u5A_UVP2fbGN",
        "outputId": "423abe63-8a3c-475e-a5cd-d906b0f4fb58"
      },
      "id": "u5A_UVP2fbGN",
      "execution_count": 264,
      "outputs": [
        {
          "output_type": "stream",
          "name": "stdout",
          "text": [
            "Confusion Matrix\n"
          ]
        },
        {
          "output_type": "execute_result",
          "data": {
            "text/plain": [
              "<matplotlib.axes._subplots.AxesSubplot at 0x7f67b2398790>"
            ]
          },
          "metadata": {},
          "execution_count": 264
        },
        {
          "output_type": "display_data",
          "data": {
            "text/plain": [
              "<Figure size 432x288 with 2 Axes>"
            ],
            "image/png": "[encoded data removed]"
          },
          "metadata": {
            "needs_background": "light"
          }
        }
      ]
    },
    {
      "cell_type": "code",
      "source": [
        "#ROC Chart\n",
        "fpr, tpr, th = roc_curve(test_y, classes)\n",
        "roc_auc = metrics.auc(fpr, tpr)\n",
        "plt.title('ROCR Chart')\n",
        "plt.plot(fpr, tpr, 'b', label = 'AUC = %0.2f'% roc_auc)\n",
        "plt.legend(loc='lower right')\n",
        "plt.plot([0,1], [1,0], 'o--')\n",
        "plt.xlim([0,1])\n",
        "plt.ylim([0,1])\n",
        "plt.ylabel('True Positive Rate')\n",
        "plt.xlabel('False Positive Rate')\n",
        "plt.show()"
      ],
      "metadata": {
        "colab": {
          "base_uri": "https://localhost:8080/",
          "height": 347
        },
        "id": "O-4tUMHJhs4Q",
        "outputId": "809229dd-f3b7-4225-b81a-e22e13cf6969"
      },
      "id": "O-4tUMHJhs4Q",
      "execution_count": 265,
      "outputs": [
        {
          "output_type": "execute_result",
          "data": {
            "text/plain": [
              "Text(0.5, 1.0, 'ROCR Chart')"
            ]
          },
          "metadata": {},
          "execution_count": 265
        },
        {
          "output_type": "execute_result",
          "data": {
            "text/plain": [
              "[<matplotlib.lines.Line2D at 0x7f67b228a050>]"
            ]
          },
          "metadata": {},
          "execution_count": 265
        },
        {
          "output_type": "execute_result",
          "data": {
            "text/plain": [
              "<matplotlib.legend.Legend at 0x7f67b227ed50>"
            ]
          },
          "metadata": {},
          "execution_count": 265
        },
        {
          "output_type": "execute_result",
          "data": {
            "text/plain": [
              "[<matplotlib.lines.Line2D at 0x7f67b2297110>]"
            ]
          },
          "metadata": {},
          "execution_count": 265
        },
        {
          "output_type": "execute_result",
          "data": {
            "text/plain": [
              "(0.0, 1.0)"
            ]
          },
          "metadata": {},
          "execution_count": 265
        },
        {
          "output_type": "execute_result",
          "data": {
            "text/plain": [
              "(0.0, 1.0)"
            ]
          },
          "metadata": {},
          "execution_count": 265
        },
        {
          "output_type": "execute_result",
          "data": {
            "text/plain": [
              "Text(0, 0.5, 'True Positive Rate')"
            ]
          },
          "metadata": {},
          "execution_count": 265
        },
        {
          "output_type": "execute_result",
          "data": {
            "text/plain": [
              "Text(0.5, 0, 'False Positive Rate')"
            ]
          },
          "metadata": {},
          "execution_count": 265
        },
        {
          "output_type": "display_data",
          "data": {
            "text/plain": [
              "<Figure size 432x288 with 1 Axes>"
            ],
            "image/png": "[encoded data removed]"
          },
          "metadata": {
            "needs_background": "light"
          }
        }
      ]
    },
    {
      "cell_type": "code",
      "source": [
        "#Random Forest modeling technique\n",
        "n_estimators = [10, 500, 1000, 2000]\n",
        "criterion = ['gini', 'entropy']\n",
        "min_samples_split = [2, 10, 20, 50, 100]\n",
        "max_depth = [20, 30, 40, 50, None]"
      ],
      "metadata": {
        "id": "W11GgVXWjDQG"
      },
      "id": "W11GgVXWjDQG",
      "execution_count": 266,
      "outputs": []
    },
    {
      "cell_type": "code",
      "source": [
        "#Configuring and training the model\n",
        "param_grid = {'n_estimators':n_estimators, 'criterion': criterion, 'min_samples_split':min_samples_split, 'max_depth':max_depth}\n",
        "rf = RandomForestClassifier()\n",
        "rf_g = RandomizedSearchCV(rf, param_grid, cv = 5, verbose = 2, n_jobs = -1)\n",
        "rf_g.fit(train_x, train_y)"
      ],
      "metadata": {
        "colab": {
          "base_uri": "https://localhost:8080/"
        },
        "id": "RILivWN8jIVg",
        "outputId": "04203ab8-1ac2-48d6-9174-d861fd87424f"
      },
      "id": "RILivWN8jIVg",
      "execution_count": 267,
      "outputs": [
        {
          "output_type": "stream",
          "name": "stdout",
          "text": [
            "Fitting 5 folds for each of 10 candidates, totalling 50 fits\n"
          ]
        },
        {
          "output_type": "execute_result",
          "data": {
            "text/plain": [
              "RandomizedSearchCV(cv=5, estimator=RandomForestClassifier(), n_jobs=-1,\n",
              "                   param_distributions={'criterion': ['gini', 'entropy'],\n",
              "                                        'max_depth': [20, 30, 40, 50, None],\n",
              "                                        'min_samples_split': [2, 10, 20, 50,\n",
              "                                                              100],\n",
              "                                        'n_estimators': [10, 500, 1000, 2000]},\n",
              "                   verbose=2)"
            ]
          },
          "metadata": {},
          "execution_count": 267
        }
      ]
    },
    {
      "cell_type": "code",
      "source": [
        "#Predicting from the trained model\n",
        "classes = rf_g.predict(test_x)"
      ],
      "metadata": {
        "id": "L7kFHajfl1vc"
      },
      "id": "L7kFHajfl1vc",
      "execution_count": 268,
      "outputs": []
    },
    {
      "cell_type": "code",
      "source": [
        "rf_g.best_score_"
      ],
      "metadata": {
        "colab": {
          "base_uri": "https://localhost:8080/"
        },
        "id": "icFfhYbTTDQJ",
        "outputId": "65cb1c8b-80d1-4f72-f038-4952c022940a"
      },
      "id": "icFfhYbTTDQJ",
      "execution_count": 269,
      "outputs": [
        {
          "output_type": "execute_result",
          "data": {
            "text/plain": [
              "0.8449186991869919"
            ]
          },
          "metadata": {},
          "execution_count": 269
        }
      ]
    },
    {
      "cell_type": "code",
      "source": [
        "rf_g.best_index_"
      ],
      "metadata": {
        "colab": {
          "base_uri": "https://localhost:8080/"
        },
        "id": "yk_BWJLLTRgs",
        "outputId": "eff474b5-aa87-452d-c301-5bc237a8bf89"
      },
      "id": "yk_BWJLLTRgs",
      "execution_count": 270,
      "outputs": [
        {
          "output_type": "execute_result",
          "data": {
            "text/plain": [
              "6"
            ]
          },
          "metadata": {},
          "execution_count": 270
        }
      ]
    },
    {
      "cell_type": "code",
      "source": [
        "#Evaluating Model\n",
        "print('Accuracy Score')\n",
        "print(metrics.accuracy_score(test_y, classes))\n",
        "print('Precision/Recall Metrics')\n",
        "print(metrics.classification_report(test_y, classes))\n",
        "print('AUC')\n",
        "print(metrics.roc_auc_score(test_y, classes))"
      ],
      "metadata": {
        "id": "kAq3rklbmJvf",
        "colab": {
          "base_uri": "https://localhost:8080/"
        },
        "outputId": "a8ed5625-79ef-4dd7-c288-911a18750113"
      },
      "id": "kAq3rklbmJvf",
      "execution_count": 271,
      "outputs": [
        {
          "output_type": "stream",
          "name": "stdout",
          "text": [
            "Accuracy Score\n",
            "0.8268292682926829\n",
            "Precision/Recall Metrics\n",
            "              precision    recall  f1-score   support\n",
            "\n",
            "           0       0.79      0.92      0.85       878\n",
            "           1       0.89      0.72      0.79       762\n",
            "\n",
            "    accuracy                           0.83      1640\n",
            "   macro avg       0.84      0.82      0.82      1640\n",
            "weighted avg       0.84      0.83      0.82      1640\n",
            "\n",
            "AUC\n",
            "0.8195433429591233\n"
          ]
        }
      ]
    },
    {
      "cell_type": "code",
      "source": [
        "#XGBoost Model Training\n",
        "model = XGBClassifier()\n",
        "model.fit(train_x, train_y)"
      ],
      "metadata": {
        "id": "PQo9DDAGncPy",
        "colab": {
          "base_uri": "https://localhost:8080/"
        },
        "outputId": "23183f97-7609-4700-a515-b3a00356ca61"
      },
      "id": "PQo9DDAGncPy",
      "execution_count": 272,
      "outputs": [
        {
          "output_type": "execute_result",
          "data": {
            "text/plain": [
              "XGBClassifier()"
            ]
          },
          "metadata": {},
          "execution_count": 272
        }
      ]
    },
    {
      "cell_type": "code",
      "source": [
        "# make predictions for test data\n",
        "classes = model.predict(test_x)"
      ],
      "metadata": {
        "id": "gcH1nE3Sn0D6"
      },
      "id": "gcH1nE3Sn0D6",
      "execution_count": 273,
      "outputs": []
    },
    {
      "cell_type": "code",
      "source": [
        "#Evaluating Model\n",
        "print('Accuracy Score')\n",
        "print(metrics.accuracy_score(test_y, classes))\n",
        "print('Precision/Recall Metrics')\n",
        "print(metrics.classification_report(test_y, classes))\n",
        "print('AUC')\n",
        "print(metrics.roc_auc_score(test_y, classes))"
      ],
      "metadata": {
        "colab": {
          "base_uri": "https://localhost:8080/"
        },
        "id": "7I4CUAvPCl6v",
        "outputId": "8d239656-0453-41c0-a370-48cd50df97cc"
      },
      "id": "7I4CUAvPCl6v",
      "execution_count": 274,
      "outputs": [
        {
          "output_type": "stream",
          "name": "stdout",
          "text": [
            "Accuracy Score\n",
            "0.8268292682926829\n",
            "Precision/Recall Metrics\n",
            "              precision    recall  f1-score   support\n",
            "\n",
            "           0       0.79      0.92      0.85       878\n",
            "           1       0.89      0.72      0.79       762\n",
            "\n",
            "    accuracy                           0.83      1640\n",
            "   macro avg       0.84      0.82      0.82      1640\n",
            "weighted avg       0.84      0.83      0.82      1640\n",
            "\n",
            "AUC\n",
            "0.8195433429591233\n"
          ]
        }
      ]
    },
    {
      "cell_type": "code",
      "source": [
        "# Market Basket Analysis\n",
        "bskt_sets = data[['CPQ_Customer', 'CLM_Customer', 'IWA_Customer', 'Purchased']]\n",
        "#Dividing Train and Test dataset into 75:25 ratio\n",
        "mba_train = bskt_sets.head(4920) \n",
        "mba_test = bskt_sets.tail(1640)\n",
        "mba_train.shape\n",
        "mba_test.shape"
      ],
      "metadata": {
        "id": "IjPlQ1byN8w8",
        "colab": {
          "base_uri": "https://localhost:8080/"
        },
        "outputId": "fc72029e-fc49-41e7-e0eb-0431e29f21a5"
      },
      "id": "IjPlQ1byN8w8",
      "execution_count": 275,
      "outputs": [
        {
          "output_type": "execute_result",
          "data": {
            "text/plain": [
              "(4920, 4)"
            ]
          },
          "metadata": {},
          "execution_count": 275
        },
        {
          "output_type": "execute_result",
          "data": {
            "text/plain": [
              "(1640, 4)"
            ]
          },
          "metadata": {},
          "execution_count": 275
        }
      ]
    },
    {
      "cell_type": "code",
      "source": [
        "frequent_items = apriori(mba_train, min_support = 0.05, use_colnames =True)\n",
        "frequent_items.sort_values('support', ascending = False)"
      ],
      "metadata": {
        "colab": {
          "base_uri": "https://localhost:8080/",
          "height": 426
        },
        "id": "sWuvOsNfmRU1",
        "outputId": "87f25e66-94ac-4ccd-fff4-ded9443f2ed0"
      },
      "id": "sWuvOsNfmRU1",
      "execution_count": 276,
      "outputs": [
        {
          "output_type": "execute_result",
          "data": {
            "text/plain": [
              "     support                                    itemsets\n",
              "0   0.691667                              (CPQ_Customer)\n",
              "1   0.467683                              (CLM_Customer)\n",
              "3   0.453049                                 (Purchased)\n",
              "2   0.387805                              (IWA_Customer)\n",
              "6   0.301829                   (CPQ_Customer, Purchased)\n",
              "4   0.258333                (CPQ_Customer, CLM_Customer)\n",
              "5   0.236179                (CPQ_Customer, IWA_Customer)\n",
              "8   0.220528                   (Purchased, CLM_Customer)\n",
              "7   0.155894                (IWA_Customer, CLM_Customer)\n",
              "11  0.134350     (CPQ_Customer, Purchased, CLM_Customer)\n",
              "10  0.103252  (CPQ_Customer, IWA_Customer, CLM_Customer)\n",
              "9   0.079472                   (IWA_Customer, Purchased)"
            ],
            "text/html": [
              "\n",
              "  <div id=\"df-0c82186f-7698-4ef4-8a52-ea2b2ede8f47\">\n",
              "    <div class=\"colab-df-container\">\n",
              "      <div>\n",
              "<style scoped>\n",
              "    .dataframe tbody tr th:only-of-type {\n",
              "        vertical-align: middle;\n",
              "    }\n",
              "\n",
              "    .dataframe tbody tr th {\n",
              "        vertical-align: top;\n",
              "    }\n",
              "\n",
              "    .dataframe thead th {\n",
              "        text-align: right;\n",
              "    }\n",
              "</style>\n",
              "<table border=\"1\" class=\"dataframe\">\n",
              "  <thead>\n",
              "    <tr style=\"text-align: right;\">\n",
              "      <th></th>\n",
              "      <th>support</th>\n",
              "      <th>itemsets</th>\n",
              "    </tr>\n",
              "  </thead>\n",
              "  <tbody>\n",
              "    <tr>\n",
              "      <th>0</th>\n",
              "      <td>0.691667</td>\n",
              "      <td>(CPQ_Customer)</td>\n",
              "    </tr>\n",
              "    <tr>\n",
              "      <th>1</th>\n",
              "      <td>0.467683</td>\n",
              "      <td>(CLM_Customer)</td>\n",
              "    </tr>\n",
              "    <tr>\n",
              "      <th>3</th>\n",
              "      <td>0.453049</td>\n",
              "      <td>(Purchased)</td>\n",
              "    </tr>\n",
              "    <tr>\n",
              "      <th>2</th>\n",
              "      <td>0.387805</td>\n",
              "      <td>(IWA_Customer)</td>\n",
              "    </tr>\n",
              "    <tr>\n",
              "      <th>6</th>\n",
              "      <td>0.301829</td>\n",
              "      <td>(CPQ_Customer, Purchased)</td>\n",
              "    </tr>\n",
              "    <tr>\n",
              "      <th>4</th>\n",
              "      <td>0.258333</td>\n",
              "      <td>(CPQ_Customer, CLM_Customer)</td>\n",
              "    </tr>\n",
              "    <tr>\n",
              "      <th>5</th>\n",
              "      <td>0.236179</td>\n",
              "      <td>(CPQ_Customer, IWA_Customer)</td>\n",
              "    </tr>\n",
              "    <tr>\n",
              "      <th>8</th>\n",
              "      <td>0.220528</td>\n",
              "      <td>(Purchased, CLM_Customer)</td>\n",
              "    </tr>\n",
              "    <tr>\n",
              "      <th>7</th>\n",
              "      <td>0.155894</td>\n",
              "      <td>(IWA_Customer, CLM_Customer)</td>\n",
              "    </tr>\n",
              "    <tr>\n",
              "      <th>11</th>\n",
              "      <td>0.134350</td>\n",
              "      <td>(CPQ_Customer, Purchased, CLM_Customer)</td>\n",
              "    </tr>\n",
              "    <tr>\n",
              "      <th>10</th>\n",
              "      <td>0.103252</td>\n",
              "      <td>(CPQ_Customer, IWA_Customer, CLM_Customer)</td>\n",
              "    </tr>\n",
              "    <tr>\n",
              "      <th>9</th>\n",
              "      <td>0.079472</td>\n",
              "      <td>(IWA_Customer, Purchased)</td>\n",
              "    </tr>\n",
              "  </tbody>\n",
              "</table>\n",
              "</div>\n",
              "      <button class=\"colab-df-convert\" onclick=\"convertToInteractive('df-0c82186f-7698-4ef4-8a52-ea2b2ede8f47')\"\n",
              "              title=\"Convert this dataframe to an interactive table.\"\n",
              "              style=\"display:none;\">\n",
              "        \n",
              "  <svg xmlns=\"http://www.w3.org/2000/svg\" height=\"24px\"viewBox=\"0 0 24 24\"\n",
              "       width=\"24px\">\n",
              "    <path d=\"M0 0h24v24H0V0z\" fill=\"none\"/>\n",
              "    <path d=\"M18.56 5.44l.94 2.06.94-2.06 2.06-.94-2.06-.94-.94-2.06-.94 2.06-2.06.94zm-11 1L8.5 8.5l.94-2.06 2.06-.94-2.06-.94L8.5 2.5l-.94 2.06-2.06.94zm10 10l.94 2.06.94-2.06 2.06-.94-2.06-.94-.94-2.06-.94 2.06-2.06.94z\"/><path d=\"M17.41 7.96l-1.37-1.37c-.4-.4-.92-.59-1.43-.59-.52 0-1.04.2-1.43.59L10.3 9.45l-7.72 7.72c-.78.78-.78 2.05 0 2.83L4 21.41c.39.39.9.59 1.41.59.51 0 1.02-.2 1.41-.59l7.78-7.78 2.81-2.81c.8-.78.8-2.07 0-2.86zM5.41 20L4 18.59l7.72-7.72 1.47 1.35L5.41 20z\"/>\n",
              "  </svg>\n",
              "      </button>\n",
              "      \n",
              "  <style>\n",
              "    .colab-df-container {\n",
              "      display:flex;\n",
              "      flex-wrap:wrap;\n",
              "      gap: 12px;\n",
              "    }\n",
              "\n",
              "    .colab-df-convert {\n",
              "      background-color: #E8F0FE;\n",
              "      border: none;\n",
              "      border-radius: 50%;\n",
              "      cursor: pointer;\n",
              "      display: none;\n",
              "      fill: #1967D2;\n",
              "      height: 32px;\n",
              "      padding: 0 0 0 0;\n",
              "      width: 32px;\n",
              "    }\n",
              "\n",
              "    .colab-df-convert:hover {\n",
              "      background-color: #E2EBFA;\n",
              "      box-shadow: 0px 1px 2px rgba(60, 64, 67, 0.3), 0px 1px 3px 1px rgba(60, 64, 67, 0.15);\n",
              "      fill: #174EA6;\n",
              "    }\n",
              "\n",
              "    [theme=dark] .colab-df-convert {\n",
              "      background-color: #3B4455;\n",
              "      fill: #D2E3FC;\n",
              "    }\n",
              "\n",
              "    [theme=dark] .colab-df-convert:hover {\n",
              "      background-color: #434B5C;\n",
              "      box-shadow: 0px 1px 3px 1px rgba(0, 0, 0, 0.15);\n",
              "      filter: drop-shadow(0px 1px 2px rgba(0, 0, 0, 0.3));\n",
              "      fill: #FFFFFF;\n",
              "    }\n",
              "  </style>\n",
              "\n",
              "      <script>\n",
              "        const buttonEl =\n",
              "          document.querySelector('#df-0c82186f-7698-4ef4-8a52-ea2b2ede8f47 button.colab-df-convert');\n",
              "        buttonEl.style.display =\n",
              "          google.colab.kernel.accessAllowed ? 'block' : 'none';\n",
              "\n",
              "        async function convertToInteractive(key) {\n",
              "          const element = document.querySelector('#df-0c82186f-7698-4ef4-8a52-ea2b2ede8f47');\n",
              "          const dataTable =\n",
              "            await google.colab.kernel.invokeFunction('convertToInteractive',\n",
              "                                                     [key], {});\n",
              "          if (!dataTable) return;\n",
              "\n",
              "          const docLinkHtml = 'Like what you see? Visit the ' +\n",
              "            '<a target=\"_blank\" href=https://colab.research.google.com/notebooks/data_table.ipynb>data table notebook</a>'\n",
              "            + ' to learn more about interactive tables.';\n",
              "          element.innerHTML = '';\n",
              "          dataTable['output_type'] = 'display_data';\n",
              "          await google.colab.output.renderOutput(dataTable, element);\n",
              "          const docLink = document.createElement('div');\n",
              "          docLink.innerHTML = docLinkHtml;\n",
              "          element.appendChild(docLink);\n",
              "        }\n",
              "      </script>\n",
              "    </div>\n",
              "  </div>\n",
              "  "
            ]
          },
          "metadata": {},
          "execution_count": 276
        }
      ]
    },
    {
      "cell_type": "code",
      "source": [
        "#Finding Association Rules\n",
        "rules = association_rules(frequent_items, metric = 'lift', min_threshold = 1)\n",
        "rules"
      ],
      "metadata": {
        "id": "BnKcahslUZzJ",
        "colab": {
          "base_uri": "https://localhost:8080/",
          "height": 368
        },
        "outputId": "8164705a-8c9f-4717-e80e-316cebe2337e"
      },
      "id": "BnKcahslUZzJ",
      "execution_count": 277,
      "outputs": [
        {
          "output_type": "execute_result",
          "data": {
            "text/plain": [
              "                    antecedents                   consequents  \\\n",
              "0                   (Purchased)                (CLM_Customer)   \n",
              "1                (CLM_Customer)                   (Purchased)   \n",
              "2  (CPQ_Customer, CLM_Customer)                (IWA_Customer)   \n",
              "3                (IWA_Customer)  (CPQ_Customer, CLM_Customer)   \n",
              "4  (CPQ_Customer, CLM_Customer)                   (Purchased)   \n",
              "5                   (Purchased)  (CPQ_Customer, CLM_Customer)   \n",
              "\n",
              "   antecedent support  consequent support   support  confidence      lift  \\\n",
              "0            0.453049            0.467683  0.220528    0.486765  1.040802   \n",
              "1            0.467683            0.453049  0.220528    0.471534  1.040802   \n",
              "2            0.258333            0.387805  0.103252    0.399685  1.030635   \n",
              "3            0.387805            0.258333  0.103252    0.266247  1.030635   \n",
              "4            0.258333            0.453049  0.134350    0.520063  1.147918   \n",
              "5            0.453049            0.258333  0.134350    0.296546  1.147918   \n",
              "\n",
              "   leverage  conviction  \n",
              "0  0.008645    1.037181  \n",
              "1  0.008645    1.034979  \n",
              "2  0.003069    1.019790  \n",
              "3  0.003069    1.010786  \n",
              "4  0.017312    1.139631  \n",
              "5  0.017312    1.054321  "
            ],
            "text/html": [
              "\n",
              "  <div id=\"df-462897eb-6cf3-4c0f-a777-e4e081267095\">\n",
              "    <div class=\"colab-df-container\">\n",
              "      <div>\n",
              "<style scoped>\n",
              "    .dataframe tbody tr th:only-of-type {\n",
              "        vertical-align: middle;\n",
              "    }\n",
              "\n",
              "    .dataframe tbody tr th {\n",
              "        vertical-align: top;\n",
              "    }\n",
              "\n",
              "    .dataframe thead th {\n",
              "        text-align: right;\n",
              "    }\n",
              "</style>\n",
              "<table border=\"1\" class=\"dataframe\">\n",
              "  <thead>\n",
              "    <tr style=\"text-align: right;\">\n",
              "      <th></th>\n",
              "      <th>antecedents</th>\n",
              "      <th>consequents</th>\n",
              "      <th>antecedent support</th>\n",
              "      <th>consequent support</th>\n",
              "      <th>support</th>\n",
              "      <th>confidence</th>\n",
              "      <th>lift</th>\n",
              "      <th>leverage</th>\n",
              "      <th>conviction</th>\n",
              "    </tr>\n",
              "  </thead>\n",
              "  <tbody>\n",
              "    <tr>\n",
              "      <th>0</th>\n",
              "      <td>(Purchased)</td>\n",
              "      <td>(CLM_Customer)</td>\n",
              "      <td>0.453049</td>\n",
              "      <td>0.467683</td>\n",
              "      <td>0.220528</td>\n",
              "      <td>0.486765</td>\n",
              "      <td>1.040802</td>\n",
              "      <td>0.008645</td>\n",
              "      <td>1.037181</td>\n",
              "    </tr>\n",
              "    <tr>\n",
              "      <th>1</th>\n",
              "      <td>(CLM_Customer)</td>\n",
              "      <td>(Purchased)</td>\n",
              "      <td>0.467683</td>\n",
              "      <td>0.453049</td>\n",
              "      <td>0.220528</td>\n",
              "      <td>0.471534</td>\n",
              "      <td>1.040802</td>\n",
              "      <td>0.008645</td>\n",
              "      <td>1.034979</td>\n",
              "    </tr>\n",
              "    <tr>\n",
              "      <th>2</th>\n",
              "      <td>(CPQ_Customer, CLM_Customer)</td>\n",
              "      <td>(IWA_Customer)</td>\n",
              "      <td>0.258333</td>\n",
              "      <td>0.387805</td>\n",
              "      <td>0.103252</td>\n",
              "      <td>0.399685</td>\n",
              "      <td>1.030635</td>\n",
              "      <td>0.003069</td>\n",
              "      <td>1.019790</td>\n",
              "    </tr>\n",
              "    <tr>\n",
              "      <th>3</th>\n",
              "      <td>(IWA_Customer)</td>\n",
              "      <td>(CPQ_Customer, CLM_Customer)</td>\n",
              "      <td>0.387805</td>\n",
              "      <td>0.258333</td>\n",
              "      <td>0.103252</td>\n",
              "      <td>0.266247</td>\n",
              "      <td>1.030635</td>\n",
              "      <td>0.003069</td>\n",
              "      <td>1.010786</td>\n",
              "    </tr>\n",
              "    <tr>\n",
              "      <th>4</th>\n",
              "      <td>(CPQ_Customer, CLM_Customer)</td>\n",
              "      <td>(Purchased)</td>\n",
              "      <td>0.258333</td>\n",
              "      <td>0.453049</td>\n",
              "      <td>0.134350</td>\n",
              "      <td>0.520063</td>\n",
              "      <td>1.147918</td>\n",
              "      <td>0.017312</td>\n",
              "      <td>1.139631</td>\n",
              "    </tr>\n",
              "    <tr>\n",
              "      <th>5</th>\n",
              "      <td>(Purchased)</td>\n",
              "      <td>(CPQ_Customer, CLM_Customer)</td>\n",
              "      <td>0.453049</td>\n",
              "      <td>0.258333</td>\n",
              "      <td>0.134350</td>\n",
              "      <td>0.296546</td>\n",
              "      <td>1.147918</td>\n",
              "      <td>0.017312</td>\n",
              "      <td>1.054321</td>\n",
              "    </tr>\n",
              "  </tbody>\n",
              "</table>\n",
              "</div>\n",
              "      <button class=\"colab-df-convert\" onclick=\"convertToInteractive('df-462897eb-6cf3-4c0f-a777-e4e081267095')\"\n",
              "              title=\"Convert this dataframe to an interactive table.\"\n",
              "              style=\"display:none;\">\n",
              "        \n",
              "  <svg xmlns=\"http://www.w3.org/2000/svg\" height=\"24px\"viewBox=\"0 0 24 24\"\n",
              "       width=\"24px\">\n",
              "    <path d=\"M0 0h24v24H0V0z\" fill=\"none\"/>\n",
              "    <path d=\"M18.56 5.44l.94 2.06.94-2.06 2.06-.94-2.06-.94-.94-2.06-.94 2.06-2.06.94zm-11 1L8.5 8.5l.94-2.06 2.06-.94-2.06-.94L8.5 2.5l-.94 2.06-2.06.94zm10 10l.94 2.06.94-2.06 2.06-.94-2.06-.94-.94-2.06-.94 2.06-2.06.94z\"/><path d=\"M17.41 7.96l-1.37-1.37c-.4-.4-.92-.59-1.43-.59-.52 0-1.04.2-1.43.59L10.3 9.45l-7.72 7.72c-.78.78-.78 2.05 0 2.83L4 21.41c.39.39.9.59 1.41.59.51 0 1.02-.2 1.41-.59l7.78-7.78 2.81-2.81c.8-.78.8-2.07 0-2.86zM5.41 20L4 18.59l7.72-7.72 1.47 1.35L5.41 20z\"/>\n",
              "  </svg>\n",
              "      </button>\n",
              "      \n",
              "  <style>\n",
              "    .colab-df-container {\n",
              "      display:flex;\n",
              "      flex-wrap:wrap;\n",
              "      gap: 12px;\n",
              "    }\n",
              "\n",
              "    .colab-df-convert {\n",
              "      background-color: #E8F0FE;\n",
              "      border: none;\n",
              "      border-radius: 50%;\n",
              "      cursor: pointer;\n",
              "      display: none;\n",
              "      fill: #1967D2;\n",
              "      height: 32px;\n",
              "      padding: 0 0 0 0;\n",
              "      width: 32px;\n",
              "    }\n",
              "\n",
              "    .colab-df-convert:hover {\n",
              "      background-color: #E2EBFA;\n",
              "      box-shadow: 0px 1px 2px rgba(60, 64, 67, 0.3), 0px 1px 3px 1px rgba(60, 64, 67, 0.15);\n",
              "      fill: #174EA6;\n",
              "    }\n",
              "\n",
              "    [theme=dark] .colab-df-convert {\n",
              "      background-color: #3B4455;\n",
              "      fill: #D2E3FC;\n",
              "    }\n",
              "\n",
              "    [theme=dark] .colab-df-convert:hover {\n",
              "      background-color: #434B5C;\n",
              "      box-shadow: 0px 1px 3px 1px rgba(0, 0, 0, 0.15);\n",
              "      filter: drop-shadow(0px 1px 2px rgba(0, 0, 0, 0.3));\n",
              "      fill: #FFFFFF;\n",
              "    }\n",
              "  </style>\n",
              "\n",
              "      <script>\n",
              "        const buttonEl =\n",
              "          document.querySelector('#df-462897eb-6cf3-4c0f-a777-e4e081267095 button.colab-df-convert');\n",
              "        buttonEl.style.display =\n",
              "          google.colab.kernel.accessAllowed ? 'block' : 'none';\n",
              "\n",
              "        async function convertToInteractive(key) {\n",
              "          const element = document.querySelector('#df-462897eb-6cf3-4c0f-a777-e4e081267095');\n",
              "          const dataTable =\n",
              "            await google.colab.kernel.invokeFunction('convertToInteractive',\n",
              "                                                     [key], {});\n",
              "          if (!dataTable) return;\n",
              "\n",
              "          const docLinkHtml = 'Like what you see? Visit the ' +\n",
              "            '<a target=\"_blank\" href=https://colab.research.google.com/notebooks/data_table.ipynb>data table notebook</a>'\n",
              "            + ' to learn more about interactive tables.';\n",
              "          element.innerHTML = '';\n",
              "          dataTable['output_type'] = 'display_data';\n",
              "          await google.colab.output.renderOutput(dataTable, element);\n",
              "          const docLink = document.createElement('div');\n",
              "          docLink.innerHTML = docLinkHtml;\n",
              "          element.appendChild(docLink);\n",
              "        }\n",
              "      </script>\n",
              "    </div>\n",
              "  </div>\n",
              "  "
            ]
          },
          "metadata": {},
          "execution_count": 277
        }
      ]
    },
    {
      "cell_type": "code",
      "source": [
        "#Sorting rules based on descending support values\n",
        "rules.sort_values('support', ascending = False).head(10)"
      ],
      "metadata": {
        "id": "QUxi6FY6U0FX",
        "colab": {
          "base_uri": "https://localhost:8080/",
          "height": 368
        },
        "outputId": "14ff16cf-59a1-4cbb-dcd0-137a2b6ddb7f"
      },
      "id": "QUxi6FY6U0FX",
      "execution_count": 278,
      "outputs": [
        {
          "output_type": "execute_result",
          "data": {
            "text/plain": [
              "                    antecedents                   consequents  \\\n",
              "0                   (Purchased)                (CLM_Customer)   \n",
              "1                (CLM_Customer)                   (Purchased)   \n",
              "4  (CPQ_Customer, CLM_Customer)                   (Purchased)   \n",
              "5                   (Purchased)  (CPQ_Customer, CLM_Customer)   \n",
              "2  (CPQ_Customer, CLM_Customer)                (IWA_Customer)   \n",
              "3                (IWA_Customer)  (CPQ_Customer, CLM_Customer)   \n",
              "\n",
              "   antecedent support  consequent support   support  confidence      lift  \\\n",
              "0            0.453049            0.467683  0.220528    0.486765  1.040802   \n",
              "1            0.467683            0.453049  0.220528    0.471534  1.040802   \n",
              "4            0.258333            0.453049  0.134350    0.520063  1.147918   \n",
              "5            0.453049            0.258333  0.134350    0.296546  1.147918   \n",
              "2            0.258333            0.387805  0.103252    0.399685  1.030635   \n",
              "3            0.387805            0.258333  0.103252    0.266247  1.030635   \n",
              "\n",
              "   leverage  conviction  \n",
              "0  0.008645    1.037181  \n",
              "1  0.008645    1.034979  \n",
              "4  0.017312    1.139631  \n",
              "5  0.017312    1.054321  \n",
              "2  0.003069    1.019790  \n",
              "3  0.003069    1.010786  "
            ],
            "text/html": [
              "\n",
              "  <div id=\"df-b0aea3cd-69dc-4cef-aa06-0513a4999a57\">\n",
              "    <div class=\"colab-df-container\">\n",
              "      <div>\n",
              "<style scoped>\n",
              "    .dataframe tbody tr th:only-of-type {\n",
              "        vertical-align: middle;\n",
              "    }\n",
              "\n",
              "    .dataframe tbody tr th {\n",
              "        vertical-align: top;\n",
              "    }\n",
              "\n",
              "    .dataframe thead th {\n",
              "        text-align: right;\n",
              "    }\n",
              "</style>\n",
              "<table border=\"1\" class=\"dataframe\">\n",
              "  <thead>\n",
              "    <tr style=\"text-align: right;\">\n",
              "      <th></th>\n",
              "      <th>antecedents</th>\n",
              "      <th>consequents</th>\n",
              "      <th>antecedent support</th>\n",
              "      <th>consequent support</th>\n",
              "      <th>support</th>\n",
              "      <th>confidence</th>\n",
              "      <th>lift</th>\n",
              "      <th>leverage</th>\n",
              "      <th>conviction</th>\n",
              "    </tr>\n",
              "  </thead>\n",
              "  <tbody>\n",
              "    <tr>\n",
              "      <th>0</th>\n",
              "      <td>(Purchased)</td>\n",
              "      <td>(CLM_Customer)</td>\n",
              "      <td>0.453049</td>\n",
              "      <td>0.467683</td>\n",
              "      <td>0.220528</td>\n",
              "      <td>0.486765</td>\n",
              "      <td>1.040802</td>\n",
              "      <td>0.008645</td>\n",
              "      <td>1.037181</td>\n",
              "    </tr>\n",
              "    <tr>\n",
              "      <th>1</th>\n",
              "      <td>(CLM_Customer)</td>\n",
              "      <td>(Purchased)</td>\n",
              "      <td>0.467683</td>\n",
              "      <td>0.453049</td>\n",
              "      <td>0.220528</td>\n",
              "      <td>0.471534</td>\n",
              "      <td>1.040802</td>\n",
              "      <td>0.008645</td>\n",
              "      <td>1.034979</td>\n",
              "    </tr>\n",
              "    <tr>\n",
              "      <th>4</th>\n",
              "      <td>(CPQ_Customer, CLM_Customer)</td>\n",
              "      <td>(Purchased)</td>\n",
              "      <td>0.258333</td>\n",
              "      <td>0.453049</td>\n",
              "      <td>0.134350</td>\n",
              "      <td>0.520063</td>\n",
              "      <td>1.147918</td>\n",
              "      <td>0.017312</td>\n",
              "      <td>1.139631</td>\n",
              "    </tr>\n",
              "    <tr>\n",
              "      <th>5</th>\n",
              "      <td>(Purchased)</td>\n",
              "      <td>(CPQ_Customer, CLM_Customer)</td>\n",
              "      <td>0.453049</td>\n",
              "      <td>0.258333</td>\n",
              "      <td>0.134350</td>\n",
              "      <td>0.296546</td>\n",
              "      <td>1.147918</td>\n",
              "      <td>0.017312</td>\n",
              "      <td>1.054321</td>\n",
              "    </tr>\n",
              "    <tr>\n",
              "      <th>2</th>\n",
              "      <td>(CPQ_Customer, CLM_Customer)</td>\n",
              "      <td>(IWA_Customer)</td>\n",
              "      <td>0.258333</td>\n",
              "      <td>0.387805</td>\n",
              "      <td>0.103252</td>\n",
              "      <td>0.399685</td>\n",
              "      <td>1.030635</td>\n",
              "      <td>0.003069</td>\n",
              "      <td>1.019790</td>\n",
              "    </tr>\n",
              "    <tr>\n",
              "      <th>3</th>\n",
              "      <td>(IWA_Customer)</td>\n",
              "      <td>(CPQ_Customer, CLM_Customer)</td>\n",
              "      <td>0.387805</td>\n",
              "      <td>0.258333</td>\n",
              "      <td>0.103252</td>\n",
              "      <td>0.266247</td>\n",
              "      <td>1.030635</td>\n",
              "      <td>0.003069</td>\n",
              "      <td>1.010786</td>\n",
              "    </tr>\n",
              "  </tbody>\n",
              "</table>\n",
              "</div>\n",
              "      <button class=\"colab-df-convert\" onclick=\"convertToInteractive('df-b0aea3cd-69dc-4cef-aa06-0513a4999a57')\"\n",
              "              title=\"Convert this dataframe to an interactive table.\"\n",
              "              style=\"display:none;\">\n",
              "        \n",
              "  <svg xmlns=\"http://www.w3.org/2000/svg\" height=\"24px\"viewBox=\"0 0 24 24\"\n",
              "       width=\"24px\">\n",
              "    <path d=\"M0 0h24v24H0V0z\" fill=\"none\"/>\n",
              "    <path d=\"M18.56 5.44l.94 2.06.94-2.06 2.06-.94-2.06-.94-.94-2.06-.94 2.06-2.06.94zm-11 1L8.5 8.5l.94-2.06 2.06-.94-2.06-.94L8.5 2.5l-.94 2.06-2.06.94zm10 10l.94 2.06.94-2.06 2.06-.94-2.06-.94-.94-2.06-.94 2.06-2.06.94z\"/><path d=\"M17.41 7.96l-1.37-1.37c-.4-.4-.92-.59-1.43-.59-.52 0-1.04.2-1.43.59L10.3 9.45l-7.72 7.72c-.78.78-.78 2.05 0 2.83L4 21.41c.39.39.9.59 1.41.59.51 0 1.02-.2 1.41-.59l7.78-7.78 2.81-2.81c.8-.78.8-2.07 0-2.86zM5.41 20L4 18.59l7.72-7.72 1.47 1.35L5.41 20z\"/>\n",
              "  </svg>\n",
              "      </button>\n",
              "      \n",
              "  <style>\n",
              "    .colab-df-container {\n",
              "      display:flex;\n",
              "      flex-wrap:wrap;\n",
              "      gap: 12px;\n",
              "    }\n",
              "\n",
              "    .colab-df-convert {\n",
              "      background-color: #E8F0FE;\n",
              "      border: none;\n",
              "      border-radius: 50%;\n",
              "      cursor: pointer;\n",
              "      display: none;\n",
              "      fill: #1967D2;\n",
              "      height: 32px;\n",
              "      padding: 0 0 0 0;\n",
              "      width: 32px;\n",
              "    }\n",
              "\n",
              "    .colab-df-convert:hover {\n",
              "      background-color: #E2EBFA;\n",
              "      box-shadow: 0px 1px 2px rgba(60, 64, 67, 0.3), 0px 1px 3px 1px rgba(60, 64, 67, 0.15);\n",
              "      fill: #174EA6;\n",
              "    }\n",
              "\n",
              "    [theme=dark] .colab-df-convert {\n",
              "      background-color: #3B4455;\n",
              "      fill: #D2E3FC;\n",
              "    }\n",
              "\n",
              "    [theme=dark] .colab-df-convert:hover {\n",
              "      background-color: #434B5C;\n",
              "      box-shadow: 0px 1px 3px 1px rgba(0, 0, 0, 0.15);\n",
              "      filter: drop-shadow(0px 1px 2px rgba(0, 0, 0, 0.3));\n",
              "      fill: #FFFFFF;\n",
              "    }\n",
              "  </style>\n",
              "\n",
              "      <script>\n",
              "        const buttonEl =\n",
              "          document.querySelector('#df-b0aea3cd-69dc-4cef-aa06-0513a4999a57 button.colab-df-convert');\n",
              "        buttonEl.style.display =\n",
              "          google.colab.kernel.accessAllowed ? 'block' : 'none';\n",
              "\n",
              "        async function convertToInteractive(key) {\n",
              "          const element = document.querySelector('#df-b0aea3cd-69dc-4cef-aa06-0513a4999a57');\n",
              "          const dataTable =\n",
              "            await google.colab.kernel.invokeFunction('convertToInteractive',\n",
              "                                                     [key], {});\n",
              "          if (!dataTable) return;\n",
              "\n",
              "          const docLinkHtml = 'Like what you see? Visit the ' +\n",
              "            '<a target=\"_blank\" href=https://colab.research.google.com/notebooks/data_table.ipynb>data table notebook</a>'\n",
              "            + ' to learn more about interactive tables.';\n",
              "          element.innerHTML = '';\n",
              "          dataTable['output_type'] = 'display_data';\n",
              "          await google.colab.output.renderOutput(dataTable, element);\n",
              "          const docLink = document.createElement('div');\n",
              "          docLink.innerHTML = docLinkHtml;\n",
              "          element.appendChild(docLink);\n",
              "        }\n",
              "      </script>\n",
              "    </div>\n",
              "  </div>\n",
              "  "
            ]
          },
          "metadata": {},
          "execution_count": 278
        }
      ]
    },
    {
      "cell_type": "code",
      "source": [
        "#Sorting rules based on descending confidence values\n",
        "rules.sort_values('confidence', ascending = False).head(10)"
      ],
      "metadata": {
        "colab": {
          "base_uri": "https://localhost:8080/",
          "height": 368
        },
        "id": "NIy8-kg_6vEb",
        "outputId": "f4af9e41-6a98-464d-da9a-9373e1b77cd4"
      },
      "id": "NIy8-kg_6vEb",
      "execution_count": 279,
      "outputs": [
        {
          "output_type": "execute_result",
          "data": {
            "text/plain": [
              "                    antecedents                   consequents  \\\n",
              "4  (CPQ_Customer, CLM_Customer)                   (Purchased)   \n",
              "0                   (Purchased)                (CLM_Customer)   \n",
              "1                (CLM_Customer)                   (Purchased)   \n",
              "2  (CPQ_Customer, CLM_Customer)                (IWA_Customer)   \n",
              "5                   (Purchased)  (CPQ_Customer, CLM_Customer)   \n",
              "3                (IWA_Customer)  (CPQ_Customer, CLM_Customer)   \n",
              "\n",
              "   antecedent support  consequent support   support  confidence      lift  \\\n",
              "4            0.258333            0.453049  0.134350    0.520063  1.147918   \n",
              "0            0.453049            0.467683  0.220528    0.486765  1.040802   \n",
              "1            0.467683            0.453049  0.220528    0.471534  1.040802   \n",
              "2            0.258333            0.387805  0.103252    0.399685  1.030635   \n",
              "5            0.453049            0.258333  0.134350    0.296546  1.147918   \n",
              "3            0.387805            0.258333  0.103252    0.266247  1.030635   \n",
              "\n",
              "   leverage  conviction  \n",
              "4  0.017312    1.139631  \n",
              "0  0.008645    1.037181  \n",
              "1  0.008645    1.034979  \n",
              "2  0.003069    1.019790  \n",
              "5  0.017312    1.054321  \n",
              "3  0.003069    1.010786  "
            ],
            "text/html": [
              "\n",
              "  <div id=\"df-bd445260-f708-4814-9c41-33e5eaa43072\">\n",
              "    <div class=\"colab-df-container\">\n",
              "      <div>\n",
              "<style scoped>\n",
              "    .dataframe tbody tr th:only-of-type {\n",
              "        vertical-align: middle;\n",
              "    }\n",
              "\n",
              "    .dataframe tbody tr th {\n",
              "        vertical-align: top;\n",
              "    }\n",
              "\n",
              "    .dataframe thead th {\n",
              "        text-align: right;\n",
              "    }\n",
              "</style>\n",
              "<table border=\"1\" class=\"dataframe\">\n",
              "  <thead>\n",
              "    <tr style=\"text-align: right;\">\n",
              "      <th></th>\n",
              "      <th>antecedents</th>\n",
              "      <th>consequents</th>\n",
              "      <th>antecedent support</th>\n",
              "      <th>consequent support</th>\n",
              "      <th>support</th>\n",
              "      <th>confidence</th>\n",
              "      <th>lift</th>\n",
              "      <th>leverage</th>\n",
              "      <th>conviction</th>\n",
              "    </tr>\n",
              "  </thead>\n",
              "  <tbody>\n",
              "    <tr>\n",
              "      <th>4</th>\n",
              "      <td>(CPQ_Customer, CLM_Customer)</td>\n",
              "      <td>(Purchased)</td>\n",
              "      <td>0.258333</td>\n",
              "      <td>0.453049</td>\n",
              "      <td>0.134350</td>\n",
              "      <td>0.520063</td>\n",
              "      <td>1.147918</td>\n",
              "      <td>0.017312</td>\n",
              "      <td>1.139631</td>\n",
              "    </tr>\n",
              "    <tr>\n",
              "      <th>0</th>\n",
              "      <td>(Purchased)</td>\n",
              "      <td>(CLM_Customer)</td>\n",
              "      <td>0.453049</td>\n",
              "      <td>0.467683</td>\n",
              "      <td>0.220528</td>\n",
              "      <td>0.486765</td>\n",
              "      <td>1.040802</td>\n",
              "      <td>0.008645</td>\n",
              "      <td>1.037181</td>\n",
              "    </tr>\n",
              "    <tr>\n",
              "      <th>1</th>\n",
              "      <td>(CLM_Customer)</td>\n",
              "      <td>(Purchased)</td>\n",
              "      <td>0.467683</td>\n",
              "      <td>0.453049</td>\n",
              "      <td>0.220528</td>\n",
              "      <td>0.471534</td>\n",
              "      <td>1.040802</td>\n",
              "      <td>0.008645</td>\n",
              "      <td>1.034979</td>\n",
              "    </tr>\n",
              "    <tr>\n",
              "      <th>2</th>\n",
              "      <td>(CPQ_Customer, CLM_Customer)</td>\n",
              "      <td>(IWA_Customer)</td>\n",
              "      <td>0.258333</td>\n",
              "      <td>0.387805</td>\n",
              "      <td>0.103252</td>\n",
              "      <td>0.399685</td>\n",
              "      <td>1.030635</td>\n",
              "      <td>0.003069</td>\n",
              "      <td>1.019790</td>\n",
              "    </tr>\n",
              "    <tr>\n",
              "      <th>5</th>\n",
              "      <td>(Purchased)</td>\n",
              "      <td>(CPQ_Customer, CLM_Customer)</td>\n",
              "      <td>0.453049</td>\n",
              "      <td>0.258333</td>\n",
              "      <td>0.134350</td>\n",
              "      <td>0.296546</td>\n",
              "      <td>1.147918</td>\n",
              "      <td>0.017312</td>\n",
              "      <td>1.054321</td>\n",
              "    </tr>\n",
              "    <tr>\n",
              "      <th>3</th>\n",
              "      <td>(IWA_Customer)</td>\n",
              "      <td>(CPQ_Customer, CLM_Customer)</td>\n",
              "      <td>0.387805</td>\n",
              "      <td>0.258333</td>\n",
              "      <td>0.103252</td>\n",
              "      <td>0.266247</td>\n",
              "      <td>1.030635</td>\n",
              "      <td>0.003069</td>\n",
              "      <td>1.010786</td>\n",
              "    </tr>\n",
              "  </tbody>\n",
              "</table>\n",
              "</div>\n",
              "      <button class=\"colab-df-convert\" onclick=\"convertToInteractive('df-bd445260-f708-4814-9c41-33e5eaa43072')\"\n",
              "              title=\"Convert this dataframe to an interactive table.\"\n",
              "              style=\"display:none;\">\n",
              "        \n",
              "  <svg xmlns=\"http://www.w3.org/2000/svg\" height=\"24px\"viewBox=\"0 0 24 24\"\n",
              "       width=\"24px\">\n",
              "    <path d=\"M0 0h24v24H0V0z\" fill=\"none\"/>\n",
              "    <path d=\"M18.56 5.44l.94 2.06.94-2.06 2.06-.94-2.06-.94-.94-2.06-.94 2.06-2.06.94zm-11 1L8.5 8.5l.94-2.06 2.06-.94-2.06-.94L8.5 2.5l-.94 2.06-2.06.94zm10 10l.94 2.06.94-2.06 2.06-.94-2.06-.94-.94-2.06-.94 2.06-2.06.94z\"/><path d=\"M17.41 7.96l-1.37-1.37c-.4-.4-.92-.59-1.43-.59-.52 0-1.04.2-1.43.59L10.3 9.45l-7.72 7.72c-.78.78-.78 2.05 0 2.83L4 21.41c.39.39.9.59 1.41.59.51 0 1.02-.2 1.41-.59l7.78-7.78 2.81-2.81c.8-.78.8-2.07 0-2.86zM5.41 20L4 18.59l7.72-7.72 1.47 1.35L5.41 20z\"/>\n",
              "  </svg>\n",
              "      </button>\n",
              "      \n",
              "  <style>\n",
              "    .colab-df-container {\n",
              "      display:flex;\n",
              "      flex-wrap:wrap;\n",
              "      gap: 12px;\n",
              "    }\n",
              "\n",
              "    .colab-df-convert {\n",
              "      background-color: #E8F0FE;\n",
              "      border: none;\n",
              "      border-radius: 50%;\n",
              "      cursor: pointer;\n",
              "      display: none;\n",
              "      fill: #1967D2;\n",
              "      height: 32px;\n",
              "      padding: 0 0 0 0;\n",
              "      width: 32px;\n",
              "    }\n",
              "\n",
              "    .colab-df-convert:hover {\n",
              "      background-color: #E2EBFA;\n",
              "      box-shadow: 0px 1px 2px rgba(60, 64, 67, 0.3), 0px 1px 3px 1px rgba(60, 64, 67, 0.15);\n",
              "      fill: #174EA6;\n",
              "    }\n",
              "\n",
              "    [theme=dark] .colab-df-convert {\n",
              "      background-color: #3B4455;\n",
              "      fill: #D2E3FC;\n",
              "    }\n",
              "\n",
              "    [theme=dark] .colab-df-convert:hover {\n",
              "      background-color: #434B5C;\n",
              "      box-shadow: 0px 1px 3px 1px rgba(0, 0, 0, 0.15);\n",
              "      filter: drop-shadow(0px 1px 2px rgba(0, 0, 0, 0.3));\n",
              "      fill: #FFFFFF;\n",
              "    }\n",
              "  </style>\n",
              "\n",
              "      <script>\n",
              "        const buttonEl =\n",
              "          document.querySelector('#df-bd445260-f708-4814-9c41-33e5eaa43072 button.colab-df-convert');\n",
              "        buttonEl.style.display =\n",
              "          google.colab.kernel.accessAllowed ? 'block' : 'none';\n",
              "\n",
              "        async function convertToInteractive(key) {\n",
              "          const element = document.querySelector('#df-bd445260-f708-4814-9c41-33e5eaa43072');\n",
              "          const dataTable =\n",
              "            await google.colab.kernel.invokeFunction('convertToInteractive',\n",
              "                                                     [key], {});\n",
              "          if (!dataTable) return;\n",
              "\n",
              "          const docLinkHtml = 'Like what you see? Visit the ' +\n",
              "            '<a target=\"_blank\" href=https://colab.research.google.com/notebooks/data_table.ipynb>data table notebook</a>'\n",
              "            + ' to learn more about interactive tables.';\n",
              "          element.innerHTML = '';\n",
              "          dataTable['output_type'] = 'display_data';\n",
              "          await google.colab.output.renderOutput(dataTable, element);\n",
              "          const docLink = document.createElement('div');\n",
              "          docLink.innerHTML = docLinkHtml;\n",
              "          element.appendChild(docLink);\n",
              "        }\n",
              "      </script>\n",
              "    </div>\n",
              "  </div>\n",
              "  "
            ]
          },
          "metadata": {},
          "execution_count": 279
        }
      ]
    },
    {
      "cell_type": "code",
      "source": [
        "#Sorting rules based on descending lift values\n",
        "rules.sort_values('lift', ascending = False).head(10)\n",
        "#Observation - CPQ and CLM customers are more likely to buy the new product"
      ],
      "metadata": {
        "colab": {
          "base_uri": "https://localhost:8080/",
          "height": 368
        },
        "id": "kpYYpCxw60eN",
        "outputId": "c8ab0ef7-948c-4530-b3ec-ff0db4a55361"
      },
      "id": "kpYYpCxw60eN",
      "execution_count": 280,
      "outputs": [
        {
          "output_type": "execute_result",
          "data": {
            "text/plain": [
              "                    antecedents                   consequents  \\\n",
              "4  (CPQ_Customer, CLM_Customer)                   (Purchased)   \n",
              "5                   (Purchased)  (CPQ_Customer, CLM_Customer)   \n",
              "0                   (Purchased)                (CLM_Customer)   \n",
              "1                (CLM_Customer)                   (Purchased)   \n",
              "2  (CPQ_Customer, CLM_Customer)                (IWA_Customer)   \n",
              "3                (IWA_Customer)  (CPQ_Customer, CLM_Customer)   \n",
              "\n",
              "   antecedent support  consequent support   support  confidence      lift  \\\n",
              "4            0.258333            0.453049  0.134350    0.520063  1.147918   \n",
              "5            0.453049            0.258333  0.134350    0.296546  1.147918   \n",
              "0            0.453049            0.467683  0.220528    0.486765  1.040802   \n",
              "1            0.467683            0.453049  0.220528    0.471534  1.040802   \n",
              "2            0.258333            0.387805  0.103252    0.399685  1.030635   \n",
              "3            0.387805            0.258333  0.103252    0.266247  1.030635   \n",
              "\n",
              "   leverage  conviction  \n",
              "4  0.017312    1.139631  \n",
              "5  0.017312    1.054321  \n",
              "0  0.008645    1.037181  \n",
              "1  0.008645    1.034979  \n",
              "2  0.003069    1.019790  \n",
              "3  0.003069    1.010786  "
            ],
            "text/html": [
              "\n",
              "  <div id=\"df-3a358b46-8d1c-4e13-bfa3-55ed32092609\">\n",
              "    <div class=\"colab-df-container\">\n",
              "      <div>\n",
              "<style scoped>\n",
              "    .dataframe tbody tr th:only-of-type {\n",
              "        vertical-align: middle;\n",
              "    }\n",
              "\n",
              "    .dataframe tbody tr th {\n",
              "        vertical-align: top;\n",
              "    }\n",
              "\n",
              "    .dataframe thead th {\n",
              "        text-align: right;\n",
              "    }\n",
              "</style>\n",
              "<table border=\"1\" class=\"dataframe\">\n",
              "  <thead>\n",
              "    <tr style=\"text-align: right;\">\n",
              "      <th></th>\n",
              "      <th>antecedents</th>\n",
              "      <th>consequents</th>\n",
              "      <th>antecedent support</th>\n",
              "      <th>consequent support</th>\n",
              "      <th>support</th>\n",
              "      <th>confidence</th>\n",
              "      <th>lift</th>\n",
              "      <th>leverage</th>\n",
              "      <th>conviction</th>\n",
              "    </tr>\n",
              "  </thead>\n",
              "  <tbody>\n",
              "    <tr>\n",
              "      <th>4</th>\n",
              "      <td>(CPQ_Customer, CLM_Customer)</td>\n",
              "      <td>(Purchased)</td>\n",
              "      <td>0.258333</td>\n",
              "      <td>0.453049</td>\n",
              "      <td>0.134350</td>\n",
              "      <td>0.520063</td>\n",
              "      <td>1.147918</td>\n",
              "      <td>0.017312</td>\n",
              "      <td>1.139631</td>\n",
              "    </tr>\n",
              "    <tr>\n",
              "      <th>5</th>\n",
              "      <td>(Purchased)</td>\n",
              "      <td>(CPQ_Customer, CLM_Customer)</td>\n",
              "      <td>0.453049</td>\n",
              "      <td>0.258333</td>\n",
              "      <td>0.134350</td>\n",
              "      <td>0.296546</td>\n",
              "      <td>1.147918</td>\n",
              "      <td>0.017312</td>\n",
              "      <td>1.054321</td>\n",
              "    </tr>\n",
              "    <tr>\n",
              "      <th>0</th>\n",
              "      <td>(Purchased)</td>\n",
              "      <td>(CLM_Customer)</td>\n",
              "      <td>0.453049</td>\n",
              "      <td>0.467683</td>\n",
              "      <td>0.220528</td>\n",
              "      <td>0.486765</td>\n",
              "      <td>1.040802</td>\n",
              "      <td>0.008645</td>\n",
              "      <td>1.037181</td>\n",
              "    </tr>\n",
              "    <tr>\n",
              "      <th>1</th>\n",
              "      <td>(CLM_Customer)</td>\n",
              "      <td>(Purchased)</td>\n",
              "      <td>0.467683</td>\n",
              "      <td>0.453049</td>\n",
              "      <td>0.220528</td>\n",
              "      <td>0.471534</td>\n",
              "      <td>1.040802</td>\n",
              "      <td>0.008645</td>\n",
              "      <td>1.034979</td>\n",
              "    </tr>\n",
              "    <tr>\n",
              "      <th>2</th>\n",
              "      <td>(CPQ_Customer, CLM_Customer)</td>\n",
              "      <td>(IWA_Customer)</td>\n",
              "      <td>0.258333</td>\n",
              "      <td>0.387805</td>\n",
              "      <td>0.103252</td>\n",
              "      <td>0.399685</td>\n",
              "      <td>1.030635</td>\n",
              "      <td>0.003069</td>\n",
              "      <td>1.019790</td>\n",
              "    </tr>\n",
              "    <tr>\n",
              "      <th>3</th>\n",
              "      <td>(IWA_Customer)</td>\n",
              "      <td>(CPQ_Customer, CLM_Customer)</td>\n",
              "      <td>0.387805</td>\n",
              "      <td>0.258333</td>\n",
              "      <td>0.103252</td>\n",
              "      <td>0.266247</td>\n",
              "      <td>1.030635</td>\n",
              "      <td>0.003069</td>\n",
              "      <td>1.010786</td>\n",
              "    </tr>\n",
              "  </tbody>\n",
              "</table>\n",
              "</div>\n",
              "      <button class=\"colab-df-convert\" onclick=\"convertToInteractive('df-3a358b46-8d1c-4e13-bfa3-55ed32092609')\"\n",
              "              title=\"Convert this dataframe to an interactive table.\"\n",
              "              style=\"display:none;\">\n",
              "        \n",
              "  <svg xmlns=\"http://www.w3.org/2000/svg\" height=\"24px\"viewBox=\"0 0 24 24\"\n",
              "       width=\"24px\">\n",
              "    <path d=\"M0 0h24v24H0V0z\" fill=\"none\"/>\n",
              "    <path d=\"M18.56 5.44l.94 2.06.94-2.06 2.06-.94-2.06-.94-.94-2.06-.94 2.06-2.06.94zm-11 1L8.5 8.5l.94-2.06 2.06-.94-2.06-.94L8.5 2.5l-.94 2.06-2.06.94zm10 10l.94 2.06.94-2.06 2.06-.94-2.06-.94-.94-2.06-.94 2.06-2.06.94z\"/><path d=\"M17.41 7.96l-1.37-1.37c-.4-.4-.92-.59-1.43-.59-.52 0-1.04.2-1.43.59L10.3 9.45l-7.72 7.72c-.78.78-.78 2.05 0 2.83L4 21.41c.39.39.9.59 1.41.59.51 0 1.02-.2 1.41-.59l7.78-7.78 2.81-2.81c.8-.78.8-2.07 0-2.86zM5.41 20L4 18.59l7.72-7.72 1.47 1.35L5.41 20z\"/>\n",
              "  </svg>\n",
              "      </button>\n",
              "      \n",
              "  <style>\n",
              "    .colab-df-container {\n",
              "      display:flex;\n",
              "      flex-wrap:wrap;\n",
              "      gap: 12px;\n",
              "    }\n",
              "\n",
              "    .colab-df-convert {\n",
              "      background-color: #E8F0FE;\n",
              "      border: none;\n",
              "      border-radius: 50%;\n",
              "      cursor: pointer;\n",
              "      display: none;\n",
              "      fill: #1967D2;\n",
              "      height: 32px;\n",
              "      padding: 0 0 0 0;\n",
              "      width: 32px;\n",
              "    }\n",
              "\n",
              "    .colab-df-convert:hover {\n",
              "      background-color: #E2EBFA;\n",
              "      box-shadow: 0px 1px 2px rgba(60, 64, 67, 0.3), 0px 1px 3px 1px rgba(60, 64, 67, 0.15);\n",
              "      fill: #174EA6;\n",
              "    }\n",
              "\n",
              "    [theme=dark] .colab-df-convert {\n",
              "      background-color: #3B4455;\n",
              "      fill: #D2E3FC;\n",
              "    }\n",
              "\n",
              "    [theme=dark] .colab-df-convert:hover {\n",
              "      background-color: #434B5C;\n",
              "      box-shadow: 0px 1px 3px 1px rgba(0, 0, 0, 0.15);\n",
              "      filter: drop-shadow(0px 1px 2px rgba(0, 0, 0, 0.3));\n",
              "      fill: #FFFFFF;\n",
              "    }\n",
              "  </style>\n",
              "\n",
              "      <script>\n",
              "        const buttonEl =\n",
              "          document.querySelector('#df-3a358b46-8d1c-4e13-bfa3-55ed32092609 button.colab-df-convert');\n",
              "        buttonEl.style.display =\n",
              "          google.colab.kernel.accessAllowed ? 'block' : 'none';\n",
              "\n",
              "        async function convertToInteractive(key) {\n",
              "          const element = document.querySelector('#df-3a358b46-8d1c-4e13-bfa3-55ed32092609');\n",
              "          const dataTable =\n",
              "            await google.colab.kernel.invokeFunction('convertToInteractive',\n",
              "                                                     [key], {});\n",
              "          if (!dataTable) return;\n",
              "\n",
              "          const docLinkHtml = 'Like what you see? Visit the ' +\n",
              "            '<a target=\"_blank\" href=https://colab.research.google.com/notebooks/data_table.ipynb>data table notebook</a>'\n",
              "            + ' to learn more about interactive tables.';\n",
              "          element.innerHTML = '';\n",
              "          dataTable['output_type'] = 'display_data';\n",
              "          await google.colab.output.renderOutput(dataTable, element);\n",
              "          const docLink = document.createElement('div');\n",
              "          docLink.innerHTML = docLinkHtml;\n",
              "          element.appendChild(docLink);\n",
              "        }\n",
              "      </script>\n",
              "    </div>\n",
              "  </div>\n",
              "  "
            ]
          },
          "metadata": {},
          "execution_count": 280
        }
      ]
    },
    {
      "cell_type": "code",
      "source": [
        "#Testing the Market Basket Analysis Result\n",
        "cpq_clm_customers = mba_test[(mba_test['CPQ_Customer'] == 1) & (mba_test['CLM_Customer'] == 1)]\n",
        "test_y = cpq_clm_customers[['Purchased']]\n",
        "predicted_result = data[data['Purchased'] == 1].head(128)\n",
        "classes = predicted_result[['Purchased']]"
      ],
      "metadata": {
        "id": "3Z_zKispqFgn"
      },
      "id": "3Z_zKispqFgn",
      "execution_count": 281,
      "outputs": []
    },
    {
      "cell_type": "code",
      "source": [
        "#Evaluating Model\n",
        "print('Accuracy Score')\n",
        "print(metrics.accuracy_score(test_y, classes))"
      ],
      "metadata": {
        "colab": {
          "base_uri": "https://localhost:8080/"
        },
        "id": "WfQgIxiJMREH",
        "outputId": "cf9d492b-377e-4bdc-91f0-6ab6c0301e88"
      },
      "id": "WfQgIxiJMREH",
      "execution_count": 282,
      "outputs": [
        {
          "output_type": "stream",
          "name": "stdout",
          "text": [
            "Accuracy Score\n",
            "0.8828125\n"
          ]
        }
      ]
    },
    {
      "cell_type": "code",
      "source": [
        "#Printing Confusion Matrix\n",
        "print('Confusion Matrix')\n",
        "cf = metrics.confusion_matrix(test_y, classes)\n",
        "lbl1 = [\"Predicted 0\", \"Predicted 1\"]\n",
        "lbl2 = [\"True 0\", \"True 1\"]\n",
        "sns.heatmap(cf, annot=True, cmap = \"Greens\", fmt = \"d\", xticklabels = lbl1, yticklabels = lbl2)\n",
        "plt.show()"
      ],
      "metadata": {
        "colab": {
          "base_uri": "https://localhost:8080/",
          "height": 300
        },
        "id": "DTqAbN0rOXBA",
        "outputId": "94ca023f-7da1-43d9-dd42-a3c256888994"
      },
      "id": "DTqAbN0rOXBA",
      "execution_count": 283,
      "outputs": [
        {
          "output_type": "stream",
          "name": "stdout",
          "text": [
            "Confusion Matrix\n"
          ]
        },
        {
          "output_type": "execute_result",
          "data": {
            "text/plain": [
              "<matplotlib.axes._subplots.AxesSubplot at 0x7f67b223fb90>"
            ]
          },
          "metadata": {},
          "execution_count": 283
        },
        {
          "output_type": "display_data",
          "data": {
            "text/plain": [
              "<Figure size 432x288 with 2 Axes>"
            ],
            "image/png": "[encoded data removed]"
          },
          "metadata": {
            "needs_background": "light"
          }
        }
      ]
    },
    {
      "cell_type": "code",
      "source": [
        "#Clustering the Customers\n",
        "num_of_clusters = range(2,10)\n",
        "error = []"
      ],
      "metadata": {
        "id": "sCBeMOcOSdu0"
      },
      "id": "sCBeMOcOSdu0",
      "execution_count": 284,
      "outputs": []
    },
    {
      "cell_type": "code",
      "source": [
        "#Finding the optimal number of clusters using elbow method.\n",
        "for num_clusters in num_of_clusters:\n",
        "\tclusters = KMeans(num_clusters)\n",
        "\tclusters.fit(data)\n",
        "\terror.append(clusters.inertia_/100)\n",
        "df = pd.DataFrame({\"Cluster_Numbers\":num_of_clusters, \"Error_Term\" : error})\n",
        "df"
      ],
      "metadata": {
        "id": "8G90uELXTU-W",
        "colab": {
          "base_uri": "https://localhost:8080/",
          "height": 338
        },
        "outputId": "b521a08e-0740-4ae2-90f8-bc3003211121"
      },
      "id": "8G90uELXTU-W",
      "execution_count": 285,
      "outputs": [
        {
          "output_type": "execute_result",
          "data": {
            "text/plain": [
              "KMeans(n_clusters=2)"
            ]
          },
          "metadata": {},
          "execution_count": 285
        },
        {
          "output_type": "execute_result",
          "data": {
            "text/plain": [
              "KMeans(n_clusters=3)"
            ]
          },
          "metadata": {},
          "execution_count": 285
        },
        {
          "output_type": "execute_result",
          "data": {
            "text/plain": [
              "KMeans(n_clusters=4)"
            ]
          },
          "metadata": {},
          "execution_count": 285
        },
        {
          "output_type": "execute_result",
          "data": {
            "text/plain": [
              "KMeans(n_clusters=5)"
            ]
          },
          "metadata": {},
          "execution_count": 285
        },
        {
          "output_type": "execute_result",
          "data": {
            "text/plain": [
              "KMeans(n_clusters=6)"
            ]
          },
          "metadata": {},
          "execution_count": 285
        },
        {
          "output_type": "execute_result",
          "data": {
            "text/plain": [
              "KMeans(n_clusters=7)"
            ]
          },
          "metadata": {},
          "execution_count": 285
        },
        {
          "output_type": "execute_result",
          "data": {
            "text/plain": [
              "KMeans()"
            ]
          },
          "metadata": {},
          "execution_count": 285
        },
        {
          "output_type": "execute_result",
          "data": {
            "text/plain": [
              "KMeans(n_clusters=9)"
            ]
          },
          "metadata": {},
          "execution_count": 285
        },
        {
          "output_type": "execute_result",
          "data": {
            "text/plain": [
              "   Cluster_Numbers    Error_Term\n",
              "0                2  5.881319e+07\n",
              "1                3  2.613988e+07\n",
              "2                4  1.470486e+07\n",
              "3                5  9.410673e+06\n",
              "4                6  6.535327e+06\n",
              "5                7  4.802093e+06\n",
              "6                8  3.678842e+06\n",
              "7                9  2.905533e+06"
            ],
            "text/html": [
              "\n",
              "  <div id=\"df-5df08018-21bc-4691-ae6b-f781bb129d6a\">\n",
              "    <div class=\"colab-df-container\">\n",
              "      <div>\n",
              "<style scoped>\n",
              "    .dataframe tbody tr th:only-of-type {\n",
              "        vertical-align: middle;\n",
              "    }\n",
              "\n",
              "    .dataframe tbody tr th {\n",
              "        vertical-align: top;\n",
              "    }\n",
              "\n",
              "    .dataframe thead th {\n",
              "        text-align: right;\n",
              "    }\n",
              "</style>\n",
              "<table border=\"1\" class=\"dataframe\">\n",
              "  <thead>\n",
              "    <tr style=\"text-align: right;\">\n",
              "      <th></th>\n",
              "      <th>Cluster_Numbers</th>\n",
              "      <th>Error_Term</th>\n",
              "    </tr>\n",
              "  </thead>\n",
              "  <tbody>\n",
              "    <tr>\n",
              "      <th>0</th>\n",
              "      <td>2</td>\n",
              "      <td>5.881319e+07</td>\n",
              "    </tr>\n",
              "    <tr>\n",
              "      <th>1</th>\n",
              "      <td>3</td>\n",
              "      <td>2.613988e+07</td>\n",
              "    </tr>\n",
              "    <tr>\n",
              "      <th>2</th>\n",
              "      <td>4</td>\n",
              "      <td>1.470486e+07</td>\n",
              "    </tr>\n",
              "    <tr>\n",
              "      <th>3</th>\n",
              "      <td>5</td>\n",
              "      <td>9.410673e+06</td>\n",
              "    </tr>\n",
              "    <tr>\n",
              "      <th>4</th>\n",
              "      <td>6</td>\n",
              "      <td>6.535327e+06</td>\n",
              "    </tr>\n",
              "    <tr>\n",
              "      <th>5</th>\n",
              "      <td>7</td>\n",
              "      <td>4.802093e+06</td>\n",
              "    </tr>\n",
              "    <tr>\n",
              "      <th>6</th>\n",
              "      <td>8</td>\n",
              "      <td>3.678842e+06</td>\n",
              "    </tr>\n",
              "    <tr>\n",
              "      <th>7</th>\n",
              "      <td>9</td>\n",
              "      <td>2.905533e+06</td>\n",
              "    </tr>\n",
              "  </tbody>\n",
              "</table>\n",
              "</div>\n",
              "      <button class=\"colab-df-convert\" onclick=\"convertToInteractive('df-5df08018-21bc-4691-ae6b-f781bb129d6a')\"\n",
              "              title=\"Convert this dataframe to an interactive table.\"\n",
              "              style=\"display:none;\">\n",
              "        \n",
              "  <svg xmlns=\"http://www.w3.org/2000/svg\" height=\"24px\"viewBox=\"0 0 24 24\"\n",
              "       width=\"24px\">\n",
              "    <path d=\"M0 0h24v24H0V0z\" fill=\"none\"/>\n",
              "    <path d=\"M18.56 5.44l.94 2.06.94-2.06 2.06-.94-2.06-.94-.94-2.06-.94 2.06-2.06.94zm-11 1L8.5 8.5l.94-2.06 2.06-.94-2.06-.94L8.5 2.5l-.94 2.06-2.06.94zm10 10l.94 2.06.94-2.06 2.06-.94-2.06-.94-.94-2.06-.94 2.06-2.06.94z\"/><path d=\"M17.41 7.96l-1.37-1.37c-.4-.4-.92-.59-1.43-.59-.52 0-1.04.2-1.43.59L10.3 9.45l-7.72 7.72c-.78.78-.78 2.05 0 2.83L4 21.41c.39.39.9.59 1.41.59.51 0 1.02-.2 1.41-.59l7.78-7.78 2.81-2.81c.8-.78.8-2.07 0-2.86zM5.41 20L4 18.59l7.72-7.72 1.47 1.35L5.41 20z\"/>\n",
              "  </svg>\n",
              "      </button>\n",
              "      \n",
              "  <style>\n",
              "    .colab-df-container {\n",
              "      display:flex;\n",
              "      flex-wrap:wrap;\n",
              "      gap: 12px;\n",
              "    }\n",
              "\n",
              "    .colab-df-convert {\n",
              "      background-color: #E8F0FE;\n",
              "      border: none;\n",
              "      border-radius: 50%;\n",
              "      cursor: pointer;\n",
              "      display: none;\n",
              "      fill: #1967D2;\n",
              "      height: 32px;\n",
              "      padding: 0 0 0 0;\n",
              "      width: 32px;\n",
              "    }\n",
              "\n",
              "    .colab-df-convert:hover {\n",
              "      background-color: #E2EBFA;\n",
              "      box-shadow: 0px 1px 2px rgba(60, 64, 67, 0.3), 0px 1px 3px 1px rgba(60, 64, 67, 0.15);\n",
              "      fill: #174EA6;\n",
              "    }\n",
              "\n",
              "    [theme=dark] .colab-df-convert {\n",
              "      background-color: #3B4455;\n",
              "      fill: #D2E3FC;\n",
              "    }\n",
              "\n",
              "    [theme=dark] .colab-df-convert:hover {\n",
              "      background-color: #434B5C;\n",
              "      box-shadow: 0px 1px 3px 1px rgba(0, 0, 0, 0.15);\n",
              "      filter: drop-shadow(0px 1px 2px rgba(0, 0, 0, 0.3));\n",
              "      fill: #FFFFFF;\n",
              "    }\n",
              "  </style>\n",
              "\n",
              "      <script>\n",
              "        const buttonEl =\n",
              "          document.querySelector('#df-5df08018-21bc-4691-ae6b-f781bb129d6a button.colab-df-convert');\n",
              "        buttonEl.style.display =\n",
              "          google.colab.kernel.accessAllowed ? 'block' : 'none';\n",
              "\n",
              "        async function convertToInteractive(key) {\n",
              "          const element = document.querySelector('#df-5df08018-21bc-4691-ae6b-f781bb129d6a');\n",
              "          const dataTable =\n",
              "            await google.colab.kernel.invokeFunction('convertToInteractive',\n",
              "                                                     [key], {});\n",
              "          if (!dataTable) return;\n",
              "\n",
              "          const docLinkHtml = 'Like what you see? Visit the ' +\n",
              "            '<a target=\"_blank\" href=https://colab.research.google.com/notebooks/data_table.ipynb>data table notebook</a>'\n",
              "            + ' to learn more about interactive tables.';\n",
              "          element.innerHTML = '';\n",
              "          dataTable['output_type'] = 'display_data';\n",
              "          await google.colab.output.renderOutput(dataTable, element);\n",
              "          const docLink = document.createElement('div');\n",
              "          docLink.innerHTML = docLinkHtml;\n",
              "          element.appendChild(docLink);\n",
              "        }\n",
              "      </script>\n",
              "    </div>\n",
              "  </div>\n",
              "  "
            ]
          },
          "metadata": {},
          "execution_count": 285
        }
      ]
    },
    {
      "cell_type": "code",
      "source": [
        "#Printing the graph for output of Elbow method\n",
        "plt.figure(figsize=(10,5))\n",
        "plt.plot(df.Cluster_Numbers, df.Error_Term, marker = \"D\", color = 'red')\n",
        "plt.xlabel('Number of Clusters')\n",
        "plt.ylabel('SSE')\n",
        "plt.title('Find the optimal number of cluster')\n",
        "plt.show()"
      ],
      "metadata": {
        "id": "Gna0ZP-iT-LB",
        "colab": {
          "base_uri": "https://localhost:8080/",
          "height": 385
        },
        "outputId": "66f0370b-c8ba-4ebf-b71b-895391129ac7"
      },
      "id": "Gna0ZP-iT-LB",
      "execution_count": 286,
      "outputs": [
        {
          "output_type": "execute_result",
          "data": {
            "text/plain": [
              "<Figure size 720x360 with 0 Axes>"
            ]
          },
          "metadata": {},
          "execution_count": 286
        },
        {
          "output_type": "execute_result",
          "data": {
            "text/plain": [
              "[<matplotlib.lines.Line2D at 0x7f67b20acad0>]"
            ]
          },
          "metadata": {},
          "execution_count": 286
        },
        {
          "output_type": "execute_result",
          "data": {
            "text/plain": [
              "Text(0.5, 0, 'Number of Clusters')"
            ]
          },
          "metadata": {},
          "execution_count": 286
        },
        {
          "output_type": "execute_result",
          "data": {
            "text/plain": [
              "Text(0, 0.5, 'SSE')"
            ]
          },
          "metadata": {},
          "execution_count": 286
        },
        {
          "output_type": "execute_result",
          "data": {
            "text/plain": [
              "Text(0.5, 1.0, 'Find the optimal number of cluster')"
            ]
          },
          "metadata": {},
          "execution_count": 286
        },
        {
          "output_type": "display_data",
          "data": {
            "text/plain": [
              "<Figure size 720x360 with 1 Axes>"
            ],
            "image/png": "[encoded data removed]"
          },
          "metadata": {
            "needs_background": "light"
          }
        }
      ]
    },
    {
      "cell_type": "code",
      "source": [
        "#Creating 4 clusters based on the output of elbow method for finding optimal number of clusters\n",
        "clusters = KMeans(4)\n",
        "clusters.fit(data)\n",
        "clusters.labels_"
      ],
      "metadata": {
        "id": "XEuLclCYUj95",
        "colab": {
          "base_uri": "https://localhost:8080/"
        },
        "outputId": "f81bf752-94fc-42a3-d5d7-e5134a55dcc3"
      },
      "id": "XEuLclCYUj95",
      "execution_count": 287,
      "outputs": [
        {
          "output_type": "execute_result",
          "data": {
            "text/plain": [
              "KMeans(n_clusters=4)"
            ]
          },
          "metadata": {},
          "execution_count": 287
        },
        {
          "output_type": "execute_result",
          "data": {
            "text/plain": [
              "array([2, 2, 2, ..., 2, 2, 2], dtype=int32)"
            ]
          },
          "metadata": {},
          "execution_count": 287
        }
      ]
    },
    {
      "cell_type": "code",
      "source": [
        "#Labeling the cluster numbers in dataset \n",
        "data['Cluster'] = clusters.labels_\n",
        "data.head()\n",
        "data.tail()\n",
        "data.shape"
      ],
      "metadata": {
        "id": "FE3-w5GAU1rY",
        "colab": {
          "base_uri": "https://localhost:8080/",
          "height": 535
        },
        "outputId": "3b133966-845c-4cec-a249-8866fc814c9e"
      },
      "id": "FE3-w5GAU1rY",
      "execution_count": 288,
      "outputs": [
        {
          "output_type": "execute_result",
          "data": {
            "text/plain": [
              "   Id  Domain_Education  Domain_Finance  Domain_Healthcare  Domain_Telecom  \\\n",
              "0   1               1.0             0.0                0.0             0.0   \n",
              "1   2               1.0             0.0                0.0             0.0   \n",
              "2   3               1.0             0.0                0.0             0.0   \n",
              "3   4               1.0             0.0                0.0             0.0   \n",
              "4   5               1.0             0.0                0.0             0.0   \n",
              "\n",
              "   Domain_Insurance  Domain_Retail  Region_Africa  Region_Asia  \\\n",
              "0               0.0            0.0            1.0          0.0   \n",
              "1               0.0            0.0            1.0          0.0   \n",
              "2               0.0            0.0            1.0          0.0   \n",
              "3               0.0            0.0            1.0          0.0   \n",
              "4               0.0            0.0            1.0          0.0   \n",
              "\n",
              "   Region_Australia  ...  No_of_Products_already_purchased  \\\n",
              "0               0.0  ...                                 1   \n",
              "1               0.0  ...                                 1   \n",
              "2               0.0  ...                                 1   \n",
              "3               0.0  ...                                 1   \n",
              "4               0.0  ...                                 1   \n",
              "\n",
              "   Using_Similar_Product  CPQ_Customer  CLM_Customer  IWA_Customer  \\\n",
              "0                      1             1             0             0   \n",
              "1                      1             1             0             0   \n",
              "2                      0             1             0             0   \n",
              "3                      0             1             0             0   \n",
              "4                      1             1             0             0   \n",
              "\n",
              "   No_of_times_of_Renewal_  Purchased  No_Of_Years_Of_Association_Binned  \\\n",
              "0                        4          1                                  1   \n",
              "1                        3          1                                  1   \n",
              "2                        3          1                                  1   \n",
              "3                        1          1                                  1   \n",
              "4                        2          1                                  1   \n",
              "\n",
              "   No_Of_Bugs_Reported_Binned  Cluster  \n",
              "0                           1        2  \n",
              "1                           1        2  \n",
              "2                           1        2  \n",
              "3                           1        2  \n",
              "4                           1        2  \n",
              "\n",
              "[5 rows x 23 columns]"
            ],
            "text/html": [
              "\n",
              "  <div id=\"df-4a197733-4c47-4cde-99d8-ba609b6ca239\">\n",
              "    <div class=\"colab-df-container\">\n",
              "      <div>\n",
              "<style scoped>\n",
              "    .dataframe tbody tr th:only-of-type {\n",
              "        vertical-align: middle;\n",
              "    }\n",
              "\n",
              "    .dataframe tbody tr th {\n",
              "        vertical-align: top;\n",
              "    }\n",
              "\n",
              "    .dataframe thead th {\n",
              "        text-align: right;\n",
              "    }\n",
              "</style>\n",
              "<table border=\"1\" class=\"dataframe\">\n",
              "  <thead>\n",
              "    <tr style=\"text-align: right;\">\n",
              "      <th></th>\n",
              "      <th>Id</th>\n",
              "      <th>Domain_Education</th>\n",
              "      <th>Domain_Finance</th>\n",
              "      <th>Domain_Healthcare</th>\n",
              "      <th>Domain_Telecom</th>\n",
              "      <th>Domain_Insurance</th>\n",
              "      <th>Domain_Retail</th>\n",
              "      <th>Region_Africa</th>\n",
              "      <th>Region_Asia</th>\n",
              "      <th>Region_Australia</th>\n",
              "      <th>...</th>\n",
              "      <th>No_of_Products_already_purchased</th>\n",
              "      <th>Using_Similar_Product</th>\n",
              "      <th>CPQ_Customer</th>\n",
              "      <th>CLM_Customer</th>\n",
              "      <th>IWA_Customer</th>\n",
              "      <th>No_of_times_of_Renewal_</th>\n",
              "      <th>Purchased</th>\n",
              "      <th>No_Of_Years_Of_Association_Binned</th>\n",
              "      <th>No_Of_Bugs_Reported_Binned</th>\n",
              "      <th>Cluster</th>\n",
              "    </tr>\n",
              "  </thead>\n",
              "  <tbody>\n",
              "    <tr>\n",
              "      <th>0</th>\n",
              "      <td>1</td>\n",
              "      <td>1.0</td>\n",
              "      <td>0.0</td>\n",
              "      <td>0.0</td>\n",
              "      <td>0.0</td>\n",
              "      <td>0.0</td>\n",
              "      <td>0.0</td>\n",
              "      <td>1.0</td>\n",
              "      <td>0.0</td>\n",
              "      <td>0.0</td>\n",
              "      <td>...</td>\n",
              "      <td>1</td>\n",
              "      <td>1</td>\n",
              "      <td>1</td>\n",
              "      <td>0</td>\n",
              "      <td>0</td>\n",
              "      <td>4</td>\n",
              "      <td>1</td>\n",
              "      <td>1</td>\n",
              "      <td>1</td>\n",
              "      <td>2</td>\n",
              "    </tr>\n",
              "    <tr>\n",
              "      <th>1</th>\n",
              "      <td>2</td>\n",
              "      <td>1.0</td>\n",
              "      <td>0.0</td>\n",
              "      <td>0.0</td>\n",
              "      <td>0.0</td>\n",
              "      <td>0.0</td>\n",
              "      <td>0.0</td>\n",
              "      <td>1.0</td>\n",
              "      <td>0.0</td>\n",
              "      <td>0.0</td>\n",
              "      <td>...</td>\n",
              "      <td>1</td>\n",
              "      <td>1</td>\n",
              "      <td>1</td>\n",
              "      <td>0</td>\n",
              "      <td>0</td>\n",
              "      <td>3</td>\n",
              "      <td>1</td>\n",
              "      <td>1</td>\n",
              "      <td>1</td>\n",
              "      <td>2</td>\n",
              "    </tr>\n",
              "    <tr>\n",
              "      <th>2</th>\n",
              "      <td>3</td>\n",
              "      <td>1.0</td>\n",
              "      <td>0.0</td>\n",
              "      <td>0.0</td>\n",
              "      <td>0.0</td>\n",
              "      <td>0.0</td>\n",
              "      <td>0.0</td>\n",
              "      <td>1.0</td>\n",
              "      <td>0.0</td>\n",
              "      <td>0.0</td>\n",
              "      <td>...</td>\n",
              "      <td>1</td>\n",
              "      <td>0</td>\n",
              "      <td>1</td>\n",
              "      <td>0</td>\n",
              "      <td>0</td>\n",
              "      <td>3</td>\n",
              "      <td>1</td>\n",
              "      <td>1</td>\n",
              "      <td>1</td>\n",
              "      <td>2</td>\n",
              "    </tr>\n",
              "    <tr>\n",
              "      <th>3</th>\n",
              "      <td>4</td>\n",
              "      <td>1.0</td>\n",
              "      <td>0.0</td>\n",
              "      <td>0.0</td>\n",
              "      <td>0.0</td>\n",
              "      <td>0.0</td>\n",
              "      <td>0.0</td>\n",
              "      <td>1.0</td>\n",
              "      <td>0.0</td>\n",
              "      <td>0.0</td>\n",
              "      <td>...</td>\n",
              "      <td>1</td>\n",
              "      <td>0</td>\n",
              "      <td>1</td>\n",
              "      <td>0</td>\n",
              "      <td>0</td>\n",
              "      <td>1</td>\n",
              "      <td>1</td>\n",
              "      <td>1</td>\n",
              "      <td>1</td>\n",
              "      <td>2</td>\n",
              "    </tr>\n",
              "    <tr>\n",
              "      <th>4</th>\n",
              "      <td>5</td>\n",
              "      <td>1.0</td>\n",
              "      <td>0.0</td>\n",
              "      <td>0.0</td>\n",
              "      <td>0.0</td>\n",
              "      <td>0.0</td>\n",
              "      <td>0.0</td>\n",
              "      <td>1.0</td>\n",
              "      <td>0.0</td>\n",
              "      <td>0.0</td>\n",
              "      <td>...</td>\n",
              "      <td>1</td>\n",
              "      <td>1</td>\n",
              "      <td>1</td>\n",
              "      <td>0</td>\n",
              "      <td>0</td>\n",
              "      <td>2</td>\n",
              "      <td>1</td>\n",
              "      <td>1</td>\n",
              "      <td>1</td>\n",
              "      <td>2</td>\n",
              "    </tr>\n",
              "  </tbody>\n",
              "</table>\n",
              "<p>5 rows × 23 columns</p>\n",
              "</div>\n",
              "      <button class=\"colab-df-convert\" onclick=\"convertToInteractive('df-4a197733-4c47-4cde-99d8-ba609b6ca239')\"\n",
              "              title=\"Convert this dataframe to an interactive table.\"\n",
              "              style=\"display:none;\">\n",
              "        \n",
              "  <svg xmlns=\"http://www.w3.org/2000/svg\" height=\"24px\"viewBox=\"0 0 24 24\"\n",
              "       width=\"24px\">\n",
              "    <path d=\"M0 0h24v24H0V0z\" fill=\"none\"/>\n",
              "    <path d=\"M18.56 5.44l.94 2.06.94-2.06 2.06-.94-2.06-.94-.94-2.06-.94 2.06-2.06.94zm-11 1L8.5 8.5l.94-2.06 2.06-.94-2.06-.94L8.5 2.5l-.94 2.06-2.06.94zm10 10l.94 2.06.94-2.06 2.06-.94-2.06-.94-.94-2.06-.94 2.06-2.06.94z\"/><path d=\"M17.41 7.96l-1.37-1.37c-.4-.4-.92-.59-1.43-.59-.52 0-1.04.2-1.43.59L10.3 9.45l-7.72 7.72c-.78.78-.78 2.05 0 2.83L4 21.41c.39.39.9.59 1.41.59.51 0 1.02-.2 1.41-.59l7.78-7.78 2.81-2.81c.8-.78.8-2.07 0-2.86zM5.41 20L4 18.59l7.72-7.72 1.47 1.35L5.41 20z\"/>\n",
              "  </svg>\n",
              "      </button>\n",
              "      \n",
              "  <style>\n",
              "    .colab-df-container {\n",
              "      display:flex;\n",
              "      flex-wrap:wrap;\n",
              "      gap: 12px;\n",
              "    }\n",
              "\n",
              "    .colab-df-convert {\n",
              "      background-color: #E8F0FE;\n",
              "      border: none;\n",
              "      border-radius: 50%;\n",
              "      cursor: pointer;\n",
              "      display: none;\n",
              "      fill: #1967D2;\n",
              "      height: 32px;\n",
              "      padding: 0 0 0 0;\n",
              "      width: 32px;\n",
              "    }\n",
              "\n",
              "    .colab-df-convert:hover {\n",
              "      background-color: #E2EBFA;\n",
              "      box-shadow: 0px 1px 2px rgba(60, 64, 67, 0.3), 0px 1px 3px 1px rgba(60, 64, 67, 0.15);\n",
              "      fill: #174EA6;\n",
              "    }\n",
              "\n",
              "    [theme=dark] .colab-df-convert {\n",
              "      background-color: #3B4455;\n",
              "      fill: #D2E3FC;\n",
              "    }\n",
              "\n",
              "    [theme=dark] .colab-df-convert:hover {\n",
              "      background-color: #434B5C;\n",
              "      box-shadow: 0px 1px 3px 1px rgba(0, 0, 0, 0.15);\n",
              "      filter: drop-shadow(0px 1px 2px rgba(0, 0, 0, 0.3));\n",
              "      fill: #FFFFFF;\n",
              "    }\n",
              "  </style>\n",
              "\n",
              "      <script>\n",
              "        const buttonEl =\n",
              "          document.querySelector('#df-4a197733-4c47-4cde-99d8-ba609b6ca239 button.colab-df-convert');\n",
              "        buttonEl.style.display =\n",
              "          google.colab.kernel.accessAllowed ? 'block' : 'none';\n",
              "\n",
              "        async function convertToInteractive(key) {\n",
              "          const element = document.querySelector('#df-4a197733-4c47-4cde-99d8-ba609b6ca239');\n",
              "          const dataTable =\n",
              "            await google.colab.kernel.invokeFunction('convertToInteractive',\n",
              "                                                     [key], {});\n",
              "          if (!dataTable) return;\n",
              "\n",
              "          const docLinkHtml = 'Like what you see? Visit the ' +\n",
              "            '<a target=\"_blank\" href=https://colab.research.google.com/notebooks/data_table.ipynb>data table notebook</a>'\n",
              "            + ' to learn more about interactive tables.';\n",
              "          element.innerHTML = '';\n",
              "          dataTable['output_type'] = 'display_data';\n",
              "          await google.colab.output.renderOutput(dataTable, element);\n",
              "          const docLink = document.createElement('div');\n",
              "          docLink.innerHTML = docLinkHtml;\n",
              "          element.appendChild(docLink);\n",
              "        }\n",
              "      </script>\n",
              "    </div>\n",
              "  </div>\n",
              "  "
            ]
          },
          "metadata": {},
          "execution_count": 288
        },
        {
          "output_type": "execute_result",
          "data": {
            "text/plain": [
              "       Id  Domain_Education  Domain_Finance  Domain_Healthcare  \\\n",
              "6555  142               1.0             0.0                0.0   \n",
              "6556  143               1.0             0.0                0.0   \n",
              "6557  144               1.0             0.0                0.0   \n",
              "6558  145               1.0             0.0                0.0   \n",
              "6559  146               1.0             0.0                0.0   \n",
              "\n",
              "      Domain_Telecom  Domain_Insurance  Domain_Retail  Region_Africa  \\\n",
              "6555             0.0               0.0            0.0            1.0   \n",
              "6556             0.0               0.0            0.0            1.0   \n",
              "6557             0.0               0.0            0.0            1.0   \n",
              "6558             0.0               0.0            0.0            1.0   \n",
              "6559             0.0               0.0            0.0            1.0   \n",
              "\n",
              "      Region_Asia  Region_Australia  ...  No_of_Products_already_purchased  \\\n",
              "6555          0.0               0.0  ...                                 5   \n",
              "6556          0.0               0.0  ...                                 5   \n",
              "6557          0.0               0.0  ...                                 5   \n",
              "6558          0.0               0.0  ...                                 5   \n",
              "6559          0.0               0.0  ...                                 5   \n",
              "\n",
              "      Using_Similar_Product  CPQ_Customer  CLM_Customer  IWA_Customer  \\\n",
              "6555                      1             1             1             1   \n",
              "6556                      0             1             1             1   \n",
              "6557                      0             1             1             1   \n",
              "6558                      0             1             1             1   \n",
              "6559                      0             1             1             1   \n",
              "\n",
              "      No_of_times_of_Renewal_  Purchased  No_Of_Years_Of_Association_Binned  \\\n",
              "6555                        1          0                                  4   \n",
              "6556                        2          0                                  4   \n",
              "6557                        4          0                                  4   \n",
              "6558                        1          0                                  4   \n",
              "6559                        3          0                                  4   \n",
              "\n",
              "      No_Of_Bugs_Reported_Binned  Cluster  \n",
              "6555                           4        2  \n",
              "6556                           4        2  \n",
              "6557                           4        2  \n",
              "6558                           4        2  \n",
              "6559                           4        2  \n",
              "\n",
              "[5 rows x 23 columns]"
            ],
            "text/html": [
              "\n",
              "  <div id=\"df-42cf3729-bf73-489f-b121-7861e2b29ddb\">\n",
              "    <div class=\"colab-df-container\">\n",
              "      <div>\n",
              "<style scoped>\n",
              "    .dataframe tbody tr th:only-of-type {\n",
              "        vertical-align: middle;\n",
              "    }\n",
              "\n",
              "    .dataframe tbody tr th {\n",
              "        vertical-align: top;\n",
              "    }\n",
              "\n",
              "    .dataframe thead th {\n",
              "        text-align: right;\n",
              "    }\n",
              "</style>\n",
              "<table border=\"1\" class=\"dataframe\">\n",
              "  <thead>\n",
              "    <tr style=\"text-align: right;\">\n",
              "      <th></th>\n",
              "      <th>Id</th>\n",
              "      <th>Domain_Education</th>\n",
              "      <th>Domain_Finance</th>\n",
              "      <th>Domain_Healthcare</th>\n",
              "      <th>Domain_Telecom</th>\n",
              "      <th>Domain_Insurance</th>\n",
              "      <th>Domain_Retail</th>\n",
              "      <th>Region_Africa</th>\n",
              "      <th>Region_Asia</th>\n",
              "      <th>Region_Australia</th>\n",
              "      <th>...</th>\n",
              "      <th>No_of_Products_already_purchased</th>\n",
              "      <th>Using_Similar_Product</th>\n",
              "      <th>CPQ_Customer</th>\n",
              "      <th>CLM_Customer</th>\n",
              "      <th>IWA_Customer</th>\n",
              "      <th>No_of_times_of_Renewal_</th>\n",
              "      <th>Purchased</th>\n",
              "      <th>No_Of_Years_Of_Association_Binned</th>\n",
              "      <th>No_Of_Bugs_Reported_Binned</th>\n",
              "      <th>Cluster</th>\n",
              "    </tr>\n",
              "  </thead>\n",
              "  <tbody>\n",
              "    <tr>\n",
              "      <th>6555</th>\n",
              "      <td>142</td>\n",
              "      <td>1.0</td>\n",
              "      <td>0.0</td>\n",
              "      <td>0.0</td>\n",
              "      <td>0.0</td>\n",
              "      <td>0.0</td>\n",
              "      <td>0.0</td>\n",
              "      <td>1.0</td>\n",
              "      <td>0.0</td>\n",
              "      <td>0.0</td>\n",
              "      <td>...</td>\n",
              "      <td>5</td>\n",
              "      <td>1</td>\n",
              "      <td>1</td>\n",
              "      <td>1</td>\n",
              "      <td>1</td>\n",
              "      <td>1</td>\n",
              "      <td>0</td>\n",
              "      <td>4</td>\n",
              "      <td>4</td>\n",
              "      <td>2</td>\n",
              "    </tr>\n",
              "    <tr>\n",
              "      <th>6556</th>\n",
              "      <td>143</td>\n",
              "      <td>1.0</td>\n",
              "      <td>0.0</td>\n",
              "      <td>0.0</td>\n",
              "      <td>0.0</td>\n",
              "      <td>0.0</td>\n",
              "      <td>0.0</td>\n",
              "      <td>1.0</td>\n",
              "      <td>0.0</td>\n",
              "      <td>0.0</td>\n",
              "      <td>...</td>\n",
              "      <td>5</td>\n",
              "      <td>0</td>\n",
              "      <td>1</td>\n",
              "      <td>1</td>\n",
              "      <td>1</td>\n",
              "      <td>2</td>\n",
              "      <td>0</td>\n",
              "      <td>4</td>\n",
              "      <td>4</td>\n",
              "      <td>2</td>\n",
              "    </tr>\n",
              "    <tr>\n",
              "      <th>6557</th>\n",
              "      <td>144</td>\n",
              "      <td>1.0</td>\n",
              "      <td>0.0</td>\n",
              "      <td>0.0</td>\n",
              "      <td>0.0</td>\n",
              "      <td>0.0</td>\n",
              "      <td>0.0</td>\n",
              "      <td>1.0</td>\n",
              "      <td>0.0</td>\n",
              "      <td>0.0</td>\n",
              "      <td>...</td>\n",
              "      <td>5</td>\n",
              "      <td>0</td>\n",
              "      <td>1</td>\n",
              "      <td>1</td>\n",
              "      <td>1</td>\n",
              "      <td>4</td>\n",
              "      <td>0</td>\n",
              "      <td>4</td>\n",
              "      <td>4</td>\n",
              "      <td>2</td>\n",
              "    </tr>\n",
              "    <tr>\n",
              "      <th>6558</th>\n",
              "      <td>145</td>\n",
              "      <td>1.0</td>\n",
              "      <td>0.0</td>\n",
              "      <td>0.0</td>\n",
              "      <td>0.0</td>\n",
              "      <td>0.0</td>\n",
              "      <td>0.0</td>\n",
              "      <td>1.0</td>\n",
              "      <td>0.0</td>\n",
              "      <td>0.0</td>\n",
              "      <td>...</td>\n",
              "      <td>5</td>\n",
              "      <td>0</td>\n",
              "      <td>1</td>\n",
              "      <td>1</td>\n",
              "      <td>1</td>\n",
              "      <td>1</td>\n",
              "      <td>0</td>\n",
              "      <td>4</td>\n",
              "      <td>4</td>\n",
              "      <td>2</td>\n",
              "    </tr>\n",
              "    <tr>\n",
              "      <th>6559</th>\n",
              "      <td>146</td>\n",
              "      <td>1.0</td>\n",
              "      <td>0.0</td>\n",
              "      <td>0.0</td>\n",
              "      <td>0.0</td>\n",
              "      <td>0.0</td>\n",
              "      <td>0.0</td>\n",
              "      <td>1.0</td>\n",
              "      <td>0.0</td>\n",
              "      <td>0.0</td>\n",
              "      <td>...</td>\n",
              "      <td>5</td>\n",
              "      <td>0</td>\n",
              "      <td>1</td>\n",
              "      <td>1</td>\n",
              "      <td>1</td>\n",
              "      <td>3</td>\n",
              "      <td>0</td>\n",
              "      <td>4</td>\n",
              "      <td>4</td>\n",
              "      <td>2</td>\n",
              "    </tr>\n",
              "  </tbody>\n",
              "</table>\n",
              "<p>5 rows × 23 columns</p>\n",
              "</div>\n",
              "      <button class=\"colab-df-convert\" onclick=\"convertToInteractive('df-42cf3729-bf73-489f-b121-7861e2b29ddb')\"\n",
              "              title=\"Convert this dataframe to an interactive table.\"\n",
              "              style=\"display:none;\">\n",
              "        \n",
              "  <svg xmlns=\"http://www.w3.org/2000/svg\" height=\"24px\"viewBox=\"0 0 24 24\"\n",
              "       width=\"24px\">\n",
              "    <path d=\"M0 0h24v24H0V0z\" fill=\"none\"/>\n",
              "    <path d=\"M18.56 5.44l.94 2.06.94-2.06 2.06-.94-2.06-.94-.94-2.06-.94 2.06-2.06.94zm-11 1L8.5 8.5l.94-2.06 2.06-.94-2.06-.94L8.5 2.5l-.94 2.06-2.06.94zm10 10l.94 2.06.94-2.06 2.06-.94-2.06-.94-.94-2.06-.94 2.06-2.06.94z\"/><path d=\"M17.41 7.96l-1.37-1.37c-.4-.4-.92-.59-1.43-.59-.52 0-1.04.2-1.43.59L10.3 9.45l-7.72 7.72c-.78.78-.78 2.05 0 2.83L4 21.41c.39.39.9.59 1.41.59.51 0 1.02-.2 1.41-.59l7.78-7.78 2.81-2.81c.8-.78.8-2.07 0-2.86zM5.41 20L4 18.59l7.72-7.72 1.47 1.35L5.41 20z\"/>\n",
              "  </svg>\n",
              "      </button>\n",
              "      \n",
              "  <style>\n",
              "    .colab-df-container {\n",
              "      display:flex;\n",
              "      flex-wrap:wrap;\n",
              "      gap: 12px;\n",
              "    }\n",
              "\n",
              "    .colab-df-convert {\n",
              "      background-color: #E8F0FE;\n",
              "      border: none;\n",
              "      border-radius: 50%;\n",
              "      cursor: pointer;\n",
              "      display: none;\n",
              "      fill: #1967D2;\n",
              "      height: 32px;\n",
              "      padding: 0 0 0 0;\n",
              "      width: 32px;\n",
              "    }\n",
              "\n",
              "    .colab-df-convert:hover {\n",
              "      background-color: #E2EBFA;\n",
              "      box-shadow: 0px 1px 2px rgba(60, 64, 67, 0.3), 0px 1px 3px 1px rgba(60, 64, 67, 0.15);\n",
              "      fill: #174EA6;\n",
              "    }\n",
              "\n",
              "    [theme=dark] .colab-df-convert {\n",
              "      background-color: #3B4455;\n",
              "      fill: #D2E3FC;\n",
              "    }\n",
              "\n",
              "    [theme=dark] .colab-df-convert:hover {\n",
              "      background-color: #434B5C;\n",
              "      box-shadow: 0px 1px 3px 1px rgba(0, 0, 0, 0.15);\n",
              "      filter: drop-shadow(0px 1px 2px rgba(0, 0, 0, 0.3));\n",
              "      fill: #FFFFFF;\n",
              "    }\n",
              "  </style>\n",
              "\n",
              "      <script>\n",
              "        const buttonEl =\n",
              "          document.querySelector('#df-42cf3729-bf73-489f-b121-7861e2b29ddb button.colab-df-convert');\n",
              "        buttonEl.style.display =\n",
              "          google.colab.kernel.accessAllowed ? 'block' : 'none';\n",
              "\n",
              "        async function convertToInteractive(key) {\n",
              "          const element = document.querySelector('#df-42cf3729-bf73-489f-b121-7861e2b29ddb');\n",
              "          const dataTable =\n",
              "            await google.colab.kernel.invokeFunction('convertToInteractive',\n",
              "                                                     [key], {});\n",
              "          if (!dataTable) return;\n",
              "\n",
              "          const docLinkHtml = 'Like what you see? Visit the ' +\n",
              "            '<a target=\"_blank\" href=https://colab.research.google.com/notebooks/data_table.ipynb>data table notebook</a>'\n",
              "            + ' to learn more about interactive tables.';\n",
              "          element.innerHTML = '';\n",
              "          dataTable['output_type'] = 'display_data';\n",
              "          await google.colab.output.renderOutput(dataTable, element);\n",
              "          const docLink = document.createElement('div');\n",
              "          docLink.innerHTML = docLinkHtml;\n",
              "          element.appendChild(docLink);\n",
              "        }\n",
              "      </script>\n",
              "    </div>\n",
              "  </div>\n",
              "  "
            ]
          },
          "metadata": {},
          "execution_count": 288
        },
        {
          "output_type": "execute_result",
          "data": {
            "text/plain": [
              "(6560, 23)"
            ]
          },
          "metadata": {},
          "execution_count": 288
        }
      ]
    },
    {
      "cell_type": "code",
      "source": [
        "#Count of customers in each cluster\n",
        "print(data[(data['Cluster'] == 0)].shape[0])\n",
        "print(data[(data['Cluster'] == 1)].shape[0])\n",
        "print(data[(data['Cluster'] == 2)].shape[0])\n",
        "print(data[(data['Cluster'] == 3)].shape[0])"
      ],
      "metadata": {
        "id": "dto1SbVkYGnD",
        "colab": {
          "base_uri": "https://localhost:8080/"
        },
        "outputId": "c4c0b769-2e3b-4ed4-ae1c-78cfc5534a7f"
      },
      "id": "dto1SbVkYGnD",
      "execution_count": 289,
      "outputs": [
        {
          "output_type": "stream",
          "name": "stdout",
          "text": [
            "1647\n",
            "1638\n",
            "1631\n",
            "1644\n"
          ]
        }
      ]
    },
    {
      "cell_type": "code",
      "source": [
        "#Count of customers who purchased the product in each cluster\n",
        "print(data[(data['Cluster'] == 0) & (data['Purchased'] == 1)].shape[0])\n",
        "print(data[(data['Cluster'] == 1) & (data['Purchased'] == 1)].shape[0])\n",
        "print(data[(data['Cluster'] == 2) & (data['Purchased'] == 1)].shape[0])\n",
        "print(data[(data['Cluster'] == 3) & (data['Purchased'] == 1)].shape[0])"
      ],
      "metadata": {
        "colab": {
          "base_uri": "https://localhost:8080/"
        },
        "id": "nYdc7Pabx5-h",
        "outputId": "bf0fdee4-cf19-441e-d583-a25ac6bfb0ab"
      },
      "id": "nYdc7Pabx5-h",
      "execution_count": 290,
      "outputs": [
        {
          "output_type": "stream",
          "name": "stdout",
          "text": [
            "672\n",
            "1157\n",
            "647\n",
            "410\n"
          ]
        }
      ]
    }
  ],
  "metadata": {
    "kernelspec": {
      "display_name": "Python 3 (ipykernel)",
      "language": "python",
      "name": "python3"
    },
    "language_info": {
      "codemirror_mode": {
        "name": "ipython",
        "version": 3
      },
      "file_extension": ".py",
      "mimetype": "text/x-python",
      "name": "python",
      "nbconvert_exporter": "python",
      "pygments_lexer": "ipython3",
      "version": "3.9.12"
    },
    "colab": {
      "provenance": [],
      "collapsed_sections": []
    },
    "accelerator": "GPU",
    "gpuClass": "standard"
  },
  "nbformat": 4,
  "nbformat_minor": 5
}